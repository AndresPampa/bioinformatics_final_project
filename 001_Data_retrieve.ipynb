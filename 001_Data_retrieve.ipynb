{
 "cells": [
  {
   "cell_type": "code",
   "execution_count": 30,
   "id": "fdb81e9b-de92-4614-acdf-fc50d739c8d0",
   "metadata": {},
   "outputs": [
    {
     "name": "stdout",
     "output_type": "stream",
     "text": [
      "The autoreload extension is already loaded. To reload it, use:\n",
      "  %reload_ext autoreload\n"
     ]
    }
   ],
   "source": [
    "%load_ext autoreload\n",
    "%autoreload 2"
   ]
  },
  {
   "cell_type": "markdown",
   "id": "0f63690e-2afb-4096-9462-b66f5425bcda",
   "metadata": {},
   "source": [
    "# Proyecto final Bioinformática (NLP)"
   ]
  },
  {
   "cell_type": "markdown",
   "id": "d70fde61-b8d1-4d2b-adf5-5d9670891d15",
   "metadata": {},
   "source": [
    "Mirar el siguiente video. Sobre todo la primer parte como para tener contexto sobre descubrimiento de drogas:\n",
    "\n",
    "https://www.youtube.com/watch?v=jBlTQjcKuaY"
   ]
  },
  {
   "cell_type": "markdown",
   "id": "5e532b12-83cc-4a5e-9f0e-d53459b26a37",
   "metadata": {},
   "source": [
    "Resumen y puntos importantes del video:\n",
    "- Queremos entender la bioactividad de una molecúla (molecule_chembl_id) sobre una encima (Acetylcholinesterase)\n",
    "- La bioactividad se medirá en este caso con el IC50 (standard_value)\n",
    "- A menor IC50, menos droga para generar la misma actividad, es decir, mayor actividad relativa\n",
    "- La notación de la fórmula química se llama smiles (https://en.wikipedia.org/wiki/Simplified_molecular-input_line-entry_system)\n",
    "- Existen distintas técnicas para obtener features de las moléculas y en el video se describen 2:\n",
    "    - Descriptores de Lipinski\n",
    "    - Fingerprints del tipo pubchem\n",
    "- Se construye un modelo de regresión con RandomForest para estimar el pI50 (IC50 en escala logarítimica) dado los fingerprints de entrada"
   ]
  },
  {
   "cell_type": "markdown",
   "id": "1da95879-3221-4d3c-9815-2cc16d6f65b7",
   "metadata": {},
   "source": [
    "### Objetivos del proyecto:\n",
    "- Evaluar distintas alternativas de modelos de deep learning para resolver este problema\n",
    "    - LSTM\n",
    "    - CNN\n",
    "    - TextCNN\n",
    "- Mejorar la métrica del RandomForest\n",
    "- En vez de ingresar con los features de entrada (fingerprints) como en el video, utilizar técnicas de embeddings usuales en NLP\n",
    "    - Tokenización en modo caracter dado el smiles de la fórmula química\n",
    "    - Utilizando un tokenizer sobre los smiles\n",
    "    - Puedo usar técnicas modernas de tokenización (https://deepchem.readthedocs.io/en/2.4.0/api_reference/tokenizers.html)\n",
    "- La salida a estimar por el modelo será el pIC50\n",
    "- La métrica, para comparar con los resultados del RandomForest será el $R^2$"
   ]
  },
  {
   "cell_type": "markdown",
   "id": "d621c55a-a01c-48c7-b6df-cf64f12b6835",
   "metadata": {
    "tags": []
   },
   "source": [
    "### Librerías:\n",
    "- chembl-webresource-client: Para bajar el dataset (https://pypi.org/project/chembl-webresource-client/)\n",
    "- deepchem: libería muy interesante con muchas implementaciones de deep learning aplicadas a la química (https://github.com/deepchem/deepchem)"
   ]
  },
  {
   "cell_type": "code",
   "execution_count": 31,
   "id": "f1223f4c-2be6-4f46-baa4-a661562713b6",
   "metadata": {
    "tags": []
   },
   "outputs": [],
   "source": [
    "# ! pip install chembl_webresource_client"
   ]
  },
  {
   "cell_type": "code",
   "execution_count": 32,
   "id": "e5659e18-1410-4ecc-b7c1-1848448c9a7c",
   "metadata": {
    "tags": []
   },
   "outputs": [],
   "source": [
    "# ! pip install deepchem"
   ]
  },
  {
   "cell_type": "code",
   "execution_count": 33,
   "id": "80ccdc33-30b0-4266-8703-080ad56dce22",
   "metadata": {
    "tags": []
   },
   "outputs": [],
   "source": [
    "import pandas as pd\n",
    "from chembl_webresource_client.new_client import new_client"
   ]
  },
  {
   "cell_type": "markdown",
   "id": "9c5a7da0-e660-41c0-9000-e2ad86bc4a6a",
   "metadata": {},
   "source": [
    "# Cliente API\n",
    "\n",
    "En esta notebook solo se baja el dataset. No tiene que hacer nada más que ejecutarla y entenderla\n",
    "\n",
    "Librería para baja el dataset"
   ]
  },
  {
   "cell_type": "code",
   "execution_count": 34,
   "id": "996336bf-261f-47af-8fe6-4f1635acdea6",
   "metadata": {},
   "outputs": [],
   "source": [
    "target = new_client.target\n",
    "target_query = target.search('acetylcholinesterase')\n",
    "targets = pd.DataFrame.from_dict(target_query)"
   ]
  },
  {
   "cell_type": "code",
   "execution_count": 35,
   "id": "c9396382-0723-4e74-b290-8fa9b88e3daa",
   "metadata": {},
   "outputs": [
    {
     "data": {
      "text/html": [
       "<div>\n",
       "<style scoped>\n",
       "    .dataframe tbody tr th:only-of-type {\n",
       "        vertical-align: middle;\n",
       "    }\n",
       "\n",
       "    .dataframe tbody tr th {\n",
       "        vertical-align: top;\n",
       "    }\n",
       "\n",
       "    .dataframe thead th {\n",
       "        text-align: right;\n",
       "    }\n",
       "</style>\n",
       "<table border=\"1\" class=\"dataframe\">\n",
       "  <thead>\n",
       "    <tr style=\"text-align: right;\">\n",
       "      <th></th>\n",
       "      <th>cross_references</th>\n",
       "      <th>organism</th>\n",
       "      <th>pref_name</th>\n",
       "      <th>score</th>\n",
       "      <th>species_group_flag</th>\n",
       "      <th>target_chembl_id</th>\n",
       "      <th>target_components</th>\n",
       "      <th>target_type</th>\n",
       "      <th>tax_id</th>\n",
       "    </tr>\n",
       "  </thead>\n",
       "  <tbody>\n",
       "    <tr>\n",
       "      <th>0</th>\n",
       "      <td>[{'xref_id': 'P22303', 'xref_name': None, 'xre...</td>\n",
       "      <td>Homo sapiens</td>\n",
       "      <td>Acetylcholinesterase</td>\n",
       "      <td>27.0</td>\n",
       "      <td>False</td>\n",
       "      <td>CHEMBL220</td>\n",
       "      <td>[{'accession': 'P22303', 'component_descriptio...</td>\n",
       "      <td>SINGLE PROTEIN</td>\n",
       "      <td>9606</td>\n",
       "    </tr>\n",
       "    <tr>\n",
       "      <th>1</th>\n",
       "      <td>[]</td>\n",
       "      <td>Homo sapiens</td>\n",
       "      <td>Cholinesterases; ACHE &amp; BCHE</td>\n",
       "      <td>27.0</td>\n",
       "      <td>False</td>\n",
       "      <td>CHEMBL2095233</td>\n",
       "      <td>[{'accession': 'P06276', 'component_descriptio...</td>\n",
       "      <td>SELECTIVITY GROUP</td>\n",
       "      <td>9606</td>\n",
       "    </tr>\n",
       "    <tr>\n",
       "      <th>2</th>\n",
       "      <td>[]</td>\n",
       "      <td>Drosophila melanogaster</td>\n",
       "      <td>Acetylcholinesterase</td>\n",
       "      <td>17.0</td>\n",
       "      <td>False</td>\n",
       "      <td>CHEMBL2242744</td>\n",
       "      <td>[{'accession': 'P07140', 'component_descriptio...</td>\n",
       "      <td>SINGLE PROTEIN</td>\n",
       "      <td>7227</td>\n",
       "    </tr>\n",
       "    <tr>\n",
       "      <th>3</th>\n",
       "      <td>[{'xref_id': 'P04058', 'xref_name': None, 'xre...</td>\n",
       "      <td>Torpedo californica</td>\n",
       "      <td>Acetylcholinesterase</td>\n",
       "      <td>15.0</td>\n",
       "      <td>False</td>\n",
       "      <td>CHEMBL4780</td>\n",
       "      <td>[{'accession': 'P04058', 'component_descriptio...</td>\n",
       "      <td>SINGLE PROTEIN</td>\n",
       "      <td>7787</td>\n",
       "    </tr>\n",
       "    <tr>\n",
       "      <th>4</th>\n",
       "      <td>[{'xref_id': 'P21836', 'xref_name': None, 'xre...</td>\n",
       "      <td>Mus musculus</td>\n",
       "      <td>Acetylcholinesterase</td>\n",
       "      <td>15.0</td>\n",
       "      <td>False</td>\n",
       "      <td>CHEMBL3198</td>\n",
       "      <td>[{'accession': 'P21836', 'component_descriptio...</td>\n",
       "      <td>SINGLE PROTEIN</td>\n",
       "      <td>10090</td>\n",
       "    </tr>\n",
       "  </tbody>\n",
       "</table>\n",
       "</div>"
      ],
      "text/plain": [
       "                                    cross_references                 organism  \\\n",
       "0  [{'xref_id': 'P22303', 'xref_name': None, 'xre...             Homo sapiens   \n",
       "1                                                 []             Homo sapiens   \n",
       "2                                                 []  Drosophila melanogaster   \n",
       "3  [{'xref_id': 'P04058', 'xref_name': None, 'xre...      Torpedo californica   \n",
       "4  [{'xref_id': 'P21836', 'xref_name': None, 'xre...             Mus musculus   \n",
       "\n",
       "                      pref_name  score  species_group_flag target_chembl_id  \\\n",
       "0          Acetylcholinesterase   27.0               False        CHEMBL220   \n",
       "1  Cholinesterases; ACHE & BCHE   27.0               False    CHEMBL2095233   \n",
       "2          Acetylcholinesterase   17.0               False    CHEMBL2242744   \n",
       "3          Acetylcholinesterase   15.0               False       CHEMBL4780   \n",
       "4          Acetylcholinesterase   15.0               False       CHEMBL3198   \n",
       "\n",
       "                                   target_components        target_type  \\\n",
       "0  [{'accession': 'P22303', 'component_descriptio...     SINGLE PROTEIN   \n",
       "1  [{'accession': 'P06276', 'component_descriptio...  SELECTIVITY GROUP   \n",
       "2  [{'accession': 'P07140', 'component_descriptio...     SINGLE PROTEIN   \n",
       "3  [{'accession': 'P04058', 'component_descriptio...     SINGLE PROTEIN   \n",
       "4  [{'accession': 'P21836', 'component_descriptio...     SINGLE PROTEIN   \n",
       "\n",
       "   tax_id  \n",
       "0    9606  \n",
       "1    9606  \n",
       "2    7227  \n",
       "3    7787  \n",
       "4   10090  "
      ]
     },
     "execution_count": 35,
     "metadata": {},
     "output_type": "execute_result"
    }
   ],
   "source": [
    "targets.head()"
   ]
  },
  {
   "cell_type": "code",
   "execution_count": 36,
   "id": "80c0c43c-b00c-4f82-b52f-1b5df6d04e59",
   "metadata": {},
   "outputs": [
    {
     "data": {
      "text/plain": [
       "'CHEMBL220'"
      ]
     },
     "execution_count": 36,
     "metadata": {},
     "output_type": "execute_result"
    }
   ],
   "source": [
    "selected_target = targets.target_chembl_id[0]\n",
    "selected_target\n",
    "# 'CHEMBL220'"
   ]
  },
  {
   "cell_type": "code",
   "execution_count": 37,
   "id": "5f5d536c-1268-4ef5-9eff-73492f24fbec",
   "metadata": {},
   "outputs": [],
   "source": [
    "activity = new_client.activity\n",
    "res = activity.filter(target_chembl_id=selected_target).filter(standard_type=\"IC50\")"
   ]
  },
  {
   "cell_type": "markdown",
   "id": "51107422-8cb2-4b77-bab5-eb2495e1a814",
   "metadata": {},
   "source": [
    "# Bajada de data\n",
    "Puede tardar un poco dependiendo de que tan saturado este el server\n",
    "\n",
    "Por eso el for, para ver el progreso y bajar la ansiedad. Son en el orden de 7500K"
   ]
  },
  {
   "cell_type": "code",
   "execution_count": 38,
   "id": "1afbf1a9-a4c9-4aec-8255-63948e667b3c",
   "metadata": {},
   "outputs": [
    {
     "name": "stdout",
     "output_type": "stream",
     "text": [
      "8204\r"
     ]
    }
   ],
   "source": [
    "res_cols = []\n",
    "for i, r in enumerate(res):\n",
    "    print(f'{i}\\r', end='')\n",
    "    res_cols.append(r)"
   ]
  },
  {
   "cell_type": "code",
   "execution_count": 39,
   "id": "e8f48b84-3f49-42e7-9973-30e9abb55641",
   "metadata": {},
   "outputs": [],
   "source": [
    "df = pd.DataFrame(res_cols)"
   ]
  },
  {
   "cell_type": "code",
   "execution_count": 40,
   "id": "e33ba495-9f3b-4bad-9639-a4496c7e2eef",
   "metadata": {},
   "outputs": [
    {
     "data": {
      "text/html": [
       "<div>\n",
       "<style scoped>\n",
       "    .dataframe tbody tr th:only-of-type {\n",
       "        vertical-align: middle;\n",
       "    }\n",
       "\n",
       "    .dataframe tbody tr th {\n",
       "        vertical-align: top;\n",
       "    }\n",
       "\n",
       "    .dataframe thead th {\n",
       "        text-align: right;\n",
       "    }\n",
       "</style>\n",
       "<table border=\"1\" class=\"dataframe\">\n",
       "  <thead>\n",
       "    <tr style=\"text-align: right;\">\n",
       "      <th></th>\n",
       "      <th>activity_comment</th>\n",
       "      <th>activity_id</th>\n",
       "      <th>activity_properties</th>\n",
       "      <th>assay_chembl_id</th>\n",
       "      <th>assay_description</th>\n",
       "      <th>assay_type</th>\n",
       "      <th>assay_variant_accession</th>\n",
       "      <th>assay_variant_mutation</th>\n",
       "      <th>bao_endpoint</th>\n",
       "      <th>bao_format</th>\n",
       "      <th>...</th>\n",
       "      <th>target_organism</th>\n",
       "      <th>target_pref_name</th>\n",
       "      <th>target_tax_id</th>\n",
       "      <th>text_value</th>\n",
       "      <th>toid</th>\n",
       "      <th>type</th>\n",
       "      <th>units</th>\n",
       "      <th>uo_units</th>\n",
       "      <th>upper_value</th>\n",
       "      <th>value</th>\n",
       "    </tr>\n",
       "  </thead>\n",
       "  <tbody>\n",
       "    <tr>\n",
       "      <th>0</th>\n",
       "      <td>None</td>\n",
       "      <td>33969</td>\n",
       "      <td>[]</td>\n",
       "      <td>CHEMBL643384</td>\n",
       "      <td>Inhibitory concentration against acetylcholine...</td>\n",
       "      <td>B</td>\n",
       "      <td>None</td>\n",
       "      <td>None</td>\n",
       "      <td>BAO_0000190</td>\n",
       "      <td>BAO_0000357</td>\n",
       "      <td>...</td>\n",
       "      <td>Homo sapiens</td>\n",
       "      <td>Acetylcholinesterase</td>\n",
       "      <td>9606</td>\n",
       "      <td>None</td>\n",
       "      <td>None</td>\n",
       "      <td>IC50</td>\n",
       "      <td>uM</td>\n",
       "      <td>UO_0000065</td>\n",
       "      <td>None</td>\n",
       "      <td>0.75</td>\n",
       "    </tr>\n",
       "    <tr>\n",
       "      <th>1</th>\n",
       "      <td>None</td>\n",
       "      <td>37563</td>\n",
       "      <td>[]</td>\n",
       "      <td>CHEMBL643384</td>\n",
       "      <td>Inhibitory concentration against acetylcholine...</td>\n",
       "      <td>B</td>\n",
       "      <td>None</td>\n",
       "      <td>None</td>\n",
       "      <td>BAO_0000190</td>\n",
       "      <td>BAO_0000357</td>\n",
       "      <td>...</td>\n",
       "      <td>Homo sapiens</td>\n",
       "      <td>Acetylcholinesterase</td>\n",
       "      <td>9606</td>\n",
       "      <td>None</td>\n",
       "      <td>None</td>\n",
       "      <td>IC50</td>\n",
       "      <td>uM</td>\n",
       "      <td>UO_0000065</td>\n",
       "      <td>None</td>\n",
       "      <td>0.1</td>\n",
       "    </tr>\n",
       "    <tr>\n",
       "      <th>2</th>\n",
       "      <td>None</td>\n",
       "      <td>37565</td>\n",
       "      <td>[]</td>\n",
       "      <td>CHEMBL643384</td>\n",
       "      <td>Inhibitory concentration against acetylcholine...</td>\n",
       "      <td>B</td>\n",
       "      <td>None</td>\n",
       "      <td>None</td>\n",
       "      <td>BAO_0000190</td>\n",
       "      <td>BAO_0000357</td>\n",
       "      <td>...</td>\n",
       "      <td>Homo sapiens</td>\n",
       "      <td>Acetylcholinesterase</td>\n",
       "      <td>9606</td>\n",
       "      <td>None</td>\n",
       "      <td>None</td>\n",
       "      <td>IC50</td>\n",
       "      <td>uM</td>\n",
       "      <td>UO_0000065</td>\n",
       "      <td>None</td>\n",
       "      <td>50.0</td>\n",
       "    </tr>\n",
       "    <tr>\n",
       "      <th>3</th>\n",
       "      <td>None</td>\n",
       "      <td>38902</td>\n",
       "      <td>[]</td>\n",
       "      <td>CHEMBL643384</td>\n",
       "      <td>Inhibitory concentration against acetylcholine...</td>\n",
       "      <td>B</td>\n",
       "      <td>None</td>\n",
       "      <td>None</td>\n",
       "      <td>BAO_0000190</td>\n",
       "      <td>BAO_0000357</td>\n",
       "      <td>...</td>\n",
       "      <td>Homo sapiens</td>\n",
       "      <td>Acetylcholinesterase</td>\n",
       "      <td>9606</td>\n",
       "      <td>None</td>\n",
       "      <td>None</td>\n",
       "      <td>IC50</td>\n",
       "      <td>uM</td>\n",
       "      <td>UO_0000065</td>\n",
       "      <td>None</td>\n",
       "      <td>0.3</td>\n",
       "    </tr>\n",
       "    <tr>\n",
       "      <th>4</th>\n",
       "      <td>None</td>\n",
       "      <td>41170</td>\n",
       "      <td>[]</td>\n",
       "      <td>CHEMBL643384</td>\n",
       "      <td>Inhibitory concentration against acetylcholine...</td>\n",
       "      <td>B</td>\n",
       "      <td>None</td>\n",
       "      <td>None</td>\n",
       "      <td>BAO_0000190</td>\n",
       "      <td>BAO_0000357</td>\n",
       "      <td>...</td>\n",
       "      <td>Homo sapiens</td>\n",
       "      <td>Acetylcholinesterase</td>\n",
       "      <td>9606</td>\n",
       "      <td>None</td>\n",
       "      <td>None</td>\n",
       "      <td>IC50</td>\n",
       "      <td>uM</td>\n",
       "      <td>UO_0000065</td>\n",
       "      <td>None</td>\n",
       "      <td>0.8</td>\n",
       "    </tr>\n",
       "    <tr>\n",
       "      <th>...</th>\n",
       "      <td>...</td>\n",
       "      <td>...</td>\n",
       "      <td>...</td>\n",
       "      <td>...</td>\n",
       "      <td>...</td>\n",
       "      <td>...</td>\n",
       "      <td>...</td>\n",
       "      <td>...</td>\n",
       "      <td>...</td>\n",
       "      <td>...</td>\n",
       "      <td>...</td>\n",
       "      <td>...</td>\n",
       "      <td>...</td>\n",
       "      <td>...</td>\n",
       "      <td>...</td>\n",
       "      <td>...</td>\n",
       "      <td>...</td>\n",
       "      <td>...</td>\n",
       "      <td>...</td>\n",
       "      <td>...</td>\n",
       "      <td>...</td>\n",
       "    </tr>\n",
       "    <tr>\n",
       "      <th>8200</th>\n",
       "      <td>None</td>\n",
       "      <td>22970946</td>\n",
       "      <td>[{'comments': None, 'relation': '=', 'result_f...</td>\n",
       "      <td>CHEMBL4770653</td>\n",
       "      <td>Inhibition of AChE (unknown origin) preincubat...</td>\n",
       "      <td>B</td>\n",
       "      <td>None</td>\n",
       "      <td>None</td>\n",
       "      <td>BAO_0000179</td>\n",
       "      <td>BAO_0000357</td>\n",
       "      <td>...</td>\n",
       "      <td>Homo sapiens</td>\n",
       "      <td>Acetylcholinesterase</td>\n",
       "      <td>9606</td>\n",
       "      <td>None</td>\n",
       "      <td>None</td>\n",
       "      <td>IC50</td>\n",
       "      <td>uM</td>\n",
       "      <td>None</td>\n",
       "      <td>None</td>\n",
       "      <td>0.25</td>\n",
       "    </tr>\n",
       "    <tr>\n",
       "      <th>8201</th>\n",
       "      <td>None</td>\n",
       "      <td>22970947</td>\n",
       "      <td>[{'comments': None, 'relation': '=', 'result_f...</td>\n",
       "      <td>CHEMBL4770653</td>\n",
       "      <td>Inhibition of AChE (unknown origin) preincubat...</td>\n",
       "      <td>B</td>\n",
       "      <td>None</td>\n",
       "      <td>None</td>\n",
       "      <td>BAO_0000179</td>\n",
       "      <td>BAO_0000357</td>\n",
       "      <td>...</td>\n",
       "      <td>Homo sapiens</td>\n",
       "      <td>Acetylcholinesterase</td>\n",
       "      <td>9606</td>\n",
       "      <td>None</td>\n",
       "      <td>None</td>\n",
       "      <td>IC50</td>\n",
       "      <td>uM</td>\n",
       "      <td>None</td>\n",
       "      <td>None</td>\n",
       "      <td>0.03</td>\n",
       "    </tr>\n",
       "    <tr>\n",
       "      <th>8202</th>\n",
       "      <td>None</td>\n",
       "      <td>22986924</td>\n",
       "      <td>[{'comments': None, 'relation': '=', 'result_f...</td>\n",
       "      <td>CHEMBL4774393</td>\n",
       "      <td>Inhibition of human erythrocytes AChE using ac...</td>\n",
       "      <td>B</td>\n",
       "      <td>None</td>\n",
       "      <td>None</td>\n",
       "      <td>BAO_0000179</td>\n",
       "      <td>BAO_0000019</td>\n",
       "      <td>...</td>\n",
       "      <td>Homo sapiens</td>\n",
       "      <td>Acetylcholinesterase</td>\n",
       "      <td>9606</td>\n",
       "      <td>None</td>\n",
       "      <td>None</td>\n",
       "      <td>IC50</td>\n",
       "      <td>uM</td>\n",
       "      <td>None</td>\n",
       "      <td>None</td>\n",
       "      <td>28.98</td>\n",
       "    </tr>\n",
       "    <tr>\n",
       "      <th>8203</th>\n",
       "      <td>None</td>\n",
       "      <td>22986925</td>\n",
       "      <td>[{'comments': None, 'relation': '=', 'result_f...</td>\n",
       "      <td>CHEMBL4774393</td>\n",
       "      <td>Inhibition of human erythrocytes AChE using ac...</td>\n",
       "      <td>B</td>\n",
       "      <td>None</td>\n",
       "      <td>None</td>\n",
       "      <td>BAO_0000179</td>\n",
       "      <td>BAO_0000019</td>\n",
       "      <td>...</td>\n",
       "      <td>Homo sapiens</td>\n",
       "      <td>Acetylcholinesterase</td>\n",
       "      <td>9606</td>\n",
       "      <td>None</td>\n",
       "      <td>None</td>\n",
       "      <td>IC50</td>\n",
       "      <td>uM</td>\n",
       "      <td>None</td>\n",
       "      <td>None</td>\n",
       "      <td>0.0064</td>\n",
       "    </tr>\n",
       "    <tr>\n",
       "      <th>8204</th>\n",
       "      <td>None</td>\n",
       "      <td>22986926</td>\n",
       "      <td>[{'comments': None, 'relation': '=', 'result_f...</td>\n",
       "      <td>CHEMBL4774393</td>\n",
       "      <td>Inhibition of human erythrocytes AChE using ac...</td>\n",
       "      <td>B</td>\n",
       "      <td>None</td>\n",
       "      <td>None</td>\n",
       "      <td>BAO_0000179</td>\n",
       "      <td>BAO_0000019</td>\n",
       "      <td>...</td>\n",
       "      <td>Homo sapiens</td>\n",
       "      <td>Acetylcholinesterase</td>\n",
       "      <td>9606</td>\n",
       "      <td>None</td>\n",
       "      <td>None</td>\n",
       "      <td>IC50</td>\n",
       "      <td>uM</td>\n",
       "      <td>None</td>\n",
       "      <td>None</td>\n",
       "      <td>0.08</td>\n",
       "    </tr>\n",
       "  </tbody>\n",
       "</table>\n",
       "<p>8205 rows × 45 columns</p>\n",
       "</div>"
      ],
      "text/plain": [
       "     activity_comment  activity_id  \\\n",
       "0                None        33969   \n",
       "1                None        37563   \n",
       "2                None        37565   \n",
       "3                None        38902   \n",
       "4                None        41170   \n",
       "...               ...          ...   \n",
       "8200             None     22970946   \n",
       "8201             None     22970947   \n",
       "8202             None     22986924   \n",
       "8203             None     22986925   \n",
       "8204             None     22986926   \n",
       "\n",
       "                                    activity_properties assay_chembl_id  \\\n",
       "0                                                    []    CHEMBL643384   \n",
       "1                                                    []    CHEMBL643384   \n",
       "2                                                    []    CHEMBL643384   \n",
       "3                                                    []    CHEMBL643384   \n",
       "4                                                    []    CHEMBL643384   \n",
       "...                                                 ...             ...   \n",
       "8200  [{'comments': None, 'relation': '=', 'result_f...   CHEMBL4770653   \n",
       "8201  [{'comments': None, 'relation': '=', 'result_f...   CHEMBL4770653   \n",
       "8202  [{'comments': None, 'relation': '=', 'result_f...   CHEMBL4774393   \n",
       "8203  [{'comments': None, 'relation': '=', 'result_f...   CHEMBL4774393   \n",
       "8204  [{'comments': None, 'relation': '=', 'result_f...   CHEMBL4774393   \n",
       "\n",
       "                                      assay_description assay_type  \\\n",
       "0     Inhibitory concentration against acetylcholine...          B   \n",
       "1     Inhibitory concentration against acetylcholine...          B   \n",
       "2     Inhibitory concentration against acetylcholine...          B   \n",
       "3     Inhibitory concentration against acetylcholine...          B   \n",
       "4     Inhibitory concentration against acetylcholine...          B   \n",
       "...                                                 ...        ...   \n",
       "8200  Inhibition of AChE (unknown origin) preincubat...          B   \n",
       "8201  Inhibition of AChE (unknown origin) preincubat...          B   \n",
       "8202  Inhibition of human erythrocytes AChE using ac...          B   \n",
       "8203  Inhibition of human erythrocytes AChE using ac...          B   \n",
       "8204  Inhibition of human erythrocytes AChE using ac...          B   \n",
       "\n",
       "     assay_variant_accession assay_variant_mutation bao_endpoint   bao_format  \\\n",
       "0                       None                   None  BAO_0000190  BAO_0000357   \n",
       "1                       None                   None  BAO_0000190  BAO_0000357   \n",
       "2                       None                   None  BAO_0000190  BAO_0000357   \n",
       "3                       None                   None  BAO_0000190  BAO_0000357   \n",
       "4                       None                   None  BAO_0000190  BAO_0000357   \n",
       "...                      ...                    ...          ...          ...   \n",
       "8200                    None                   None  BAO_0000179  BAO_0000357   \n",
       "8201                    None                   None  BAO_0000179  BAO_0000357   \n",
       "8202                    None                   None  BAO_0000179  BAO_0000019   \n",
       "8203                    None                   None  BAO_0000179  BAO_0000019   \n",
       "8204                    None                   None  BAO_0000179  BAO_0000019   \n",
       "\n",
       "      ... target_organism      target_pref_name target_tax_id text_value  \\\n",
       "0     ...    Homo sapiens  Acetylcholinesterase          9606       None   \n",
       "1     ...    Homo sapiens  Acetylcholinesterase          9606       None   \n",
       "2     ...    Homo sapiens  Acetylcholinesterase          9606       None   \n",
       "3     ...    Homo sapiens  Acetylcholinesterase          9606       None   \n",
       "4     ...    Homo sapiens  Acetylcholinesterase          9606       None   \n",
       "...   ...             ...                   ...           ...        ...   \n",
       "8200  ...    Homo sapiens  Acetylcholinesterase          9606       None   \n",
       "8201  ...    Homo sapiens  Acetylcholinesterase          9606       None   \n",
       "8202  ...    Homo sapiens  Acetylcholinesterase          9606       None   \n",
       "8203  ...    Homo sapiens  Acetylcholinesterase          9606       None   \n",
       "8204  ...    Homo sapiens  Acetylcholinesterase          9606       None   \n",
       "\n",
       "      toid  type  units    uo_units upper_value   value  \n",
       "0     None  IC50     uM  UO_0000065        None    0.75  \n",
       "1     None  IC50     uM  UO_0000065        None     0.1  \n",
       "2     None  IC50     uM  UO_0000065        None    50.0  \n",
       "3     None  IC50     uM  UO_0000065        None     0.3  \n",
       "4     None  IC50     uM  UO_0000065        None     0.8  \n",
       "...    ...   ...    ...         ...         ...     ...  \n",
       "8200  None  IC50     uM        None        None    0.25  \n",
       "8201  None  IC50     uM        None        None    0.03  \n",
       "8202  None  IC50     uM        None        None   28.98  \n",
       "8203  None  IC50     uM        None        None  0.0064  \n",
       "8204  None  IC50     uM        None        None    0.08  \n",
       "\n",
       "[8205 rows x 45 columns]"
      ]
     },
     "execution_count": 40,
     "metadata": {},
     "output_type": "execute_result"
    }
   ],
   "source": [
    "df"
   ]
  },
  {
   "cell_type": "markdown",
   "id": "be1247ba-95c4-4a0d-951d-f9ce7b531be4",
   "metadata": {},
   "source": [
    "# Limpio data"
   ]
  },
  {
   "cell_type": "code",
   "execution_count": 41,
   "id": "0be90440-645e-49c7-9571-eafb81238e7d",
   "metadata": {},
   "outputs": [],
   "source": [
    "df = df.dropna(subset=['standard_value', 'canonical_smiles'])\n",
    "df = df.drop_duplicates(['canonical_smiles'])"
   ]
  },
  {
   "cell_type": "code",
   "execution_count": 42,
   "id": "90e52e55-fcab-4bcd-9c57-f3f091e2b19b",
   "metadata": {},
   "outputs": [],
   "source": [
    "selection = ['molecule_chembl_id','canonical_smiles','standard_value']\n",
    "df = df[selection]"
   ]
  },
  {
   "cell_type": "code",
   "execution_count": 43,
   "id": "0b2290f4-aaf2-456a-8f8a-0a47fc61eab6",
   "metadata": {},
   "outputs": [
    {
     "data": {
      "text/html": [
       "<div>\n",
       "<style scoped>\n",
       "    .dataframe tbody tr th:only-of-type {\n",
       "        vertical-align: middle;\n",
       "    }\n",
       "\n",
       "    .dataframe tbody tr th {\n",
       "        vertical-align: top;\n",
       "    }\n",
       "\n",
       "    .dataframe thead th {\n",
       "        text-align: right;\n",
       "    }\n",
       "</style>\n",
       "<table border=\"1\" class=\"dataframe\">\n",
       "  <thead>\n",
       "    <tr style=\"text-align: right;\">\n",
       "      <th></th>\n",
       "      <th>molecule_chembl_id</th>\n",
       "      <th>canonical_smiles</th>\n",
       "      <th>standard_value</th>\n",
       "    </tr>\n",
       "  </thead>\n",
       "  <tbody>\n",
       "    <tr>\n",
       "      <th>0</th>\n",
       "      <td>CHEMBL133897</td>\n",
       "      <td>CCOc1nn(-c2cccc(OCc3ccccc3)c2)c(=O)o1</td>\n",
       "      <td>750.0</td>\n",
       "    </tr>\n",
       "    <tr>\n",
       "      <th>1</th>\n",
       "      <td>CHEMBL336398</td>\n",
       "      <td>O=C(N1CCCCC1)n1nc(-c2ccc(Cl)cc2)nc1SCC1CC1</td>\n",
       "      <td>100.0</td>\n",
       "    </tr>\n",
       "    <tr>\n",
       "      <th>2</th>\n",
       "      <td>CHEMBL131588</td>\n",
       "      <td>CN(C(=O)n1nc(-c2ccc(Cl)cc2)nc1SCC(F)(F)F)c1ccccc1</td>\n",
       "      <td>50000.0</td>\n",
       "    </tr>\n",
       "    <tr>\n",
       "      <th>3</th>\n",
       "      <td>CHEMBL130628</td>\n",
       "      <td>O=C(N1CCCCC1)n1nc(-c2ccc(Cl)cc2)nc1SCC(F)(F)F</td>\n",
       "      <td>300.0</td>\n",
       "    </tr>\n",
       "    <tr>\n",
       "      <th>4</th>\n",
       "      <td>CHEMBL130478</td>\n",
       "      <td>CSc1nc(-c2ccc(OC(F)(F)F)cc2)nn1C(=O)N(C)C</td>\n",
       "      <td>800.0</td>\n",
       "    </tr>\n",
       "    <tr>\n",
       "      <th>...</th>\n",
       "      <td>...</td>\n",
       "      <td>...</td>\n",
       "      <td>...</td>\n",
       "    </tr>\n",
       "    <tr>\n",
       "      <th>8195</th>\n",
       "      <td>CHEMBL4779440</td>\n",
       "      <td>Brc1ccc([N+]2=Cc3ccccc3CC2)cc1.[Br-]</td>\n",
       "      <td>10500.0</td>\n",
       "    </tr>\n",
       "    <tr>\n",
       "      <th>8196</th>\n",
       "      <td>CHEMBL417799</td>\n",
       "      <td>C[n+]1cc2c3c(ccc2c2ccc4cc5c(cc4c21)OCO5)OCO3</td>\n",
       "      <td>1220.0</td>\n",
       "    </tr>\n",
       "    <tr>\n",
       "      <th>8197</th>\n",
       "      <td>CHEMBL13045</td>\n",
       "      <td>COc1ccc2c(c[n+](C)c3c4cc5c(cc4ccc23)OCO5)c1OC</td>\n",
       "      <td>1450.0</td>\n",
       "    </tr>\n",
       "    <tr>\n",
       "      <th>8202</th>\n",
       "      <td>CHEMBL3085398</td>\n",
       "      <td>C=CC(C)(C)c1cc([C@@H]2CC(=O)c3c(O)cc(O)c(CC=C(...</td>\n",
       "      <td>28980.0</td>\n",
       "    </tr>\n",
       "    <tr>\n",
       "      <th>8203</th>\n",
       "      <td>CHEMBL253998</td>\n",
       "      <td>CC(C)=CCc1c(O)cc(O)c2c1O[C@H](c1ccccc1)CC2=O</td>\n",
       "      <td>6.4</td>\n",
       "    </tr>\n",
       "  </tbody>\n",
       "</table>\n",
       "<p>5664 rows × 3 columns</p>\n",
       "</div>"
      ],
      "text/plain": [
       "     molecule_chembl_id                                   canonical_smiles  \\\n",
       "0          CHEMBL133897              CCOc1nn(-c2cccc(OCc3ccccc3)c2)c(=O)o1   \n",
       "1          CHEMBL336398         O=C(N1CCCCC1)n1nc(-c2ccc(Cl)cc2)nc1SCC1CC1   \n",
       "2          CHEMBL131588  CN(C(=O)n1nc(-c2ccc(Cl)cc2)nc1SCC(F)(F)F)c1ccccc1   \n",
       "3          CHEMBL130628      O=C(N1CCCCC1)n1nc(-c2ccc(Cl)cc2)nc1SCC(F)(F)F   \n",
       "4          CHEMBL130478          CSc1nc(-c2ccc(OC(F)(F)F)cc2)nn1C(=O)N(C)C   \n",
       "...                 ...                                                ...   \n",
       "8195      CHEMBL4779440               Brc1ccc([N+]2=Cc3ccccc3CC2)cc1.[Br-]   \n",
       "8196       CHEMBL417799       C[n+]1cc2c3c(ccc2c2ccc4cc5c(cc4c21)OCO5)OCO3   \n",
       "8197        CHEMBL13045      COc1ccc2c(c[n+](C)c3c4cc5c(cc4ccc23)OCO5)c1OC   \n",
       "8202      CHEMBL3085398  C=CC(C)(C)c1cc([C@@H]2CC(=O)c3c(O)cc(O)c(CC=C(...   \n",
       "8203       CHEMBL253998       CC(C)=CCc1c(O)cc(O)c2c1O[C@H](c1ccccc1)CC2=O   \n",
       "\n",
       "     standard_value  \n",
       "0             750.0  \n",
       "1             100.0  \n",
       "2           50000.0  \n",
       "3             300.0  \n",
       "4             800.0  \n",
       "...             ...  \n",
       "8195        10500.0  \n",
       "8196         1220.0  \n",
       "8197         1450.0  \n",
       "8202        28980.0  \n",
       "8203            6.4  \n",
       "\n",
       "[5664 rows x 3 columns]"
      ]
     },
     "execution_count": 43,
     "metadata": {},
     "output_type": "execute_result"
    }
   ],
   "source": [
    "df"
   ]
  },
  {
   "cell_type": "code",
   "execution_count": 44,
   "id": "a5c34a3c-a41c-4e6c-bb7a-73c4e0c4b712",
   "metadata": {},
   "outputs": [
    {
     "data": {
      "text/html": [
       "<div>\n",
       "<style scoped>\n",
       "    .dataframe tbody tr th:only-of-type {\n",
       "        vertical-align: middle;\n",
       "    }\n",
       "\n",
       "    .dataframe tbody tr th {\n",
       "        vertical-align: top;\n",
       "    }\n",
       "\n",
       "    .dataframe thead th {\n",
       "        text-align: right;\n",
       "    }\n",
       "</style>\n",
       "<table border=\"1\" class=\"dataframe\">\n",
       "  <thead>\n",
       "    <tr style=\"text-align: right;\">\n",
       "      <th></th>\n",
       "      <th>molecule_chembl_id</th>\n",
       "      <th>canonical_smiles</th>\n",
       "      <th>standard_value</th>\n",
       "    </tr>\n",
       "  </thead>\n",
       "  <tbody>\n",
       "    <tr>\n",
       "      <th>count</th>\n",
       "      <td>5664</td>\n",
       "      <td>5664</td>\n",
       "      <td>5664</td>\n",
       "    </tr>\n",
       "    <tr>\n",
       "      <th>unique</th>\n",
       "      <td>5664</td>\n",
       "      <td>5664</td>\n",
       "      <td>2657</td>\n",
       "    </tr>\n",
       "    <tr>\n",
       "      <th>top</th>\n",
       "      <td>CHEMBL4535748</td>\n",
       "      <td>COc1cccc2c1C=[N+](c1ccccc1I)CC2.[Br-]</td>\n",
       "      <td>10000.0</td>\n",
       "    </tr>\n",
       "    <tr>\n",
       "      <th>freq</th>\n",
       "      <td>1</td>\n",
       "      <td>1</td>\n",
       "      <td>182</td>\n",
       "    </tr>\n",
       "  </tbody>\n",
       "</table>\n",
       "</div>"
      ],
      "text/plain": [
       "       molecule_chembl_id                       canonical_smiles  \\\n",
       "count                5664                                   5664   \n",
       "unique               5664                                   5664   \n",
       "top         CHEMBL4535748  COc1cccc2c1C=[N+](c1ccccc1I)CC2.[Br-]   \n",
       "freq                    1                                      1   \n",
       "\n",
       "       standard_value  \n",
       "count            5664  \n",
       "unique           2657  \n",
       "top           10000.0  \n",
       "freq              182  "
      ]
     },
     "execution_count": 44,
     "metadata": {},
     "output_type": "execute_result"
    }
   ],
   "source": [
    "df.describe()"
   ]
  },
  {
   "cell_type": "code",
   "execution_count": 45,
   "id": "6338883b-df98-4a12-abc5-f97c0059a362",
   "metadata": {},
   "outputs": [
    {
     "name": "stdout",
     "output_type": "stream",
     "text": [
      "<class 'pandas.core.frame.DataFrame'>\n",
      "Int64Index: 5664 entries, 0 to 8203\n",
      "Data columns (total 3 columns):\n",
      " #   Column              Non-Null Count  Dtype \n",
      "---  ------              --------------  ----- \n",
      " 0   molecule_chembl_id  5664 non-null   object\n",
      " 1   canonical_smiles    5664 non-null   object\n",
      " 2   standard_value      5664 non-null   object\n",
      "dtypes: object(3)\n",
      "memory usage: 177.0+ KB\n"
     ]
    }
   ],
   "source": [
    "df.info()"
   ]
  },
  {
   "cell_type": "markdown",
   "id": "a0e5d88c-277a-4ab2-a13b-851da0efef62",
   "metadata": {},
   "source": [
    "# Preprocesamiento y normalización"
   ]
  },
  {
   "cell_type": "code",
   "execution_count": 46,
   "id": "feaadbcf-f2c5-4deb-a67f-26c41bfd1baa",
   "metadata": {},
   "outputs": [],
   "source": [
    "import numpy as np"
   ]
  },
  {
   "cell_type": "code",
   "execution_count": 47,
   "id": "32fdc9c0-accd-4212-927c-6389be9260a9",
   "metadata": {},
   "outputs": [],
   "source": [
    "df['standard_value'] = df['standard_value'].apply(pd.to_numeric)"
   ]
  },
  {
   "cell_type": "code",
   "execution_count": 48,
   "id": "766e46cf-5e59-4a7b-806e-9a869744fbe2",
   "metadata": {},
   "outputs": [],
   "source": [
    "# En el video se hace esta normalización. No la veo del todo necesaria\n",
    "df['standard_value_norm'] = df['standard_value'].apply(lambda x: (x>1e8)*1e8 + (x<=1e8)*x)"
   ]
  },
  {
   "cell_type": "code",
   "execution_count": 49,
   "id": "e33acf0a-7260-42ec-832f-473e339df2e0",
   "metadata": {},
   "outputs": [],
   "source": [
    "df['pIC50'] = df['standard_value'].apply(lambda x: -np.log10((x+1*10**-9)*(10**-9)))"
   ]
  },
  {
   "cell_type": "code",
   "execution_count": 50,
   "id": "987515af-fb28-46f0-a752-91ff88cd0224",
   "metadata": {},
   "outputs": [
    {
     "data": {
      "text/html": [
       "<div>\n",
       "<style scoped>\n",
       "    .dataframe tbody tr th:only-of-type {\n",
       "        vertical-align: middle;\n",
       "    }\n",
       "\n",
       "    .dataframe tbody tr th {\n",
       "        vertical-align: top;\n",
       "    }\n",
       "\n",
       "    .dataframe thead th {\n",
       "        text-align: right;\n",
       "    }\n",
       "</style>\n",
       "<table border=\"1\" class=\"dataframe\">\n",
       "  <thead>\n",
       "    <tr style=\"text-align: right;\">\n",
       "      <th></th>\n",
       "      <th>molecule_chembl_id</th>\n",
       "      <th>canonical_smiles</th>\n",
       "      <th>standard_value</th>\n",
       "      <th>standard_value_norm</th>\n",
       "      <th>pIC50</th>\n",
       "    </tr>\n",
       "  </thead>\n",
       "  <tbody>\n",
       "    <tr>\n",
       "      <th>0</th>\n",
       "      <td>CHEMBL133897</td>\n",
       "      <td>CCOc1nn(-c2cccc(OCc3ccccc3)c2)c(=O)o1</td>\n",
       "      <td>750.0</td>\n",
       "      <td>750.0</td>\n",
       "      <td>6.124939</td>\n",
       "    </tr>\n",
       "    <tr>\n",
       "      <th>1</th>\n",
       "      <td>CHEMBL336398</td>\n",
       "      <td>O=C(N1CCCCC1)n1nc(-c2ccc(Cl)cc2)nc1SCC1CC1</td>\n",
       "      <td>100.0</td>\n",
       "      <td>100.0</td>\n",
       "      <td>7.000000</td>\n",
       "    </tr>\n",
       "    <tr>\n",
       "      <th>2</th>\n",
       "      <td>CHEMBL131588</td>\n",
       "      <td>CN(C(=O)n1nc(-c2ccc(Cl)cc2)nc1SCC(F)(F)F)c1ccccc1</td>\n",
       "      <td>50000.0</td>\n",
       "      <td>50000.0</td>\n",
       "      <td>4.301030</td>\n",
       "    </tr>\n",
       "    <tr>\n",
       "      <th>3</th>\n",
       "      <td>CHEMBL130628</td>\n",
       "      <td>O=C(N1CCCCC1)n1nc(-c2ccc(Cl)cc2)nc1SCC(F)(F)F</td>\n",
       "      <td>300.0</td>\n",
       "      <td>300.0</td>\n",
       "      <td>6.522879</td>\n",
       "    </tr>\n",
       "    <tr>\n",
       "      <th>4</th>\n",
       "      <td>CHEMBL130478</td>\n",
       "      <td>CSc1nc(-c2ccc(OC(F)(F)F)cc2)nn1C(=O)N(C)C</td>\n",
       "      <td>800.0</td>\n",
       "      <td>800.0</td>\n",
       "      <td>6.096910</td>\n",
       "    </tr>\n",
       "    <tr>\n",
       "      <th>...</th>\n",
       "      <td>...</td>\n",
       "      <td>...</td>\n",
       "      <td>...</td>\n",
       "      <td>...</td>\n",
       "      <td>...</td>\n",
       "    </tr>\n",
       "    <tr>\n",
       "      <th>8195</th>\n",
       "      <td>CHEMBL4779440</td>\n",
       "      <td>Brc1ccc([N+]2=Cc3ccccc3CC2)cc1.[Br-]</td>\n",
       "      <td>10500.0</td>\n",
       "      <td>10500.0</td>\n",
       "      <td>4.978811</td>\n",
       "    </tr>\n",
       "    <tr>\n",
       "      <th>8196</th>\n",
       "      <td>CHEMBL417799</td>\n",
       "      <td>C[n+]1cc2c3c(ccc2c2ccc4cc5c(cc4c21)OCO5)OCO3</td>\n",
       "      <td>1220.0</td>\n",
       "      <td>1220.0</td>\n",
       "      <td>5.913640</td>\n",
       "    </tr>\n",
       "    <tr>\n",
       "      <th>8197</th>\n",
       "      <td>CHEMBL13045</td>\n",
       "      <td>COc1ccc2c(c[n+](C)c3c4cc5c(cc4ccc23)OCO5)c1OC</td>\n",
       "      <td>1450.0</td>\n",
       "      <td>1450.0</td>\n",
       "      <td>5.838632</td>\n",
       "    </tr>\n",
       "    <tr>\n",
       "      <th>8202</th>\n",
       "      <td>CHEMBL3085398</td>\n",
       "      <td>C=CC(C)(C)c1cc([C@@H]2CC(=O)c3c(O)cc(O)c(CC=C(...</td>\n",
       "      <td>28980.0</td>\n",
       "      <td>28980.0</td>\n",
       "      <td>4.537902</td>\n",
       "    </tr>\n",
       "    <tr>\n",
       "      <th>8203</th>\n",
       "      <td>CHEMBL253998</td>\n",
       "      <td>CC(C)=CCc1c(O)cc(O)c2c1O[C@H](c1ccccc1)CC2=O</td>\n",
       "      <td>6.4</td>\n",
       "      <td>6.4</td>\n",
       "      <td>8.193820</td>\n",
       "    </tr>\n",
       "  </tbody>\n",
       "</table>\n",
       "<p>5664 rows × 5 columns</p>\n",
       "</div>"
      ],
      "text/plain": [
       "     molecule_chembl_id                                   canonical_smiles  \\\n",
       "0          CHEMBL133897              CCOc1nn(-c2cccc(OCc3ccccc3)c2)c(=O)o1   \n",
       "1          CHEMBL336398         O=C(N1CCCCC1)n1nc(-c2ccc(Cl)cc2)nc1SCC1CC1   \n",
       "2          CHEMBL131588  CN(C(=O)n1nc(-c2ccc(Cl)cc2)nc1SCC(F)(F)F)c1ccccc1   \n",
       "3          CHEMBL130628      O=C(N1CCCCC1)n1nc(-c2ccc(Cl)cc2)nc1SCC(F)(F)F   \n",
       "4          CHEMBL130478          CSc1nc(-c2ccc(OC(F)(F)F)cc2)nn1C(=O)N(C)C   \n",
       "...                 ...                                                ...   \n",
       "8195      CHEMBL4779440               Brc1ccc([N+]2=Cc3ccccc3CC2)cc1.[Br-]   \n",
       "8196       CHEMBL417799       C[n+]1cc2c3c(ccc2c2ccc4cc5c(cc4c21)OCO5)OCO3   \n",
       "8197        CHEMBL13045      COc1ccc2c(c[n+](C)c3c4cc5c(cc4ccc23)OCO5)c1OC   \n",
       "8202      CHEMBL3085398  C=CC(C)(C)c1cc([C@@H]2CC(=O)c3c(O)cc(O)c(CC=C(...   \n",
       "8203       CHEMBL253998       CC(C)=CCc1c(O)cc(O)c2c1O[C@H](c1ccccc1)CC2=O   \n",
       "\n",
       "      standard_value  standard_value_norm     pIC50  \n",
       "0              750.0                750.0  6.124939  \n",
       "1              100.0                100.0  7.000000  \n",
       "2            50000.0              50000.0  4.301030  \n",
       "3              300.0                300.0  6.522879  \n",
       "4              800.0                800.0  6.096910  \n",
       "...              ...                  ...       ...  \n",
       "8195         10500.0              10500.0  4.978811  \n",
       "8196          1220.0               1220.0  5.913640  \n",
       "8197          1450.0               1450.0  5.838632  \n",
       "8202         28980.0              28980.0  4.537902  \n",
       "8203             6.4                  6.4  8.193820  \n",
       "\n",
       "[5664 rows x 5 columns]"
      ]
     },
     "execution_count": 50,
     "metadata": {},
     "output_type": "execute_result"
    }
   ],
   "source": [
    "df"
   ]
  },
  {
   "cell_type": "code",
   "execution_count": 51,
   "id": "35fb6340-2a34-413b-af21-d04bb8ed2126",
   "metadata": {},
   "outputs": [
    {
     "data": {
      "text/plain": [
       "count    5664.000000\n",
       "mean        5.811655\n",
       "std         1.654471\n",
       "min        -6.770000\n",
       "25%         4.769551\n",
       "50%         5.626170\n",
       "75%         6.843527\n",
       "max        18.000000\n",
       "Name: pIC50, dtype: float64"
      ]
     },
     "execution_count": 51,
     "metadata": {},
     "output_type": "execute_result"
    }
   ],
   "source": [
    "df['pIC50'].describe()"
   ]
  },
  {
   "cell_type": "code",
   "execution_count": 52,
   "id": "5b9cf345-c716-40c0-a982-348b94ae9aa4",
   "metadata": {},
   "outputs": [
    {
     "data": {
      "text/plain": [
       "18.0"
      ]
     },
     "execution_count": 52,
     "metadata": {},
     "output_type": "execute_result"
    }
   ],
   "source": [
    "df['pIC50'].max()"
   ]
  },
  {
   "cell_type": "code",
   "execution_count": 53,
   "id": "6df78c4c-7381-42eb-ba78-932168912853",
   "metadata": {},
   "outputs": [
    {
     "data": {
      "text/plain": [
       "0       False\n",
       "1       False\n",
       "2       False\n",
       "3       False\n",
       "4       False\n",
       "        ...  \n",
       "8195    False\n",
       "8196    False\n",
       "8197    False\n",
       "8202    False\n",
       "8203    False\n",
       "Name: pIC50, Length: 5664, dtype: bool"
      ]
     },
     "execution_count": 53,
     "metadata": {},
     "output_type": "execute_result"
    }
   ],
   "source": [
    "df['pIC50'].isna()"
   ]
  },
  {
   "cell_type": "code",
   "execution_count": 54,
   "id": "9f70d71e-68d2-49a5-a8b1-9b89317d1c2a",
   "metadata": {},
   "outputs": [
    {
     "data": {
      "text/plain": [
       "0       6.124939\n",
       "1       7.000000\n",
       "2       4.301030\n",
       "3       6.522879\n",
       "4       6.096910\n",
       "          ...   \n",
       "8195    4.978811\n",
       "8196    5.913640\n",
       "8197    5.838632\n",
       "8202    4.537902\n",
       "8203    8.193820\n",
       "Name: pIC50, Length: 5664, dtype: float64"
      ]
     },
     "execution_count": 54,
     "metadata": {},
     "output_type": "execute_result"
    }
   ],
   "source": [
    "df['pIC50'].dropna()"
   ]
  },
  {
   "cell_type": "code",
   "execution_count": 55,
   "id": "28869087-51f6-492f-afc7-4f4f15095376",
   "metadata": {
    "tags": []
   },
   "outputs": [
    {
     "data": {
      "text/plain": [
       "(18.0, 5463)"
      ]
     },
     "execution_count": 55,
     "metadata": {},
     "output_type": "execute_result"
    }
   ],
   "source": [
    "df['pIC50'].max() ,df['pIC50'].argmax()"
   ]
  },
  {
   "cell_type": "code",
   "execution_count": 56,
   "id": "f0340c97-dd41-4f99-8bc8-aead8486c91e",
   "metadata": {},
   "outputs": [
    {
     "data": {
      "text/html": [
       "<div>\n",
       "<style scoped>\n",
       "    .dataframe tbody tr th:only-of-type {\n",
       "        vertical-align: middle;\n",
       "    }\n",
       "\n",
       "    .dataframe tbody tr th {\n",
       "        vertical-align: top;\n",
       "    }\n",
       "\n",
       "    .dataframe thead th {\n",
       "        text-align: right;\n",
       "    }\n",
       "</style>\n",
       "<table border=\"1\" class=\"dataframe\">\n",
       "  <thead>\n",
       "    <tr style=\"text-align: right;\">\n",
       "      <th></th>\n",
       "      <th>standard_value</th>\n",
       "      <th>standard_value_norm</th>\n",
       "      <th>pIC50</th>\n",
       "    </tr>\n",
       "  </thead>\n",
       "  <tbody>\n",
       "    <tr>\n",
       "      <th>count</th>\n",
       "      <td>5.664000e+03</td>\n",
       "      <td>5.664000e+03</td>\n",
       "      <td>5664.000000</td>\n",
       "    </tr>\n",
       "    <tr>\n",
       "      <th>mean</th>\n",
       "      <td>2.661603e+12</td>\n",
       "      <td>2.859297e+05</td>\n",
       "      <td>5.811655</td>\n",
       "    </tr>\n",
       "    <tr>\n",
       "      <th>std</th>\n",
       "      <td>1.083101e+14</td>\n",
       "      <td>4.301237e+06</td>\n",
       "      <td>1.654471</td>\n",
       "    </tr>\n",
       "    <tr>\n",
       "      <th>min</th>\n",
       "      <td>0.000000e+00</td>\n",
       "      <td>0.000000e+00</td>\n",
       "      <td>-6.770000</td>\n",
       "    </tr>\n",
       "    <tr>\n",
       "      <th>25%</th>\n",
       "      <td>1.433750e+02</td>\n",
       "      <td>1.433750e+02</td>\n",
       "      <td>4.769551</td>\n",
       "    </tr>\n",
       "    <tr>\n",
       "      <th>50%</th>\n",
       "      <td>2.365000e+03</td>\n",
       "      <td>2.365000e+03</td>\n",
       "      <td>5.626170</td>\n",
       "    </tr>\n",
       "    <tr>\n",
       "      <th>75%</th>\n",
       "      <td>1.700000e+04</td>\n",
       "      <td>1.700000e+04</td>\n",
       "      <td>6.843527</td>\n",
       "    </tr>\n",
       "    <tr>\n",
       "      <th>max</th>\n",
       "      <td>5.888437e+15</td>\n",
       "      <td>1.000000e+08</td>\n",
       "      <td>18.000000</td>\n",
       "    </tr>\n",
       "  </tbody>\n",
       "</table>\n",
       "</div>"
      ],
      "text/plain": [
       "       standard_value  standard_value_norm        pIC50\n",
       "count    5.664000e+03         5.664000e+03  5664.000000\n",
       "mean     2.661603e+12         2.859297e+05     5.811655\n",
       "std      1.083101e+14         4.301237e+06     1.654471\n",
       "min      0.000000e+00         0.000000e+00    -6.770000\n",
       "25%      1.433750e+02         1.433750e+02     4.769551\n",
       "50%      2.365000e+03         2.365000e+03     5.626170\n",
       "75%      1.700000e+04         1.700000e+04     6.843527\n",
       "max      5.888437e+15         1.000000e+08    18.000000"
      ]
     },
     "execution_count": 56,
     "metadata": {},
     "output_type": "execute_result"
    }
   ],
   "source": [
    "#df.drop(5463, axis=0, inplace=True)\n",
    "df.describe()"
   ]
  },
  {
   "cell_type": "code",
   "execution_count": 57,
   "id": "64a7af84-1c8d-458c-bbae-aad692c58346",
   "metadata": {},
   "outputs": [
    {
     "data": {
      "text/plain": [
       "(18.0, 5463)"
      ]
     },
     "execution_count": 57,
     "metadata": {},
     "output_type": "execute_result"
    }
   ],
   "source": [
    "df['pIC50'].max() ,df['pIC50'].argmax()"
   ]
  },
  {
   "cell_type": "code",
   "execution_count": 58,
   "id": "a391cb19-23eb-4079-b8fe-42194296ed96",
   "metadata": {},
   "outputs": [],
   "source": [
    "# for i in df['pIC50']:\n",
    "#     if i == float('inf'):\n",
    "#         df.drop(df['pIC50'].argmax(), axis=0, inplace=True)\n",
    "        "
   ]
  },
  {
   "cell_type": "code",
   "execution_count": 59,
   "id": "c5f01ba3-190e-4a47-a691-32459f4743f8",
   "metadata": {},
   "outputs": [],
   "source": [
    "# df.describe()\n",
    "# df['pIC50'].max() ,df['pIC50'].argmax()"
   ]
  },
  {
   "cell_type": "code",
   "execution_count": 60,
   "id": "b63aa28c-e229-4989-91f0-7f8c3ee4584c",
   "metadata": {},
   "outputs": [
    {
     "name": "stderr",
     "output_type": "stream",
     "text": [
      "Ya existe el subdirectorio o el archivo data.\n"
     ]
    }
   ],
   "source": [
    "! mkdir data"
   ]
  },
  {
   "cell_type": "code",
   "execution_count": 61,
   "id": "e5985ec3-c649-4ceb-a0c4-52d3f7e8664a",
   "metadata": {},
   "outputs": [],
   "source": [
    "df.to_csv('data/acetylcholinesterase_02_bioactivity_data_preprocessed.csv', index=False)"
   ]
  },
  {
   "cell_type": "code",
   "execution_count": null,
   "id": "bd9e3760-a0c7-4e97-831c-eeb401cbb314",
   "metadata": {},
   "outputs": [],
   "source": []
  }
 ],
 "metadata": {
  "kernelspec": {
   "display_name": "Python 3 (ipykernel)",
   "language": "python",
   "name": "python3"
  },
  "language_info": {
   "codemirror_mode": {
    "name": "ipython",
    "version": 3
   },
   "file_extension": ".py",
   "mimetype": "text/x-python",
   "name": "python",
   "nbconvert_exporter": "python",
   "pygments_lexer": "ipython3",
   "version": "3.8.13"
  }
 },
 "nbformat": 4,
 "nbformat_minor": 5
}
