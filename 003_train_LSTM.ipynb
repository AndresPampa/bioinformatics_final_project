{
 "cells": [
  {
   "cell_type": "code",
   "execution_count": 1,
   "id": "21bee0a3-79a7-43b2-9ac2-15cad5630e22",
   "metadata": {},
   "outputs": [],
   "source": [
    "import pandas as pd\n",
    "import numpy as np"
   ]
  },
  {
   "cell_type": "markdown",
   "id": "08544474-e883-4105-bcc3-9f3f9f014079",
   "metadata": {},
   "source": [
    "# Modelo Recurrentes con Embeddings a nivel de caracter"
   ]
  },
  {
   "cell_type": "code",
   "execution_count": 2,
   "id": "353a2d75-f0f4-4563-9842-c68d77118161",
   "metadata": {},
   "outputs": [],
   "source": [
    "df = pd.read_csv('data/acetylcholinesterase_02_bioactivity_data_preprocessed.csv')"
   ]
  },
  {
   "cell_type": "code",
   "execution_count": 3,
   "id": "d1554fa5-d9ee-456c-be20-80571e319fc6",
   "metadata": {},
   "outputs": [
    {
     "data": {
      "text/html": [
       "<div>\n",
       "<style scoped>\n",
       "    .dataframe tbody tr th:only-of-type {\n",
       "        vertical-align: middle;\n",
       "    }\n",
       "\n",
       "    .dataframe tbody tr th {\n",
       "        vertical-align: top;\n",
       "    }\n",
       "\n",
       "    .dataframe thead th {\n",
       "        text-align: right;\n",
       "    }\n",
       "</style>\n",
       "<table border=\"1\" class=\"dataframe\">\n",
       "  <thead>\n",
       "    <tr style=\"text-align: right;\">\n",
       "      <th></th>\n",
       "      <th>molecule_chembl_id</th>\n",
       "      <th>canonical_smiles</th>\n",
       "      <th>standard_value</th>\n",
       "      <th>standard_value_norm</th>\n",
       "      <th>pIC50</th>\n",
       "    </tr>\n",
       "  </thead>\n",
       "  <tbody>\n",
       "    <tr>\n",
       "      <th>0</th>\n",
       "      <td>CHEMBL133897</td>\n",
       "      <td>CCOc1nn(-c2cccc(OCc3ccccc3)c2)c(=O)o1</td>\n",
       "      <td>750.0</td>\n",
       "      <td>750.0</td>\n",
       "      <td>6.124939</td>\n",
       "    </tr>\n",
       "    <tr>\n",
       "      <th>1</th>\n",
       "      <td>CHEMBL336398</td>\n",
       "      <td>O=C(N1CCCCC1)n1nc(-c2ccc(Cl)cc2)nc1SCC1CC1</td>\n",
       "      <td>100.0</td>\n",
       "      <td>100.0</td>\n",
       "      <td>7.000000</td>\n",
       "    </tr>\n",
       "    <tr>\n",
       "      <th>2</th>\n",
       "      <td>CHEMBL131588</td>\n",
       "      <td>CN(C(=O)n1nc(-c2ccc(Cl)cc2)nc1SCC(F)(F)F)c1ccccc1</td>\n",
       "      <td>50000.0</td>\n",
       "      <td>50000.0</td>\n",
       "      <td>4.301030</td>\n",
       "    </tr>\n",
       "    <tr>\n",
       "      <th>3</th>\n",
       "      <td>CHEMBL130628</td>\n",
       "      <td>O=C(N1CCCCC1)n1nc(-c2ccc(Cl)cc2)nc1SCC(F)(F)F</td>\n",
       "      <td>300.0</td>\n",
       "      <td>300.0</td>\n",
       "      <td>6.522879</td>\n",
       "    </tr>\n",
       "    <tr>\n",
       "      <th>4</th>\n",
       "      <td>CHEMBL130478</td>\n",
       "      <td>CSc1nc(-c2ccc(OC(F)(F)F)cc2)nn1C(=O)N(C)C</td>\n",
       "      <td>800.0</td>\n",
       "      <td>800.0</td>\n",
       "      <td>6.096910</td>\n",
       "    </tr>\n",
       "  </tbody>\n",
       "</table>\n",
       "</div>"
      ],
      "text/plain": [
       "  molecule_chembl_id                                   canonical_smiles  \\\n",
       "0       CHEMBL133897              CCOc1nn(-c2cccc(OCc3ccccc3)c2)c(=O)o1   \n",
       "1       CHEMBL336398         O=C(N1CCCCC1)n1nc(-c2ccc(Cl)cc2)nc1SCC1CC1   \n",
       "2       CHEMBL131588  CN(C(=O)n1nc(-c2ccc(Cl)cc2)nc1SCC(F)(F)F)c1ccccc1   \n",
       "3       CHEMBL130628      O=C(N1CCCCC1)n1nc(-c2ccc(Cl)cc2)nc1SCC(F)(F)F   \n",
       "4       CHEMBL130478          CSc1nc(-c2ccc(OC(F)(F)F)cc2)nn1C(=O)N(C)C   \n",
       "\n",
       "   standard_value  standard_value_norm     pIC50  \n",
       "0           750.0                750.0  6.124939  \n",
       "1           100.0                100.0  7.000000  \n",
       "2         50000.0              50000.0  4.301030  \n",
       "3           300.0                300.0  6.522879  \n",
       "4           800.0                800.0  6.096910  "
      ]
     },
     "execution_count": 3,
     "metadata": {},
     "output_type": "execute_result"
    }
   ],
   "source": [
    "df.head()"
   ]
  },
  {
   "cell_type": "markdown",
   "id": "2985df76-23b9-45a8-83ed-ce8ae510219f",
   "metadata": {},
   "source": [
    "# Canonical_smiles To secuence"
   ]
  },
  {
   "cell_type": "code",
   "execution_count": 4,
   "id": "87e524d2-e7e9-4d3b-b1f1-b62254a0bc66",
   "metadata": {},
   "outputs": [],
   "source": [
    "from tensorflow.keras.preprocessing.text import Tokenizer\n",
    "from tensorflow.keras.preprocessing.sequence import pad_sequences"
   ]
  },
  {
   "cell_type": "markdown",
   "id": "b524afd5-79ed-433d-827b-ac04510ae8ad",
   "metadata": {},
   "source": [
    "Utilizando Tokenizer y pad_sequences de keras a nivel de caracter, obtener la entrada tokenizada. Por ejemplo:\n",
    "\n",
    "**El smiles**:\n",
    "\n",
    "'C[C@@]12CC[C@H]3[C@]4(C)CCC[C@@]5(C)C(=O)OCC[N+](C)(C)CCCCCCCCC[N+](C)(C)CCOC(=O)[C@]6(C)CCC[C@]7(C)[C@@H]6CC[C@@]68C[C@@H](OC(=O)CCCCCCCCC(=O)O[C@@H]1C[C@@]3(CC[C@@H]45)C2)[C@@](C)(CC[C@@H]76)C8.[Br-].[Br-]'\n",
    "\n",
    "**Tendría que quedar algo asi (puede que no sea exacto):**\n",
    "\n",
    "array([ 2, 11,  2, 13, 13, 12,  5,  7,  2,  2, 11,  2, 13, 16, 12, 10, 11,\n",
    "        2, 13, 12, 15,  3,  2,  4,  2,  2,  2, 11,  2, 13, 13, 12, 23,  3,\n",
    "        2,  4,  2,  3,  9,  6,  4,  6,  2,  2, 11,  8, 21, 12,  3,  2,  4,\n",
    "        3,  2,  4,  2,  2,  2,  2,  2,  2,  2,  2,  2, 11,  8, 21, 12,  3,\n",
    "        2,  4,  3,  2,  4,  2,  2,  6,  2,  3,  9,  6,  4, 11,  2, 13, 12,\n",
    "       30,  3,  2,  4,  2,  2,  2, 11,  2, 13, 12, 35,  3,  2,  4, 11,  2,\n",
    "       13, 13, 16, 12, 30,  2,  2, 11,  2, 13, 13, 12, 30, 36,  2, 11,  2,\n",
    "       13, 13, 16, 12,  3,  6,  2,  3,  9,  6,  4,  2,  2,  2,  2,  2,  2,\n",
    "        2,  2,  2,  3,  9,  6,  4,  6, 11,  2, 13, 13, 16, 12,  5,  2, 11,\n",
    "        2, 13, 13, 12, 10,  3,  2,  2, 11,  2, 13, 13, 16, 12, 15, 23,  4,\n",
    "        2,  7,  4, 11,  2, 13, 13, 12,  3,  2,  4,  3,  2,  2, 11,  2, 13,\n",
    "       13, 16, 12, 35, 30,  4,  2, 36, 20, 11, 25, 26, 17, 12, 20, 11, 25,\n",
    "       26, 17, 12], dtype=int32)\n",
    "       \n",
    "\n",
    "**Otro ejemplo:**\n",
    "smiles: 'NC(=O)O'\n",
    "\n",
    "array([0, 0, 0, 0, 0, 0, 0, 0, 0, 0, 0, 0, 0, 0, 0, 0, 0, 0, 0, 0, 0, 0,\n",
    "       0, 0, 0, 0, 0, 0, 0, 0, 0, 0, 0, 0, 0, 0, 0, 0, 0, 0, 0, 0, 0, 0,\n",
    "       0, 0, 0, 0, 0, 0, 0, 0, 0, 0, 0, 0, 0, 0, 0, 0, 0, 0, 0, 0, 0, 0,\n",
    "       0, 0, 0, 0, 0, 0, 0, 0, 0, 0, 0, 0, 0, 0, 0, 0, 0, 0, 0, 0, 0, 0,\n",
    "       0, 0, 0, 0, 0, 0, 0, 0, 0, 0, 0, 0, 0, 0, 0, 0, 0, 0, 0, 0, 0, 0,\n",
    "       0, 0, 0, 0, 0, 0, 0, 0, 0, 0, 0, 0, 0, 0, 0, 0, 0, 0, 0, 0, 0, 0,\n",
    "       0, 0, 0, 0, 0, 0, 0, 0, 0, 0, 0, 0, 0, 0, 0, 0, 0, 0, 0, 0, 0, 0,\n",
    "       0, 0, 0, 0, 0, 0, 0, 0, 0, 0, 0, 0, 0, 0, 0, 0, 0, 0, 0, 0, 0, 0,\n",
    "       0, 0, 0, 0, 0, 0, 0, 0, 0, 0, 0, 0, 0, 0, 0, 0, 0, 0, 0, 0, 0, 0,\n",
    "       0, 0, 8, 2, 3, 9, 6, 4, 6], dtype=int32)\n",
    "\n",
    "**Tener en cuenta:**\n",
    "\n",
    "- Ver cuanta es la máxima longitud para agregar el padding correspondiente\n",
    "- En el ejemplo se agrego padding a la izquierda"
   ]
  },
  {
   "cell_type": "code",
   "execution_count": 5,
   "id": "07f8fff5-c1f6-48d6-9e19-ee5defde20b1",
   "metadata": {},
   "outputs": [
    {
     "data": {
      "text/plain": [
       "(2930, 595)"
      ]
     },
     "execution_count": 5,
     "metadata": {},
     "output_type": "execute_result"
    }
   ],
   "source": [
    "max_len_idx = df['canonical_smiles'].apply(len).argmax()\n",
    "min_len_idx = df['canonical_smiles'].apply(len).argmin()\n",
    "max_len_idx, min_len_idx"
   ]
  },
  {
   "cell_type": "code",
   "execution_count": 6,
   "id": "703325ab-0193-4bf5-9b66-a880d7bc346b",
   "metadata": {},
   "outputs": [],
   "source": [
    "X = df['canonical_smiles']\n",
    "y = df['pIC50']"
   ]
  },
  {
   "cell_type": "code",
   "execution_count": 7,
   "id": "165f4f26-6302-4b59-ae2d-25682a73acb0",
   "metadata": {},
   "outputs": [
    {
     "data": {
      "text/plain": [
       "(18.0, -6.77)"
      ]
     },
     "execution_count": 7,
     "metadata": {},
     "output_type": "execute_result"
    }
   ],
   "source": [
    "max(y), min(y)"
   ]
  },
  {
   "cell_type": "code",
   "execution_count": 8,
   "id": "7c2be0df-f415-48a1-a6a3-a8a5e6dadc5d",
   "metadata": {},
   "outputs": [
    {
     "data": {
      "text/plain": [
       "('c1nnc(-c2cc3c(cn2)[nH]c2ncc(-c4ccc(CN5CCCCC5)cc4)cc23)o1',\n",
       " 'Br.BrCC1CN=C(Nc2ccccn2)S1')"
      ]
     },
     "execution_count": 8,
     "metadata": {},
     "output_type": "execute_result"
    }
   ],
   "source": [
    "max(X), min(X)"
   ]
  },
  {
   "cell_type": "code",
   "execution_count": 9,
   "id": "09894d86-4408-469c-b1f9-60f6d7218b5c",
   "metadata": {},
   "outputs": [],
   "source": [
    "# Implementar tokenización y guardar en X_seq_pad el dataset tokenizado\n",
    "\n",
    "tokenizer = Tokenizer(filters='' , lower=False, char_level=True) #toma la C minuscula y mayuscula\n",
    "tokenizer.fit_on_texts(X)\n",
    "\n",
    "# Obtener nuestro Indice de palabras de datos de entrenamiento (--------------------------------------- CAMBIAR!)\n",
    "\n",
    "word_index = tokenizer.word_index\n",
    "\n",
    "#Codificar oraciones de datos de entrenamiento (--------------------------------------- CAMBIAR!)\n",
    "\n",
    "X_seq = tokenizer.texts_to_sequences(X)\n",
    "\n",
    "#Obtener la longitud maxima de la secuencoa de entrenamiento (--------------------------------------- CAMBIAR!)\n",
    "\n",
    "max_len = max([len(x) for x in X_seq])\n",
    "\n",
    "#Rellenar las secuencias de entrenamiento (--------------------------------------- CAMBIAR!)\n",
    "\n",
    "pad_type = 'pre' #Rellena con 0 a la izquierda, para completar la secuencia\n",
    "X_seq_pad = pad_sequences(X_seq, padding=pad_type, maxlen=max_len)\n",
    "X_seq_pad = np.array(X_seq_pad)"
   ]
  },
  {
   "cell_type": "code",
   "execution_count": 10,
   "id": "c5a8d7c2-7c46-4f19-8d3d-544db362f96d",
   "metadata": {},
   "outputs": [
    {
     "name": "stdout",
     "output_type": "stream",
     "text": [
      "Word index: \n",
      " {'c': 1, 'C': 2, '(': 3, ')': 4, '1': 5, 'O': 6, '2': 7, 'N': 8, '=': 9, '3': 10, '[': 11, ']': 12, 'n': 13, '@': 14, '4': 15, 'H': 16, '-': 17, '/': 18, 'l': 19, '.': 20, '+': 21, 'F': 22, '5': 23, 'o': 24, 'B': 25, 'r': 26, 'S': 27, '\\\\': 28, '#': 29, 's': 30, '6': 31, 'I': 32, 'e': 33, 'P': 34, '7': 35, '8': 36, 'i': 37, 'a': 38}\n",
      "\n",
      "Padded training sequences: \n",
      " [[ 0  0  0 ...  4 24  5]\n",
      " [ 0  0  0 ...  2  2  5]\n",
      " [ 0  0  0 ...  1  1  5]\n",
      " ...\n",
      " [ 0  0  0 ...  5  6  2]\n",
      " [ 0  0  0 ...  1  5  6]\n",
      " [ 0  0  0 ...  7  9  6]]\n",
      "\n",
      "Padded traning shape:  (5664, 207)\n",
      "Training sequences data type:  <class 'numpy.ndarray'>\n",
      "[ 2 11  2 14 14 12  5  7  2  2 11  2 14 16 12 10 11  2 14 12 15  3  2  4\n",
      "  2  2  2 11  2 14 14 12 23  3  2  4  2  3  9  6  4  6  2  2 11  8 21 12\n",
      "  3  2  4  3  2  4  2  2  2  2  2  2  2  2  2 11  8 21 12  3  2  4  3  2\n",
      "  4  2  2  6  2  3  9  6  4 11  2 14 12 31  3  2  4  2  2  2 11  2 14 12\n",
      " 35  3  2  4 11  2 14 14 16 12 31  2  2 11  2 14 14 12 31 36  2 11  2 14\n",
      " 14 16 12  3  6  2  3  9  6  4  2  2  2  2  2  2  2  2  2  3  9  6  4  6\n",
      " 11  2 14 14 16 12  5  2 11  2 14 14 12 10  3  2  2 11  2 14 14 16 12 15\n",
      " 23  4  2  7  4 11  2 14 14 12  3  2  4  3  2  2 11  2 14 14 16 12 35 31\n",
      "  4  2 36 20 11 25 26 17 12 20 11 25 26 17 12]\n",
      "[0 0 0 0 0 0 0 0 0 0 0 0 0 0 0 0 0 0 0 0 0 0 0 0 0 0 0 0 0 0 0 0 0 0 0 0 0\n",
      " 0 0 0 0 0 0 0 0 0 0 0 0 0 0 0 0 0 0 0 0 0 0 0 0 0 0 0 0 0 0 0 0 0 0 0 0 0\n",
      " 0 0 0 0 0 0 0 0 0 0 0 0 0 0 0 0 0 0 0 0 0 0 0 0 0 0 0 0 0 0 0 0 0 0 0 0 0\n",
      " 0 0 0 0 0 0 0 0 0 0 0 0 0 0 0 0 0 0 0 0 0 0 0 0 0 0 0 0 0 0 0 0 0 0 0 0 0\n",
      " 0 0 0 0 0 0 0 0 0 0 0 0 0 0 0 0 0 0 0 0 0 0 0 0 0 0 0 0 0 0 0 0 0 0 0 0 0\n",
      " 0 0 0 0 0 0 0 0 0 0 0 0 0 0 0 8 2 3 9 6 4 6]\n"
     ]
    }
   ],
   "source": [
    "# seguirrrr.....\n",
    "# min 00:27:43\n",
    "print(\"Word index: \\n\", word_index)\n",
    "print(\"\\nPadded training sequences: \\n\", X_seq_pad)\n",
    "print(\"\\nPadded traning shape: \", X_seq_pad.shape)\n",
    "print(\"Training sequences data type: \", type(X_seq_pad))\n",
    "\n",
    "print(X_seq_pad[max_len_idx])\n",
    "print(X_seq_pad[min_len_idx])"
   ]
  },
  {
   "cell_type": "markdown",
   "id": "4233710d-9274-4dae-b22d-cf42b57ad862",
   "metadata": {
    "tags": []
   },
   "source": [
    "# Split"
   ]
  },
  {
   "cell_type": "code",
   "execution_count": 11,
   "id": "ce7a95e6-2486-42fb-97fb-865e3fd6a561",
   "metadata": {},
   "outputs": [],
   "source": [
    "from sklearn.model_selection import train_test_split"
   ]
  },
  {
   "cell_type": "code",
   "execution_count": 12,
   "id": "fcb9840f-2f41-45be-99a5-f05f3ab73ed8",
   "metadata": {},
   "outputs": [],
   "source": [
    "X_train, X_test, y_train, y_test = train_test_split(X_seq_pad, y, test_size=0.2, random_state=42)"
   ]
  },
  {
   "cell_type": "code",
   "execution_count": 13,
   "id": "4ad17134-3e15-42d1-b8c9-0c793169e145",
   "metadata": {},
   "outputs": [
    {
     "data": {
      "text/plain": [
       "(4531, 4531, 1133)"
      ]
     },
     "execution_count": 13,
     "metadata": {},
     "output_type": "execute_result"
    }
   ],
   "source": [
    "len(X_train), len(y_train), len(X_test)"
   ]
  },
  {
   "cell_type": "markdown",
   "id": "2461430a-6ef3-48e0-a255-ddcd4708905f",
   "metadata": {},
   "source": [
    "## Data Augmentation (No influye mucho)"
   ]
  },
  {
   "cell_type": "code",
   "execution_count": 14,
   "id": "748e535b-78fa-44f5-8cc1-547bc316b79d",
   "metadata": {},
   "outputs": [],
   "source": [
    "X_train = np.vstack([X_train, X_train[:, ::-1]])"
   ]
  },
  {
   "cell_type": "code",
   "execution_count": 15,
   "id": "66682d1c-38b6-45b4-8d5b-deaa0e197b20",
   "metadata": {},
   "outputs": [
    {
     "data": {
      "text/plain": [
       "(9062, 207)"
      ]
     },
     "execution_count": 15,
     "metadata": {},
     "output_type": "execute_result"
    }
   ],
   "source": [
    "X_train.shape"
   ]
  },
  {
   "cell_type": "code",
   "execution_count": 16,
   "id": "890d8323-2238-4ae5-b48e-86b49a384ae1",
   "metadata": {},
   "outputs": [],
   "source": [
    "y_train = np.hstack([y_train, y_train])"
   ]
  },
  {
   "cell_type": "code",
   "execution_count": 17,
   "id": "83a76b3f-b4fe-4039-8fad-2de0dea2dd3d",
   "metadata": {},
   "outputs": [
    {
     "data": {
      "text/plain": [
       "(9062,)"
      ]
     },
     "execution_count": 17,
     "metadata": {},
     "output_type": "execute_result"
    }
   ],
   "source": [
    "y_train.shape"
   ]
  },
  {
   "cell_type": "markdown",
   "id": "85941430-2534-4d7d-ba52-d934a31c1bf6",
   "metadata": {
    "tags": []
   },
   "source": [
    "# Network Model"
   ]
  },
  {
   "cell_type": "code",
   "execution_count": 18,
   "id": "6bd5d1bf-4640-4cbc-acd3-72881ddcc07e",
   "metadata": {},
   "outputs": [],
   "source": [
    "from tensorflow.keras import Sequential\n",
    "from tensorflow.keras.layers import LSTM, Dense, Embedding, Bidirectional, Dropout, Activation, BatchNormalization\n",
    "from tensorflow.keras.callbacks import ModelCheckpoint\n",
    "from tensorflow.keras.optimizers import Adam, RMSprop\n",
    "from tensorflow.keras import backend as K"
   ]
  },
  {
   "cell_type": "code",
   "execution_count": 19,
   "id": "4bf115a2-9f1b-42b8-9b62-59728f1da977",
   "metadata": {},
   "outputs": [],
   "source": [
    "# Métrica\n",
    "\n",
    "def R2(y_true, y_pred):\n",
    "    SS_res =  K.sum(K.square( y_true-y_pred ))\n",
    "    SS_tot = K.sum(K.square( y_true - K.mean(y_true) ) )\n",
    "    return ( 1 - SS_res/(SS_tot + K.epsilon()) )"
   ]
  },
  {
   "cell_type": "code",
   "execution_count": 20,
   "id": "92d30b68-3110-459c-887d-a06f056d067b",
   "metadata": {},
   "outputs": [
    {
     "name": "stdout",
     "output_type": "stream",
     "text": [
      "38\n"
     ]
    }
   ],
   "source": [
    "# vocab_size = # Completar largo del vocabulario\n",
    "vocab_size = len(word_index)\n",
    "print(vocab_size)"
   ]
  },
  {
   "cell_type": "code",
   "execution_count": 21,
   "id": "6166a72b-ccd1-459c-a3a1-fa43bf31a369",
   "metadata": {},
   "outputs": [
    {
     "name": "stdout",
     "output_type": "stream",
     "text": [
      "207\n"
     ]
    }
   ],
   "source": [
    "max_sequence_len = X_seq_pad.shape[1] # Completar\n",
    "print(max_sequence_len)"
   ]
  },
  {
   "cell_type": "markdown",
   "id": "cc91cd42-b885-4ab5-b348-57296b0c0d10",
   "metadata": {},
   "source": [
    "# Armar modelo en keras de LSTM\n",
    "El de abajo es un ejemplo propuesto pero puede armar otro similar (siempre con LSTM o GRU)"
   ]
  },
  {
   "cell_type": "raw",
   "id": "9883ed67-e2d9-412a-8f8b-1e463df69ed8",
   "metadata": {},
   "source": [
    "Model: \"sequential\"\n",
    "_________________________________________________________________\n",
    "Layer (type)                 Output Shape              Param #   \n",
    "=================================================================\n",
    "embedding (Embedding)        (None, 207, 64)           2496      \n",
    "_________________________________________________________________\n",
    "bidirectional (Bidirectional (None, 200)               132000    \n",
    "_________________________________________________________________\n",
    "dense (Dense)                (None, 50)                10050     \n",
    "_________________________________________________________________\n",
    "batch_normalization (BatchNo (None, 50)                200       \n",
    "_________________________________________________________________\n",
    "activation (Activation)      (None, 50)                0         \n",
    "_________________________________________________________________\n",
    "dense_1 (Dense)              (None, 1)                 51        \n",
    "=================================================================\n",
    "Total params: 144,797\n",
    "Trainable params: 144,697\n",
    "Non-trainable params: 100\n",
    "_________________________________________________________________"
   ]
  },
  {
   "cell_type": "code",
   "execution_count": 22,
   "id": "0e799db1-6092-4b5e-8a07-894b7c114724",
   "metadata": {},
   "outputs": [],
   "source": [
    "cells = 100\n",
    "return_sequences = False\n",
    "\n",
    "model = Sequential()\n",
    "# model.add(Embedding(vocab_size+1, 64, input_length= max_sequence_len))\n",
    "# model.add(Embedding(vocab_size+1, 2, input_length= max_sequence_len)) #Probar reducir el vocabulario a 2\n",
    "model.add(Embedding(vocab_size+1, 64, input_length= max_sequence_len))\n",
    "model.add(Bidirectional(LSTM(cells, return_state= False, return_sequences=return_sequences, activation='tanh')))\n",
    "# model.add(Dense(50, activation='linear'))\n",
    "model.add(Dense(100, activation='linear'))\n",
    "model.add(Dense(50, activation='linear'))\n",
    "model.add(BatchNormalization())\n",
    "# model.add(Dropout(0.8))\n",
    "# model.add(Dropout(0.5))\n",
    "model.add(Activation('relu'))\n",
    "model.add(Dense(1, activation='linear'))"
   ]
  },
  {
   "cell_type": "code",
   "execution_count": 23,
   "id": "8f2b5b70-4a36-488c-9c76-ccc0eba4a6a0",
   "metadata": {},
   "outputs": [
    {
     "name": "stdout",
     "output_type": "stream",
     "text": [
      "Model: \"sequential\"\n",
      "_________________________________________________________________\n",
      " Layer (type)                Output Shape              Param #   \n",
      "=================================================================\n",
      " embedding (Embedding)       (None, 207, 64)           2496      \n",
      "                                                                 \n",
      " bidirectional (Bidirectiona  (None, 200)              132000    \n",
      " l)                                                              \n",
      "                                                                 \n",
      " dense (Dense)               (None, 100)               20100     \n",
      "                                                                 \n",
      " dense_1 (Dense)             (None, 50)                5050      \n",
      "                                                                 \n",
      " batch_normalization (BatchN  (None, 50)               200       \n",
      " ormalization)                                                   \n",
      "                                                                 \n",
      " activation (Activation)     (None, 50)                0         \n",
      "                                                                 \n",
      " dense_2 (Dense)             (None, 1)                 51        \n",
      "                                                                 \n",
      "=================================================================\n",
      "Total params: 159,897\n",
      "Trainable params: 159,797\n",
      "Non-trainable params: 100\n",
      "_________________________________________________________________\n"
     ]
    }
   ],
   "source": [
    "model.summary()"
   ]
  },
  {
   "cell_type": "code",
   "execution_count": 24,
   "id": "9138b411-fc5d-41bd-8c8e-c12580cc5b14",
   "metadata": {},
   "outputs": [],
   "source": [
    "model.compile(optimizer=RMSprop(learning_rate=0.001), loss='mse', metrics=[R2])"
   ]
  },
  {
   "cell_type": "code",
   "execution_count": 25,
   "id": "62c3f792-f413-4150-8ebf-1f59c5fb986d",
   "metadata": {},
   "outputs": [],
   "source": [
    "mcp = ModelCheckpoint('models/best_model_{epoch}', save_best_only=True, save_format=\"h5\")"
   ]
  },
  {
   "cell_type": "code",
   "execution_count": 26,
   "id": "3f37ab4e-0e3a-44c6-a572-ba5c67930c61",
   "metadata": {},
   "outputs": [
    {
     "name": "stdout",
     "output_type": "stream",
     "text": [
      "Epoch 1/100\n",
      "71/71 [==============================] - 123s 2s/step - loss: 12.1523 - R2: -3.6312 - val_loss: 24.9179 - val_R2: -7.8506\n",
      "Epoch 2/100\n",
      "71/71 [==============================] - 124s 2s/step - loss: 3.6239 - R2: -0.3868 - val_loss: 8.7413 - val_R2: -2.0894\n",
      "Epoch 3/100\n",
      "71/71 [==============================] - 129s 2s/step - loss: 2.3414 - R2: 0.1156 - val_loss: 3.4718 - val_R2: -0.2107\n",
      "Epoch 4/100\n",
      "71/71 [==============================] - 129s 2s/step - loss: 2.2770 - R2: 0.1432 - val_loss: 3.2255 - val_R2: -0.1010\n",
      "Epoch 5/100\n",
      "71/71 [==============================] - 129s 2s/step - loss: 2.2142 - R2: 0.1676 - val_loss: 30.5613 - val_R2: -9.7011\n",
      "Epoch 6/100\n",
      "71/71 [==============================] - 130s 2s/step - loss: 5.3672 - R2: -1.1312 - val_loss: 2.7915 - val_R2: 0.0500\n",
      "Epoch 7/100\n",
      "71/71 [==============================] - 131s 2s/step - loss: 2.6723 - R2: -0.0150 - val_loss: 4.5115 - val_R2: -0.5731\n",
      "Epoch 8/100\n",
      "71/71 [==============================] - 132s 2s/step - loss: 2.4341 - R2: 0.0808 - val_loss: 4.3618 - val_R2: -0.5005\n",
      "Epoch 9/100\n",
      "71/71 [==============================] - 132s 2s/step - loss: 2.1801 - R2: 0.1772 - val_loss: 3.9150 - val_R2: -0.3410\n",
      "Epoch 10/100\n",
      "71/71 [==============================] - 133s 2s/step - loss: 2.1128 - R2: 0.2120 - val_loss: 2.9894 - val_R2: -0.0216\n",
      "Epoch 11/100\n",
      "71/71 [==============================] - 133s 2s/step - loss: 2.2038 - R2: 0.1650 - val_loss: 7.7541 - val_R2: -1.6953\n",
      "Epoch 12/100\n",
      "71/71 [==============================] - 134s 2s/step - loss: 2.3418 - R2: 0.1166 - val_loss: 3.0454 - val_R2: -0.0523\n",
      "Epoch 13/100\n",
      "71/71 [==============================] - 133s 2s/step - loss: 2.2006 - R2: 0.1714 - val_loss: 2.7157 - val_R2: 0.0666\n",
      "Epoch 14/100\n",
      "71/71 [==============================] - 133s 2s/step - loss: 2.0217 - R2: 0.2333 - val_loss: 2.9419 - val_R2: -0.0083\n",
      "Epoch 15/100\n",
      "71/71 [==============================] - 132s 2s/step - loss: 2.1506 - R2: 0.1910 - val_loss: 2.4325 - val_R2: 0.1693\n",
      "Epoch 16/100\n",
      "71/71 [==============================] - 134s 2s/step - loss: 2.0750 - R2: 0.2217 - val_loss: 2.1929 - val_R2: 0.2512\n",
      "Epoch 17/100\n",
      "71/71 [==============================] - 133s 2s/step - loss: 2.1323 - R2: 0.2012 - val_loss: 2.8253 - val_R2: 0.0235\n",
      "Epoch 18/100\n",
      "71/71 [==============================] - 134s 2s/step - loss: 2.1216 - R2: 0.1938 - val_loss: 2.4849 - val_R2: 0.1436\n",
      "Epoch 19/100\n",
      "71/71 [==============================] - 134s 2s/step - loss: 1.8532 - R2: 0.2996 - val_loss: 2.1934 - val_R2: 0.2484\n",
      "Epoch 20/100\n",
      "71/71 [==============================] - 134s 2s/step - loss: 1.9155 - R2: 0.2801 - val_loss: 2.2749 - val_R2: 0.2233\n",
      "Epoch 21/100\n",
      "71/71 [==============================] - 134s 2s/step - loss: 1.8746 - R2: 0.2892 - val_loss: 2.4288 - val_R2: 0.1647\n",
      "Epoch 22/100\n",
      "71/71 [==============================] - 134s 2s/step - loss: 1.8079 - R2: 0.3191 - val_loss: 2.4287 - val_R2: 0.1670\n",
      "Epoch 23/100\n",
      "71/71 [==============================] - 5428s 78s/step - loss: 1.8305 - R2: 0.3066 - val_loss: 2.1344 - val_R2: 0.2679\n",
      "Epoch 24/100\n",
      "71/71 [==============================] - 141s 2s/step - loss: 1.7190 - R2: 0.3546 - val_loss: 2.0028 - val_R2: 0.3113\n",
      "Epoch 25/100\n",
      "71/71 [==============================] - 142s 2s/step - loss: 1.7130 - R2: 0.3554 - val_loss: 1.8823 - val_R2: 0.3557\n",
      "Epoch 26/100\n",
      "71/71 [==============================] - 134s 2s/step - loss: 1.7085 - R2: 0.3517 - val_loss: 1.9427 - val_R2: 0.3312\n",
      "Epoch 27/100\n",
      "71/71 [==============================] - 134s 2s/step - loss: 1.6839 - R2: 0.3609 - val_loss: 1.8976 - val_R2: 0.3477\n",
      "Epoch 28/100\n",
      "71/71 [==============================] - 137s 2s/step - loss: 1.6441 - R2: 0.3744 - val_loss: 1.7704 - val_R2: 0.3889\n",
      "Epoch 29/100\n",
      "71/71 [==============================] - 141s 2s/step - loss: 1.6256 - R2: 0.3808 - val_loss: 2.0898 - val_R2: 0.2910\n",
      "Epoch 30/100\n",
      "71/71 [==============================] - 169s 2s/step - loss: 1.5858 - R2: 0.3964 - val_loss: 1.7147 - val_R2: 0.4060\n",
      "Epoch 31/100\n",
      "71/71 [==============================] - 160s 2s/step - loss: 1.5100 - R2: 0.4281 - val_loss: 1.7107 - val_R2: 0.4091\n",
      "Epoch 32/100\n",
      "71/71 [==============================] - 148s 2s/step - loss: 1.5308 - R2: 0.4156 - val_loss: 1.6631 - val_R2: 0.4246\n",
      "Epoch 33/100\n",
      "71/71 [==============================] - 138s 2s/step - loss: 1.4714 - R2: 0.4427 - val_loss: 1.6556 - val_R2: 0.4280\n",
      "Epoch 34/100\n",
      "71/71 [==============================] - 138s 2s/step - loss: 1.4189 - R2: 0.4563 - val_loss: 1.5895 - val_R2: 0.4507\n",
      "Epoch 35/100\n",
      "71/71 [==============================] - 139s 2s/step - loss: 1.3955 - R2: 0.4701 - val_loss: 1.5573 - val_R2: 0.4596\n",
      "Epoch 36/100\n",
      "71/71 [==============================] - 138s 2s/step - loss: 1.8082 - R2: 0.3174 - val_loss: 1.7941 - val_R2: 0.3795\n",
      "Epoch 37/100\n",
      "71/71 [==============================] - 137s 2s/step - loss: 1.3786 - R2: 0.4688 - val_loss: 1.5577 - val_R2: 0.4582\n",
      "Epoch 38/100\n",
      "71/71 [==============================] - 139s 2s/step - loss: 1.3273 - R2: 0.4962 - val_loss: 1.6726 - val_R2: 0.4201\n",
      "Epoch 39/100\n",
      "71/71 [==============================] - 134s 2s/step - loss: 1.3360 - R2: 0.4918 - val_loss: 1.4487 - val_R2: 0.4910\n",
      "Epoch 40/100\n",
      "71/71 [==============================] - 134s 2s/step - loss: 1.2610 - R2: 0.5221 - val_loss: 1.4435 - val_R2: 0.4973\n",
      "Epoch 41/100\n",
      "71/71 [==============================] - 136s 2s/step - loss: 1.2549 - R2: 0.5229 - val_loss: 1.3633 - val_R2: 0.5278\n",
      "Epoch 42/100\n",
      "71/71 [==============================] - 137s 2s/step - loss: 1.2073 - R2: 0.5393 - val_loss: 1.4432 - val_R2: 0.4953\n",
      "Epoch 43/100\n",
      "71/71 [==============================] - 144s 2s/step - loss: 1.1895 - R2: 0.5482 - val_loss: 1.3577 - val_R2: 0.5243\n",
      "Epoch 44/100\n",
      "71/71 [==============================] - 149s 2s/step - loss: 1.1696 - R2: 0.5588 - val_loss: 1.4158 - val_R2: 0.5024\n",
      "Epoch 45/100\n",
      "71/71 [==============================] - 142s 2s/step - loss: 1.1472 - R2: 0.5608 - val_loss: 1.4362 - val_R2: 0.5023\n",
      "Epoch 46/100\n",
      "71/71 [==============================] - 139s 2s/step - loss: 1.0995 - R2: 0.5801 - val_loss: 1.4125 - val_R2: 0.4984\n",
      "Epoch 47/100\n",
      "71/71 [==============================] - 139s 2s/step - loss: 1.0983 - R2: 0.5781 - val_loss: 1.5037 - val_R2: 0.4744\n",
      "Epoch 48/100\n",
      "71/71 [==============================] - 145s 2s/step - loss: 1.0634 - R2: 0.5946 - val_loss: 1.3913 - val_R2: 0.5114\n",
      "Epoch 49/100\n",
      "71/71 [==============================] - 135s 2s/step - loss: 1.0453 - R2: 0.5985 - val_loss: 1.3439 - val_R2: 0.5298\n",
      "Epoch 50/100\n",
      "71/71 [==============================] - 146s 2s/step - loss: 1.0021 - R2: 0.6192 - val_loss: 1.6317 - val_R2: 0.4490\n",
      "Epoch 51/100\n",
      "71/71 [==============================] - 159s 2s/step - loss: 0.9817 - R2: 0.6232 - val_loss: 1.2525 - val_R2: 0.5627\n",
      "Epoch 52/100\n",
      "71/71 [==============================] - 154s 2s/step - loss: 0.9526 - R2: 0.6407 - val_loss: 1.2678 - val_R2: 0.5544\n",
      "Epoch 53/100\n",
      "71/71 [==============================] - 156s 2s/step - loss: 0.9524 - R2: 0.6383 - val_loss: 1.3901 - val_R2: 0.5085\n",
      "Epoch 54/100\n",
      "71/71 [==============================] - 155s 2s/step - loss: 0.9164 - R2: 0.6499 - val_loss: 1.4630 - val_R2: 0.4821\n",
      "Epoch 55/100\n",
      "71/71 [==============================] - 153s 2s/step - loss: 0.8794 - R2: 0.6649 - val_loss: 1.2393 - val_R2: 0.5644\n",
      "Epoch 56/100\n",
      "71/71 [==============================] - 154s 2s/step - loss: 0.8823 - R2: 0.6591 - val_loss: 1.2370 - val_R2: 0.5672\n",
      "Epoch 57/100\n",
      "71/71 [==============================] - 153s 2s/step - loss: 0.8385 - R2: 0.6816 - val_loss: 1.2723 - val_R2: 0.5499\n",
      "Epoch 58/100\n",
      "71/71 [==============================] - 150s 2s/step - loss: 0.8036 - R2: 0.6941 - val_loss: 1.1872 - val_R2: 0.5849\n",
      "Epoch 59/100\n",
      "71/71 [==============================] - 154s 2s/step - loss: 0.7855 - R2: 0.7040 - val_loss: 1.2214 - val_R2: 0.5721\n",
      "Epoch 60/100\n",
      "71/71 [==============================] - 154s 2s/step - loss: 0.7675 - R2: 0.7085 - val_loss: 1.1879 - val_R2: 0.5797\n",
      "Epoch 61/100\n",
      "71/71 [==============================] - 155s 2s/step - loss: 0.7452 - R2: 0.7170 - val_loss: 1.2818 - val_R2: 0.5459\n",
      "Epoch 62/100\n",
      "71/71 [==============================] - 154s 2s/step - loss: 0.7110 - R2: 0.7292 - val_loss: 1.2558 - val_R2: 0.5548\n",
      "Epoch 63/100\n",
      "71/71 [==============================] - 139s 2s/step - loss: 0.7115 - R2: 0.7269 - val_loss: 1.5435 - val_R2: 0.4777\n",
      "Epoch 64/100\n",
      "71/71 [==============================] - 141s 2s/step - loss: 0.6715 - R2: 0.7429 - val_loss: 1.2013 - val_R2: 0.5765\n",
      "Epoch 65/100\n",
      "71/71 [==============================] - 137s 2s/step - loss: 0.6487 - R2: 0.7525 - val_loss: 1.3476 - val_R2: 0.5210\n",
      "Epoch 66/100\n",
      "71/71 [==============================] - 138s 2s/step - loss: 0.6605 - R2: 0.7486 - val_loss: 1.1720 - val_R2: 0.5843\n",
      "Epoch 67/100\n",
      "71/71 [==============================] - 136s 2s/step - loss: 0.6638 - R2: 0.7504 - val_loss: 1.1386 - val_R2: 0.5964\n",
      "Epoch 68/100\n",
      "71/71 [==============================] - 136s 2s/step - loss: 0.6019 - R2: 0.7708 - val_loss: 1.2029 - val_R2: 0.5767\n",
      "Epoch 69/100\n",
      "71/71 [==============================] - 137s 2s/step - loss: 0.6021 - R2: 0.7688 - val_loss: 1.2954 - val_R2: 0.5370\n",
      "Epoch 70/100\n",
      "71/71 [==============================] - 137s 2s/step - loss: 0.5858 - R2: 0.7772 - val_loss: 1.1651 - val_R2: 0.5855\n",
      "Epoch 71/100\n",
      "71/71 [==============================] - 129s 2s/step - loss: 0.5784 - R2: 0.7795 - val_loss: 1.1741 - val_R2: 0.5873\n",
      "Epoch 72/100\n",
      "71/71 [==============================] - 107s 2s/step - loss: 0.5582 - R2: 0.7859 - val_loss: 1.0779 - val_R2: 0.6192\n",
      "Epoch 73/100\n",
      "71/71 [==============================] - 106s 1s/step - loss: 0.5360 - R2: 0.7980 - val_loss: 1.2708 - val_R2: 0.5498\n",
      "Epoch 74/100\n",
      "71/71 [==============================] - 107s 2s/step - loss: 0.5217 - R2: 0.8056 - val_loss: 1.2015 - val_R2: 0.5721\n",
      "Epoch 75/100\n",
      "71/71 [==============================] - 107s 2s/step - loss: 0.5204 - R2: 0.8009 - val_loss: 1.1122 - val_R2: 0.6035\n",
      "Epoch 76/100\n",
      "71/71 [==============================] - 109s 2s/step - loss: 0.5157 - R2: 0.8078 - val_loss: 1.1011 - val_R2: 0.6105\n",
      "Epoch 77/100\n",
      "71/71 [==============================] - 120s 2s/step - loss: 0.4908 - R2: 0.8157 - val_loss: 1.1194 - val_R2: 0.6066\n",
      "Epoch 78/100\n",
      "71/71 [==============================] - 139s 2s/step - loss: 0.4787 - R2: 0.8191 - val_loss: 1.0808 - val_R2: 0.6145\n",
      "Epoch 79/100\n",
      "71/71 [==============================] - 139s 2s/step - loss: 0.4824 - R2: 0.8163 - val_loss: 1.1321 - val_R2: 0.5979\n",
      "Epoch 80/100\n",
      "71/71 [==============================] - 138s 2s/step - loss: 0.4487 - R2: 0.8306 - val_loss: 1.1111 - val_R2: 0.6035\n",
      "Epoch 81/100\n",
      "71/71 [==============================] - 141s 2s/step - loss: 0.4538 - R2: 0.8311 - val_loss: 1.1470 - val_R2: 0.5929\n",
      "Epoch 82/100\n",
      "71/71 [==============================] - 137s 2s/step - loss: 0.4546 - R2: 0.8277 - val_loss: 1.0368 - val_R2: 0.6315\n",
      "Epoch 83/100\n",
      "71/71 [==============================] - 138s 2s/step - loss: 0.4360 - R2: 0.8352 - val_loss: 1.0347 - val_R2: 0.6340\n",
      "Epoch 84/100\n",
      "71/71 [==============================] - 137s 2s/step - loss: 0.4288 - R2: 0.8387 - val_loss: 1.1115 - val_R2: 0.6013\n",
      "Epoch 85/100\n",
      "71/71 [==============================] - 137s 2s/step - loss: 0.4353 - R2: 0.8356 - val_loss: 1.0848 - val_R2: 0.6107\n",
      "Epoch 86/100\n",
      "71/71 [==============================] - 138s 2s/step - loss: 0.4258 - R2: 0.8416 - val_loss: 1.0936 - val_R2: 0.6077\n",
      "Epoch 87/100\n",
      "71/71 [==============================] - 139s 2s/step - loss: 0.4019 - R2: 0.8491 - val_loss: 1.0704 - val_R2: 0.6195\n",
      "Epoch 88/100\n",
      "71/71 [==============================] - 139s 2s/step - loss: 0.4052 - R2: 0.8484 - val_loss: 1.1149 - val_R2: 0.5992\n",
      "Epoch 89/100\n",
      "71/71 [==============================] - 138s 2s/step - loss: 0.3877 - R2: 0.8539 - val_loss: 1.1619 - val_R2: 0.5804\n",
      "Epoch 90/100\n",
      "71/71 [==============================] - 139s 2s/step - loss: 0.3863 - R2: 0.8571 - val_loss: 1.1133 - val_R2: 0.6049\n",
      "Epoch 91/100\n",
      "71/71 [==============================] - 139s 2s/step - loss: 0.3851 - R2: 0.8554 - val_loss: 1.1979 - val_R2: 0.5751\n",
      "Epoch 92/100\n",
      "71/71 [==============================] - 138s 2s/step - loss: 0.3902 - R2: 0.8530 - val_loss: 1.1627 - val_R2: 0.5824\n",
      "Epoch 93/100\n",
      "71/71 [==============================] - 138s 2s/step - loss: 0.3692 - R2: 0.8608 - val_loss: 1.1324 - val_R2: 0.5913\n",
      "Epoch 94/100\n",
      "71/71 [==============================] - 138s 2s/step - loss: 0.3597 - R2: 0.8654 - val_loss: 1.1240 - val_R2: 0.5994\n",
      "Epoch 95/100\n",
      "71/71 [==============================] - 139s 2s/step - loss: 0.3660 - R2: 0.8644 - val_loss: 1.2035 - val_R2: 0.5688\n",
      "Epoch 96/100\n",
      "71/71 [==============================] - 137s 2s/step - loss: 0.3505 - R2: 0.8680 - val_loss: 1.1435 - val_R2: 0.5930\n",
      "Epoch 97/100\n",
      "71/71 [==============================] - 137s 2s/step - loss: 0.3532 - R2: 0.8669 - val_loss: 1.1313 - val_R2: 0.5952\n",
      "Epoch 98/100\n",
      "71/71 [==============================] - 138s 2s/step - loss: 0.3409 - R2: 0.8721 - val_loss: 0.9567 - val_R2: 0.6593\n",
      "Epoch 99/100\n",
      "71/71 [==============================] - 138s 2s/step - loss: 0.3445 - R2: 0.8713 - val_loss: 1.0763 - val_R2: 0.6152\n",
      "Epoch 100/100\n",
      "71/71 [==============================] - 137s 2s/step - loss: 0.3337 - R2: 0.8751 - val_loss: 1.1428 - val_R2: 0.5873\n"
     ]
    }
   ],
   "source": [
    "history = model.fit(X_train, y_train, epochs=100, batch_size=128, validation_data=[X_test, y_test], callbacks=[])"
   ]
  },
  {
   "cell_type": "code",
   "execution_count": 27,
   "id": "0084fbb1-e83e-4808-99bf-1458f3ea3076",
   "metadata": {},
   "outputs": [
    {
     "data": {
      "text/plain": [
       "array([[5.4289236],\n",
       "       [5.637434 ],\n",
       "       [6.966179 ],\n",
       "       ...,\n",
       "       [5.0139594],\n",
       "       [6.794742 ],\n",
       "       [6.0516644]], dtype=float32)"
      ]
     },
     "execution_count": 27,
     "metadata": {},
     "output_type": "execute_result"
    }
   ],
   "source": [
    "y_pred = model.predict(X_test)\n",
    "y_pred"
   ]
  },
  {
   "cell_type": "markdown",
   "id": "382979a3-f299-4762-8b6d-10a6ea4d3c70",
   "metadata": {},
   "source": [
    "# Score"
   ]
  },
  {
   "cell_type": "code",
   "execution_count": 28,
   "id": "f9fd5d60-841f-46c3-94b6-5755b4d548cd",
   "metadata": {},
   "outputs": [],
   "source": [
    "r2 = 1 - ((y_test.values - y_pred.reshape(-1)) ** 2).sum() / ((y_test - y_test.mean()) ** 2).sum()"
   ]
  },
  {
   "cell_type": "code",
   "execution_count": 29,
   "id": "4d2bfabe-2e3e-40cf-a1e8-2d458ee7f328",
   "metadata": {},
   "outputs": [
    {
     "data": {
      "text/plain": [
       "0.5298963712857632"
      ]
     },
     "execution_count": 29,
     "metadata": {},
     "output_type": "execute_result"
    }
   ],
   "source": [
    "r2\n",
    "# 0.4984533246797399"
   ]
  },
  {
   "cell_type": "markdown",
   "id": "483b3761-89a9-4089-9d21-14df1abf08c4",
   "metadata": {
    "tags": []
   },
   "source": [
    "### Rsultados\n",
    "\n",
    "#### 1er Modelo: Embed_64_bi_lstm_100_dense_50_drop(0.8) ---> R2 = 0.6005000020829785\n",
    "#### 2er Modelo: Embed_19_bi_lstm_100_dense_50_drop(0.8) ---> R2 = 0.5729760029559614\n",
    "#### 3er Modelo: Embed_10_bi_lstm_100_dense_128_drop(0.8) ---> R2 = 0.5298963712857632\n",
    "#### 4to Modelo: Embed_64_bi_lstm_100_dense_50_drop08_pre_lr001 --> val_R2 = 0.5703483144323962\n",
    "#### 5to Modelo: Embed_64_bi_lstm_100_dense_50_drop08_pre_lr01 --> val_R2 = 0.6302058543334299\n",
    "#### 6to Modelo: Embed_64_bi_lstm_100_dense_50_drop08_pre_lr05_ep27 -> val_R2 = -2.3896734968609223e-07\n",
    "#### 7mo Modelo: Embed_32_bi_lstm_100_dense_50_drop08_pre_lr01_ep50 -> val_R2 = 0.6033206693160067"
   ]
  },
  {
   "cell_type": "code",
   "execution_count": 30,
   "id": "85262541-e04a-4ff2-b3e6-a47643db66f6",
   "metadata": {},
   "outputs": [],
   "source": [
    "# model.save('models/embed_64_bi_lstm_100_dense_50_bn.h5', )"
   ]
  },
  {
   "cell_type": "markdown",
   "id": "5f683e18-c876-4f7c-93ea-a33d495dcdaa",
   "metadata": {},
   "source": [
    "# Load model (solo si se grabo el modelo)"
   ]
  },
  {
   "cell_type": "code",
   "execution_count": 31,
   "id": "285c8740-f0bb-4237-8593-ff9b815de0e3",
   "metadata": {},
   "outputs": [],
   "source": [
    "from tensorflow.keras.models import load_model"
   ]
  },
  {
   "cell_type": "code",
   "execution_count": 32,
   "id": "2168984f-770c-436e-92da-c1344b1d3abc",
   "metadata": {},
   "outputs": [],
   "source": [
    "# model_loaded = load_model('models/embed_64_bi_lstm_100_dense_50_bn.h5', custom_objects={'R2': R2})"
   ]
  },
  {
   "cell_type": "code",
   "execution_count": 33,
   "id": "13a9d7d8-41e0-44a0-a8b9-02157a11f8f2",
   "metadata": {},
   "outputs": [],
   "source": [
    "#y_pred = model_loaded.predict(X_test)"
   ]
  },
  {
   "cell_type": "code",
   "execution_count": 34,
   "id": "26c63493-3f25-4383-9654-58ee62aa3ae5",
   "metadata": {},
   "outputs": [
    {
     "data": {
      "text/plain": [
       "0.5298963712857632"
      ]
     },
     "execution_count": 34,
     "metadata": {},
     "output_type": "execute_result"
    }
   ],
   "source": [
    "r2 = 1 - ((y_test.values - y_pred.reshape(-1)) ** 2).sum() / ((y_test - y_test.mean()) ** 2).sum()\n",
    "r2"
   ]
  },
  {
   "cell_type": "markdown",
   "id": "c8ab60bf-7b98-4f46-b1dd-b08b5fbf8bed",
   "metadata": {},
   "source": [
    "¿Hasta que valores de r2 logró?"
   ]
  },
  {
   "cell_type": "markdown",
   "id": "7f1a6260-e31f-4e5e-a923-ce67bf31152f",
   "metadata": {},
   "source": [
    "# Evaluación"
   ]
  },
  {
   "cell_type": "code",
   "execution_count": 35,
   "id": "25393446-e95f-475d-8c0e-6d8b4a23b50b",
   "metadata": {},
   "outputs": [],
   "source": [
    "# ! pip install seaborn"
   ]
  },
  {
   "cell_type": "code",
   "execution_count": 36,
   "id": "cbc74ec7-a7d2-47a6-b684-ff2ef4245384",
   "metadata": {},
   "outputs": [],
   "source": [
    "import seaborn as sns\n",
    "import matplotlib.pyplot as plt"
   ]
  },
  {
   "cell_type": "code",
   "execution_count": 37,
   "id": "7dd9d7e6-2789-459e-b9dd-593e10847fc4",
   "metadata": {},
   "outputs": [
    {
     "data": {
      "image/png": "[encoded data removed]",
      "text/plain": [
       "<Figure size 500x500 with 1 Axes>"
      ]
     },
     "metadata": {},
     "output_type": "display_data"
    }
   ],
   "source": [
    "sns.set(color_codes=True)\n",
    "sns.set_style(\"white\")\n",
    "\n",
    "ax = sns.regplot(x=y_test, y=y_pred, scatter_kws={'alpha':0.4})\n",
    "ax.set_xlabel('Experimental pIC50', fontsize='large', fontweight='bold')\n",
    "ax.set_ylabel('Predicted pIC50', fontsize='large', fontweight='bold')\n",
    "ax.set_xlim(0, 12)\n",
    "ax.set_ylim(0, 12)\n",
    "ax.figure.set_size_inches(5, 5)\n",
    "plt.show()"
   ]
  },
  {
   "cell_type": "markdown",
   "id": "378ea692-50f0-4275-9b28-de14cd8a678d",
   "metadata": {},
   "source": [
    "## TSNE"
   ]
  },
  {
   "cell_type": "code",
   "execution_count": 38,
   "id": "4d4bb2ea-8738-4ea9-bea7-f717660ac6ea",
   "metadata": {},
   "outputs": [],
   "source": [
    "from sklearn.manifold import TSNE\n",
    "import matplotlib.pyplot as plt"
   ]
  },
  {
   "cell_type": "code",
   "execution_count": 39,
   "id": "818121e4-c5ce-49c8-857b-479dc496b6f2",
   "metadata": {},
   "outputs": [],
   "source": [
    "embeddings = model.layers[0].get_weights()[0][1:]"
   ]
  },
  {
   "cell_type": "code",
   "execution_count": 40,
   "id": "3b184e52-f2ca-4e57-a902-bd7fcf3746d8",
   "metadata": {},
   "outputs": [
    {
     "data": {
      "text/plain": [
       "(38, 10)"
      ]
     },
     "execution_count": 40,
     "metadata": {},
     "output_type": "execute_result"
    }
   ],
   "source": [
    "embeddings.shape"
   ]
  },
  {
   "cell_type": "code",
   "execution_count": 41,
   "id": "584a48fe-fbf0-4741-bd83-3e8c82194c80",
   "metadata": {},
   "outputs": [],
   "source": [
    "tsne = TSNE(2)\n",
    "x_2d = tsne.fit_transform(embeddings)"
   ]
  },
  {
   "cell_type": "code",
   "execution_count": 46,
   "id": "8bccdef5-2b27-4900-a8b1-734a6efdbca6",
   "metadata": {},
   "outputs": [
    {
     "data": {
      "image/png": "[encoded data removed]",
      "text/plain": [
       "<Figure size 1000x1000 with 1 Axes>"
      ]
     },
     "metadata": {},
     "output_type": "display_data"
    }
   ],
   "source": [
    "plt.figure(figsize=(10,10))\n",
    "plt.scatter(x_2d[:, 0], x_2d[:, 1], s= 1)\n",
    "for i, t in enumerate(word_index):\n",
    "    plt.text(x_2d[i, 0], x_2d[i, 1], t, fontsize=16)\n",
    "    \n",
    "plt.show()"
   ]
  },
  {
   "cell_type": "code",
   "execution_count": null,
   "id": "0a023732-de0f-46ff-89e5-bd3e341fec55",
   "metadata": {},
   "outputs": [],
   "source": []
  }
 ],
 "metadata": {
  "kernelspec": {
   "display_name": "Python 3 (ipykernel)",
   "language": "python",
   "name": "python3"
  },
  "language_info": {
   "codemirror_mode": {
    "name": "ipython",
    "version": 3
   },
   "file_extension": ".py",
   "mimetype": "text/x-python",
   "name": "python",
   "nbconvert_exporter": "python",
   "pygments_lexer": "ipython3",
   "version": "3.8.13"
  }
 },
 "nbformat": 4,
 "nbformat_minor": 5
}
