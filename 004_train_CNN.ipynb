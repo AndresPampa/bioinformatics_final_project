{
 "cells": [
  {
   "cell_type": "code",
   "execution_count": 1,
   "id": "3ac13f6c-a061-4c24-a5fc-081ea6283a62",
   "metadata": {},
   "outputs": [],
   "source": [
    "%load_ext autoreload\n",
    "%autoreload 2"
   ]
  },
  {
   "cell_type": "markdown",
   "id": "9dab7de8-eb23-47d7-a771-28a2397d0a54",
   "metadata": {
    "tags": []
   },
   "source": [
    "# Modelo CNN con generador, embedings de smiles y data-augmentation"
   ]
  },
  {
   "cell_type": "code",
   "execution_count": 2,
   "id": "6a77543a-bff2-4056-bdbb-8a0d8fd3c182",
   "metadata": {},
   "outputs": [],
   "source": [
    "#! pip install rdkit-pypi\n",
    "# ! pip install rdkit\n",
    "# ! pip install Chem\n",
    "# from tensorflow.python import Keras\n",
    "# from tensorflow import keras"
   ]
  },
  {
   "cell_type": "code",
   "execution_count": 3,
   "id": "fc2fa515-bbe9-4113-9726-b27f8d753a82",
   "metadata": {},
   "outputs": [],
   "source": [
    "# import Chem\n",
    "# import rdkit \n",
    "# ! pip freeze -> requirement.txt"
   ]
  },
  {
   "cell_type": "code",
   "execution_count": 4,
   "id": "21bee0a3-79a7-43b2-9ac2-15cad5630e22",
   "metadata": {},
   "outputs": [],
   "source": [
    "import pandas as pd\n",
    "import numpy as np\n",
    "from datagen import smiles_dict, smiles_to_seq"
   ]
  },
  {
   "cell_type": "markdown",
   "id": "20aa799f-b75c-4d23-869b-fea6d041a6e9",
   "metadata": {},
   "source": [
    "### smiles_dict"
   ]
  },
  {
   "cell_type": "code",
   "execution_count": 5,
   "id": "628a3149-eabe-4de3-8404-d86eb6ad3baf",
   "metadata": {},
   "outputs": [
    {
     "data": {
      "text/plain": [
       "42"
      ]
     },
     "execution_count": 5,
     "metadata": {},
     "output_type": "execute_result"
    }
   ],
   "source": [
    "len(smiles_dict)"
   ]
  },
  {
   "cell_type": "markdown",
   "id": "b9c9312c-4232-414c-b0ff-1e6fb6dba1a6",
   "metadata": {},
   "source": [
    "smiles_dict nos da un tokenizador para simplificar el problema. Puede ver como se construyó en la notebook **deep_chem**.\n",
    "Si al momento de correr el modelo con este diccionario encuentra problemas de key_error, puede agregar los faltantes al diccionario\n",
    "\n",
    "Mirar dentro de **datagen.py** como se usa este diccionario con la función **smiles_to_seq** para tokenizar. El código es muy sencillo"
   ]
  },
  {
   "cell_type": "code",
   "execution_count": 6,
   "id": "e29ef48f-4b67-42a4-83af-e7d0bb980c4b",
   "metadata": {},
   "outputs": [
    {
     "name": "stdout",
     "output_type": "stream",
     "text": [
      "{'#': 1, '(': 2, ')': 3, '+': 4, '-': 5, '/': 6, '1': 7, '2': 8, '3': 9, '4': 10, '5': 11, '6': 12, '7': 13, '8': 14, '=': 15, 'C': 16, 'F': 17, 'H': 18, 'I': 19, 'N': 20, 'O': 21, 'P': 22, 'S': 23, '[': 24, '\\\\': 25, ']': 26, '_': 27, 'c': 28, 'Cl': 29, 'Br': 30, 'n': 31, 'o': 32, 's': 33, '@': 34, '.': 35, 'a': 36, 'B': 37, 'e': 38, 'i': 39, '9': 40, '10': 41, '11': 42}\n"
     ]
    }
   ],
   "source": [
    "print(smiles_dict)"
   ]
  },
  {
   "cell_type": "markdown",
   "id": "b103a4e0-038d-406b-aab8-5c9452ede04e",
   "metadata": {},
   "source": [
    "# Carga de los datos"
   ]
  },
  {
   "cell_type": "code",
   "execution_count": 7,
   "id": "353a2d75-f0f4-4563-9842-c68d77118161",
   "metadata": {},
   "outputs": [],
   "source": [
    "df = pd.read_csv('data/acetylcholinesterase_02_bioactivity_data_preprocessed.csv')"
   ]
  },
  {
   "cell_type": "code",
   "execution_count": 8,
   "id": "4e7fcdcb-ad53-4ebf-bc17-a241c79269da",
   "metadata": {},
   "outputs": [],
   "source": [
    "max_len_idx = df['canonical_smiles'].apply(len).argmax()\n",
    "min_len_idx = df['canonical_smiles'].apply(len).argmin()\n",
    "max_sequence_len = len(df['canonical_smiles'].iloc[max_len_idx]) + 20"
   ]
  },
  {
   "cell_type": "code",
   "execution_count": 9,
   "id": "bb9504e5-6302-43ec-aecb-0e5709d91a14",
   "metadata": {},
   "outputs": [
    {
     "name": "stdout",
     "output_type": "stream",
     "text": [
      "227\n"
     ]
    }
   ],
   "source": [
    "print(max_sequence_len)"
   ]
  },
  {
   "cell_type": "code",
   "execution_count": 10,
   "id": "d1554fa5-d9ee-456c-be20-80571e319fc6",
   "metadata": {},
   "outputs": [
    {
     "data": {
      "text/html": [
       "<div>\n",
       "<style scoped>\n",
       "    .dataframe tbody tr th:only-of-type {\n",
       "        vertical-align: middle;\n",
       "    }\n",
       "\n",
       "    .dataframe tbody tr th {\n",
       "        vertical-align: top;\n",
       "    }\n",
       "\n",
       "    .dataframe thead th {\n",
       "        text-align: right;\n",
       "    }\n",
       "</style>\n",
       "<table border=\"1\" class=\"dataframe\">\n",
       "  <thead>\n",
       "    <tr style=\"text-align: right;\">\n",
       "      <th></th>\n",
       "      <th>molecule_chembl_id</th>\n",
       "      <th>canonical_smiles</th>\n",
       "      <th>standard_value</th>\n",
       "      <th>standard_value_norm</th>\n",
       "      <th>pIC50</th>\n",
       "    </tr>\n",
       "  </thead>\n",
       "  <tbody>\n",
       "    <tr>\n",
       "      <th>0</th>\n",
       "      <td>CHEMBL133897</td>\n",
       "      <td>CCOc1nn(-c2cccc(OCc3ccccc3)c2)c(=O)o1</td>\n",
       "      <td>750.0</td>\n",
       "      <td>750.0</td>\n",
       "      <td>6.124939</td>\n",
       "    </tr>\n",
       "    <tr>\n",
       "      <th>1</th>\n",
       "      <td>CHEMBL336398</td>\n",
       "      <td>O=C(N1CCCCC1)n1nc(-c2ccc(Cl)cc2)nc1SCC1CC1</td>\n",
       "      <td>100.0</td>\n",
       "      <td>100.0</td>\n",
       "      <td>7.000000</td>\n",
       "    </tr>\n",
       "    <tr>\n",
       "      <th>2</th>\n",
       "      <td>CHEMBL131588</td>\n",
       "      <td>CN(C(=O)n1nc(-c2ccc(Cl)cc2)nc1SCC(F)(F)F)c1ccccc1</td>\n",
       "      <td>50000.0</td>\n",
       "      <td>50000.0</td>\n",
       "      <td>4.301030</td>\n",
       "    </tr>\n",
       "    <tr>\n",
       "      <th>3</th>\n",
       "      <td>CHEMBL130628</td>\n",
       "      <td>O=C(N1CCCCC1)n1nc(-c2ccc(Cl)cc2)nc1SCC(F)(F)F</td>\n",
       "      <td>300.0</td>\n",
       "      <td>300.0</td>\n",
       "      <td>6.522879</td>\n",
       "    </tr>\n",
       "    <tr>\n",
       "      <th>4</th>\n",
       "      <td>CHEMBL130478</td>\n",
       "      <td>CSc1nc(-c2ccc(OC(F)(F)F)cc2)nn1C(=O)N(C)C</td>\n",
       "      <td>800.0</td>\n",
       "      <td>800.0</td>\n",
       "      <td>6.096910</td>\n",
       "    </tr>\n",
       "  </tbody>\n",
       "</table>\n",
       "</div>"
      ],
      "text/plain": [
       "  molecule_chembl_id                                   canonical_smiles  \\\n",
       "0       CHEMBL133897              CCOc1nn(-c2cccc(OCc3ccccc3)c2)c(=O)o1   \n",
       "1       CHEMBL336398         O=C(N1CCCCC1)n1nc(-c2ccc(Cl)cc2)nc1SCC1CC1   \n",
       "2       CHEMBL131588  CN(C(=O)n1nc(-c2ccc(Cl)cc2)nc1SCC(F)(F)F)c1ccccc1   \n",
       "3       CHEMBL130628      O=C(N1CCCCC1)n1nc(-c2ccc(Cl)cc2)nc1SCC(F)(F)F   \n",
       "4       CHEMBL130478          CSc1nc(-c2ccc(OC(F)(F)F)cc2)nn1C(=O)N(C)C   \n",
       "\n",
       "   standard_value  standard_value_norm     pIC50  \n",
       "0           750.0                750.0  6.124939  \n",
       "1           100.0                100.0  7.000000  \n",
       "2         50000.0              50000.0  4.301030  \n",
       "3           300.0                300.0  6.522879  \n",
       "4           800.0                800.0  6.096910  "
      ]
     },
     "execution_count": 10,
     "metadata": {},
     "output_type": "execute_result"
    }
   ],
   "source": [
    "df.head()"
   ]
  },
  {
   "cell_type": "code",
   "execution_count": 11,
   "id": "9675f7e8-a8e6-44ff-b1c5-b229cbbeb2e9",
   "metadata": {},
   "outputs": [],
   "source": [
    "X = df['canonical_smiles'].values\n",
    "y = df['pIC50'].values"
   ]
  },
  {
   "cell_type": "code",
   "execution_count": 12,
   "id": "1db6e774-ff25-4f6d-b9b2-de8ddb3c167d",
   "metadata": {},
   "outputs": [
    {
     "data": {
      "text/plain": [
       "((5664,), (5664,))"
      ]
     },
     "execution_count": 12,
     "metadata": {},
     "output_type": "execute_result"
    }
   ],
   "source": [
    "X.shape, y.shape"
   ]
  },
  {
   "cell_type": "markdown",
   "id": "dd87900d-dca2-4f0e-a5c2-58fef4266a67",
   "metadata": {
    "tags": []
   },
   "source": [
    "# Data augmentation:\n",
    "\n",
    "https://arxiv.org/pdf/1703.07076.pdf\n",
    "\n",
    "https://github.com/EBjerrum/molvecgen\n",
    "\n",
    "https://github.com/Ebjerrum/SMILES-enumeration"
   ]
  },
  {
   "cell_type": "markdown",
   "id": "605fb205-e7e7-45fb-99bd-2e6f490977a8",
   "metadata": {},
   "source": [
    "En la publicación de arriba se describe una técnica de aumentación de datos para los smiles. Leerla si es de su interes (Opcional)\n",
    "\n",
    "En el módulo **dataug.py**, tomando como referencia los repositorios arriba citados se implementó la aumentación de datos"
   ]
  },
  {
   "cell_type": "code",
   "execution_count": 13,
   "id": "d4733af9-9c49-4c2f-bb1d-dc7f180cc66f",
   "metadata": {},
   "outputs": [
    {
     "name": "stdout",
     "output_type": "stream",
     "text": [
      "C(c1ccccc1)Oc1cc(-n2nc(OCC)oc2=O)ccc1\n",
      "O=c1oc(OCC)nn1-c1cc(OCc2ccccc2)ccc1\n",
      "c1c(COc2cccc(-n3nc(OCC)oc3=O)c2)cccc1\n",
      "c1c(COc2cccc(-n3c(=O)oc(OCC)n3)c2)cccc1\n",
      "n1(-c2cccc(OCc3ccccc3)c2)c(=O)oc(OCC)n1\n",
      "c1c(COc2cc(-n3c(=O)oc(OCC)n3)ccc2)cccc1\n",
      "c1c(COc2cccc(-n3c(=O)oc(OCC)n3)c2)cccc1\n",
      "c1cccc(COc2cccc(-n3c(=O)oc(OCC)n3)c2)c1\n",
      "C(Oc1nn(-c2cc(OCc3ccccc3)ccc2)c(=O)o1)C\n",
      "c1(COc2cccc(-n3c(=O)oc(OCC)n3)c2)ccccc1\n"
     ]
    }
   ],
   "source": [
    "from dataaug import SmilesEnumerator\n",
    "sme = SmilesEnumerator()\n",
    "for i in range(10):\n",
    "    print(sme.randomize_smiles('CCOc1nn(-c2cccc(OCc3ccccc3)c2)c(=O)o1'))\n",
    "    "
   ]
  },
  {
   "cell_type": "markdown",
   "id": "7a1923d3-1df0-4df1-a43c-ec30eff6fe4d",
   "metadata": {},
   "source": [
    "# DataGenerator"
   ]
  },
  {
   "cell_type": "markdown",
   "id": "fc6a3c67-9f44-4052-9e93-9e274f08c1b5",
   "metadata": {},
   "source": [
    "Construir un generador al que se le pase al instanciarlo:\n",
    "- X: smiles (formula química)\n",
    "- y: pIC50\n",
    "- batch_size\n",
    "- max_sequence_len (int): La máxima longitud de las secuencias (para hacer el padding)\n",
    "- data_augmentation (boolean): si quiero hacer o no data-augmentation. \n",
    "- shuffle (boolean)\n",
    "\n",
    "Guardarlo en el módulo **datagen.py** con el nombre de la clase **DataGenerator**\n",
    "\n",
    "Notar que el módulo **datagen.py** ya tiene una estructura para completar"
   ]
  },
  {
   "cell_type": "markdown",
   "id": "f602f3e4-24aa-41ee-9f83-89ec3acc96f1",
   "metadata": {},
   "source": [
    "### Importamos el módulo y lo probamos"
   ]
  },
  {
   "cell_type": "code",
   "execution_count": 14,
   "id": "413bce05-2685-4c84-8a43-c3dd8ed74e11",
   "metadata": {},
   "outputs": [],
   "source": [
    "from datagen import DataGenerator"
   ]
  },
  {
   "cell_type": "code",
   "execution_count": 15,
   "id": "52aa520a-a84b-4d8b-a22e-6b4a5cc7e65a",
   "metadata": {},
   "outputs": [],
   "source": [
    "dgen = DataGenerator(X, y, max_sequence_len, batch_size=16)"
   ]
  },
  {
   "cell_type": "code",
   "execution_count": 16,
   "id": "b3212e31-dd2c-4ebc-b9a0-78ed4bb5d78d",
   "metadata": {},
   "outputs": [
    {
     "name": "stdout",
     "output_type": "stream",
     "text": [
      "354\n"
     ]
    },
    {
     "data": {
      "text/plain": [
       "5664"
      ]
     },
     "execution_count": 16,
     "metadata": {},
     "output_type": "execute_result"
    }
   ],
   "source": [
    "print(len(dgen))\n",
    "len(dgen) * dgen.batch_size"
   ]
  },
  {
   "cell_type": "code",
   "execution_count": 17,
   "id": "133033ed-a3b1-4572-aaaf-f4cb2a055724",
   "metadata": {},
   "outputs": [
    {
     "name": "stdout",
     "output_type": "stream",
     "text": [
      "353\r"
     ]
    }
   ],
   "source": [
    "for i, (X_b, y_b) in enumerate(dgen):\n",
    "    print(f'{i}\\r', end='')"
   ]
  },
  {
   "cell_type": "markdown",
   "id": "4233710d-9274-4dae-b22d-cf42b57ad862",
   "metadata": {},
   "source": [
    "# Split"
   ]
  },
  {
   "cell_type": "code",
   "execution_count": 18,
   "id": "ce7a95e6-2486-42fb-97fb-865e3fd6a561",
   "metadata": {},
   "outputs": [],
   "source": [
    "from sklearn.model_selection import train_test_split"
   ]
  },
  {
   "cell_type": "code",
   "execution_count": 19,
   "id": "fcb9840f-2f41-45be-99a5-f05f3ab73ed8",
   "metadata": {},
   "outputs": [],
   "source": [
    "X_train, X_test, y_train, y_test = train_test_split(X, y, test_size=0.2, random_state=42)"
   ]
  },
  {
   "cell_type": "code",
   "execution_count": 20,
   "id": "4ad17134-3e15-42d1-b8c9-0c793169e145",
   "metadata": {},
   "outputs": [
    {
     "data": {
      "text/plain": [
       "(4531, 4531, 1133)"
      ]
     },
     "execution_count": 20,
     "metadata": {},
     "output_type": "execute_result"
    }
   ],
   "source": [
    "len(X_train), len(y_train), len(X_test)"
   ]
  },
  {
   "cell_type": "code",
   "execution_count": 21,
   "id": "929de60c-7128-4e35-8efc-4b5f9ee9471c",
   "metadata": {},
   "outputs": [
    {
     "data": {
      "text/plain": [
       "array(['COc1ccccc1NC(=S)NCCN(C)C', 'O/N=C/c1nc(Cc2ccccc2)no1',\n",
       "       'O=C(NCCc1c[nH]c2ccccc12)c1ccc[n+](Cc2ccccc2F)c1.[Br-]', ...,\n",
       "       'O=[N+]([O-])c1ccccc1-c1nnc(Nc2ncccn2)o1',\n",
       "       'COc1cc2c(cc1O)CCC(C)(CCNCCCCCCCNc1c3c(nc4cc(Cl)ccc14)CCCC3)O2',\n",
       "       'CN(C)Cc1ccc(CSCCCCCCCSCc2ccc(CN(C)C)o2)o1'], dtype=object)"
      ]
     },
     "execution_count": 21,
     "metadata": {},
     "output_type": "execute_result"
    }
   ],
   "source": [
    "X_train"
   ]
  },
  {
   "cell_type": "code",
   "execution_count": 22,
   "id": "dd72855a-8310-4a5e-b5c8-7fe181ea8edd",
   "metadata": {},
   "outputs": [],
   "source": [
    "dgen_train = DataGenerator(X_train, y_train, seq_length=max_sequence_len, batch_size=128, data_augmentation=True)\n",
    "dgen_test = DataGenerator(X_test, y_test, seq_length=max_sequence_len, batch_size=128, data_augmentation=False)"
   ]
  },
  {
   "cell_type": "code",
   "execution_count": 23,
   "id": "1bf28e8f-b29e-4b60-b7a2-4f08ff5a547b",
   "metadata": {},
   "outputs": [
    {
     "name": "stdout",
     "output_type": "stream",
     "text": [
      "8\r"
     ]
    }
   ],
   "source": [
    "for i, (X_b, y_b) in enumerate(dgen_test):\n",
    "    print(f'{i}\\r', end='') #Como queda el ultimo batchsize"
   ]
  },
  {
   "cell_type": "code",
   "execution_count": 24,
   "id": "222c7f1c-7f3e-40b4-9fb5-5b3ea340c3b0",
   "metadata": {},
   "outputs": [
    {
     "data": {
      "text/plain": [
       "(109, 227)"
      ]
     },
     "execution_count": 24,
     "metadata": {},
     "output_type": "execute_result"
    }
   ],
   "source": [
    "X_b.shape"
   ]
  },
  {
   "cell_type": "markdown",
   "id": "85941430-2534-4d7d-ba52-d934a31c1bf6",
   "metadata": {},
   "source": [
    "# Network Model"
   ]
  },
  {
   "cell_type": "code",
   "execution_count": 25,
   "id": "6bd5d1bf-4640-4cbc-acd3-72881ddcc07e",
   "metadata": {},
   "outputs": [],
   "source": [
    "from tensorflow.keras import Sequential\n",
    "from tensorflow.keras.layers import LSTM, Dense, Embedding, Bidirectional, Dropout, Activation, BatchNormalization, Conv1D, MaxPool1D, GlobalAveragePooling1D, Flatten, GlobalMaxPooling1D\n",
    "from tensorflow.keras.callbacks import ModelCheckpoint\n",
    "from tensorflow.keras.optimizers import Adam, RMSprop\n",
    "from tensorflow.keras import backend as K\n",
    "import tensorflow as tf\n",
    "from tensorflow.keras import layers as L"
   ]
  },
  {
   "cell_type": "code",
   "execution_count": 26,
   "id": "98aa4201-cd4e-4d7f-b695-9e32b5dfe1c6",
   "metadata": {
    "tags": []
   },
   "outputs": [],
   "source": [
    "# MODELO 1\n",
    "# Implementar modelo de TextCNN\n",
    "# def text_cnn_1d(sequence_length, vocab_size, embedding_size, filter_sizes, num_filters):\n",
    "#     # Recordar que estamos en la funcional model API y hay que entender que conectar con que.\n",
    "#     input_x = L.Input(shape=(sequence_length,), name='input_x')\n",
    "#     embedding = L.Embedding(vocab_size + 1, embedding_size, name='embedding')(input_x)\n",
    "#     pooled_outputs = []\n",
    "#     for filter_size in filter_sizes:\n",
    "#         conv = L.Conv1D(filters=num_filters, kernel_size=filter_size, padding='same', dilation_rate=1, activation='relu')(embedding)\n",
    "#         max_p = L.MaxPool1D(100)(conv)\n",
    "#         pooled_outputs.append(max_p)\n",
    "        \n",
    "#     h_pool = L.Concatenate(axis=2)(pooled_outputs)\n",
    "#     dense = L.Flatten()(h_pool)\n",
    "#     dense = L.Dense(128, activation='relu')(dense)\n",
    "#     dense = L.Dense(32, activation='linear')(dense)\n",
    "#     dense = L.Dense(1)(dense)\n",
    "#     model = tf.keras.models.Model(input_x, dense)\n",
    "#     return model"
   ]
  },
  {
   "cell_type": "code",
   "execution_count": 34,
   "id": "59e89aa5-8293-49b3-99b8-ce8588525bcd",
   "metadata": {},
   "outputs": [],
   "source": [
    "# MODELO 2\n",
    "# Implementar modelo de TextCNN\n",
    "def text_cnn_1d(sequence_length, vocab_size, embedding_size, filter_sizes, num_filters):\n",
    "    # Recordar que estamos en la funcional model API y hay que entender que conectar con que.\n",
    "    max_pool_div = 4\n",
    "    input_x = L.Input(shape=(sequence_length,), name='input_x')\n",
    "    embedding = L.Embedding(vocab_size + 1, embedding_size, name='embedding')(input_x)\n",
    "    pooled_outputs = []\n",
    "    for filter_size in filter_sizes:\n",
    "        conv = L.Conv1D(filters=num_filters, kernel_size=filter_size, padding='same', dilation_rate=1, activation='relu')(embedding)\n",
    "        max_p = L.MaxPool1D((sequence_length - filter_size + 1)//max_pool_div)(conv) # 3 --> 56     4 --> 56     5 --> 55\n",
    "        pooled_outputs.append(max_p)\n",
    "        \n",
    "        conv = L.Conv1D(filters=num_filters, kernel_size=filter_size, padding='same', dilation_rate=2, activation='relu')(embedding)\n",
    "        max_p = L.MaxPool1D((sequence_length - filter_size + 1)//max_pool_div)(conv) # 3 --> 56     4 --> 56     5 --> 55\n",
    "        pooled_outputs.append(max_p)\n",
    "        \n",
    "        conv = L.Conv1D(filters=num_filters, kernel_size=filter_size, padding='same', dilation_rate=3, activation='relu')(embedding)\n",
    "        max_p = L.MaxPool1D((sequence_length - filter_size + 1)//max_pool_div)(conv) # 3 --> 56     4 --> 56     5 --> 55\n",
    "        pooled_outputs.append(max_p)\n",
    "        \n",
    "        \n",
    "        \n",
    "    h_pool = L.Concatenate(axis=2)(pooled_outputs)\n",
    "    dense = L.Flatten()(h_pool)\n",
    "    dense = L.Dense(100, activation='relu')(dense)\n",
    "    dense = L.Dense(100, activation='relu')(dense)\n",
    "    dense = L.Dense(1)(dense)\n",
    "    model = tf.keras.models.Model(input_x, dense)\n",
    "    return model"
   ]
  },
  {
   "cell_type": "code",
   "execution_count": 35,
   "id": "a0b02e3a-a30e-4612-9e0b-30af9b8c2f64",
   "metadata": {
    "tags": []
   },
   "outputs": [],
   "source": [
    "# MODELO 3\n",
    "# Implementar modelo de TextCNN\n",
    "# def text_cnn_1d(sequence_length, vocab_size, embedding_size, filter_sizes, num_filters):\n",
    "#     # Recordar que estamos en la funcional model API y hay que entender que conectar con que.\n",
    "#     max_pool_div = 4\n",
    "#     input_x = L.Input(shape=(sequence_length,), name='input_x')\n",
    "#     embedding = L.Embedding(vocab_size + 1, embedding_size, name='embedding')(input_x)\n",
    "#     pooled_outputs = []\n",
    "#     for filter_size in filter_sizes:\n",
    "#         conv = L.Conv1D(filters=num_filters, kernel_size=filter_size, padding='same', dilation_rate=1, activation='relu')(embedding)\n",
    "#         max_p = L.GlobalMaxPooling1D()(conv)\n",
    "#         pooled_outputs.append(max_p)\n",
    "        \n",
    "#         conv = L.Conv1D(filters=num_filters, kernel_size=filter_size, padding='same', dilation_rate=1, activation='linear')(embedding)\n",
    "#         max_p = L.GlobalMaxPooling1D()(conv)\n",
    "#         pooled_outputs.append(max_p)\n",
    "        \n",
    "#         conv = L.Conv1D(filters=num_filters, kernel_size=filter_size, padding='same', dilation_rate=1, activation='relu')(embedding)\n",
    "#         max_p = L.GlobalMaxPooling1D()(conv)\n",
    "#         pooled_outputs.append(max_p)\n",
    "        \n",
    "        \n",
    "#     # h_pool = L.Concatenate(axis=2 )(pooled_outputs)   \n",
    "#     h_pool = L.Concatenate()(pooled_outputs)\n",
    "#     # dense = L.Flatten()(h_pool)\n",
    "#     dense = L.Dense(256, activation='relu')(h_pool)\n",
    "#     dense = L.Dense(128, activation='linear')(dense)\n",
    "#     dense = L.Dense(64, activation='linear')(dense)\n",
    "#     dense = L.Dense(1)(dense)\n",
    "#     model = tf.keras.models.Model(input_x, dense)\n",
    "#     return model"
   ]
  },
  {
   "cell_type": "code",
   "execution_count": 36,
   "id": "d3db729c-1a80-40ad-b3e5-59329b172ee0",
   "metadata": {},
   "outputs": [],
   "source": [
    "# Puede cambiar estos hiperparámtros. Son solo de referencia\n",
    "FILTER_SIZES = (3, 4, 5)\n",
    "# FILTER_SIZES = (3, 4, 5)\n",
    "NUM_FILTERS = 128\n",
    "# NUM_FILTERS = 128\n",
    "vocab_size = len(smiles_dict) #42\n",
    "embeddings_size = 128 # 2\n",
    "embeddings_size = 70 # 3\n",
    "# sequence_length = 227"
   ]
  },
  {
   "cell_type": "code",
   "execution_count": 37,
   "id": "0e0903a5-9840-4994-9964-8e2d3e9eb326",
   "metadata": {},
   "outputs": [
    {
     "name": "stdout",
     "output_type": "stream",
     "text": [
      "Model: \"model_1\"\n",
      "__________________________________________________________________________________________________\n",
      " Layer (type)                   Output Shape         Param #     Connected to                     \n",
      "==================================================================================================\n",
      " input_x (InputLayer)           [(None, 227)]        0           []                               \n",
      "                                                                                                  \n",
      " embedding (Embedding)          (None, 227, 70)      3010        ['input_x[0][0]']                \n",
      "                                                                                                  \n",
      " conv1d_9 (Conv1D)              (None, 227, 128)     27008       ['embedding[0][0]']              \n",
      "                                                                                                  \n",
      " conv1d_10 (Conv1D)             (None, 227, 128)     27008       ['embedding[0][0]']              \n",
      "                                                                                                  \n",
      " conv1d_11 (Conv1D)             (None, 227, 128)     27008       ['embedding[0][0]']              \n",
      "                                                                                                  \n",
      " conv1d_12 (Conv1D)             (None, 227, 128)     35968       ['embedding[0][0]']              \n",
      "                                                                                                  \n",
      " conv1d_13 (Conv1D)             (None, 227, 128)     35968       ['embedding[0][0]']              \n",
      "                                                                                                  \n",
      " conv1d_14 (Conv1D)             (None, 227, 128)     35968       ['embedding[0][0]']              \n",
      "                                                                                                  \n",
      " conv1d_15 (Conv1D)             (None, 227, 128)     44928       ['embedding[0][0]']              \n",
      "                                                                                                  \n",
      " conv1d_16 (Conv1D)             (None, 227, 128)     44928       ['embedding[0][0]']              \n",
      "                                                                                                  \n",
      " conv1d_17 (Conv1D)             (None, 227, 128)     44928       ['embedding[0][0]']              \n",
      "                                                                                                  \n",
      " max_pooling1d_9 (MaxPooling1D)  (None, 4, 128)      0           ['conv1d_9[0][0]']               \n",
      "                                                                                                  \n",
      " max_pooling1d_10 (MaxPooling1D  (None, 4, 128)      0           ['conv1d_10[0][0]']              \n",
      " )                                                                                                \n",
      "                                                                                                  \n",
      " max_pooling1d_11 (MaxPooling1D  (None, 4, 128)      0           ['conv1d_11[0][0]']              \n",
      " )                                                                                                \n",
      "                                                                                                  \n",
      " max_pooling1d_12 (MaxPooling1D  (None, 4, 128)      0           ['conv1d_12[0][0]']              \n",
      " )                                                                                                \n",
      "                                                                                                  \n",
      " max_pooling1d_13 (MaxPooling1D  (None, 4, 128)      0           ['conv1d_13[0][0]']              \n",
      " )                                                                                                \n",
      "                                                                                                  \n",
      " max_pooling1d_14 (MaxPooling1D  (None, 4, 128)      0           ['conv1d_14[0][0]']              \n",
      " )                                                                                                \n",
      "                                                                                                  \n",
      " max_pooling1d_15 (MaxPooling1D  (None, 4, 128)      0           ['conv1d_15[0][0]']              \n",
      " )                                                                                                \n",
      "                                                                                                  \n",
      " max_pooling1d_16 (MaxPooling1D  (None, 4, 128)      0           ['conv1d_16[0][0]']              \n",
      " )                                                                                                \n",
      "                                                                                                  \n",
      " max_pooling1d_17 (MaxPooling1D  (None, 4, 128)      0           ['conv1d_17[0][0]']              \n",
      " )                                                                                                \n",
      "                                                                                                  \n",
      " concatenate_1 (Concatenate)    (None, 4, 1152)      0           ['max_pooling1d_9[0][0]',        \n",
      "                                                                  'max_pooling1d_10[0][0]',       \n",
      "                                                                  'max_pooling1d_11[0][0]',       \n",
      "                                                                  'max_pooling1d_12[0][0]',       \n",
      "                                                                  'max_pooling1d_13[0][0]',       \n",
      "                                                                  'max_pooling1d_14[0][0]',       \n",
      "                                                                  'max_pooling1d_15[0][0]',       \n",
      "                                                                  'max_pooling1d_16[0][0]',       \n",
      "                                                                  'max_pooling1d_17[0][0]']       \n",
      "                                                                                                  \n",
      " flatten_1 (Flatten)            (None, 4608)         0           ['concatenate_1[0][0]']          \n",
      "                                                                                                  \n",
      " dense_3 (Dense)                (None, 100)          460900      ['flatten_1[0][0]']              \n",
      "                                                                                                  \n",
      " dense_4 (Dense)                (None, 100)          10100       ['dense_3[0][0]']                \n",
      "                                                                                                  \n",
      " dense_5 (Dense)                (None, 1)            101         ['dense_4[0][0]']                \n",
      "                                                                                                  \n",
      "==================================================================================================\n",
      "Total params: 797,823\n",
      "Trainable params: 797,823\n",
      "Non-trainable params: 0\n",
      "__________________________________________________________________________________________________\n"
     ]
    }
   ],
   "source": [
    "model = text_cnn_1d(max_sequence_len, vocab_size, embeddings_size, FILTER_SIZES, NUM_FILTERS)\n",
    "model.summary()"
   ]
  },
  {
   "cell_type": "code",
   "execution_count": 38,
   "id": "4bf115a2-9f1b-42b8-9b62-59728f1da977",
   "metadata": {},
   "outputs": [],
   "source": [
    "def R2(y_true, y_pred):\n",
    "    SS_res =  K.sum(K.square( y_true-y_pred ))\n",
    "    SS_tot = K.sum(K.square( y_true - K.mean(y_true) ) )\n",
    "    return ( 1 - SS_res/(SS_tot + K.epsilon()) )"
   ]
  },
  {
   "cell_type": "code",
   "execution_count": 39,
   "id": "9138b411-fc5d-41bd-8c8e-c12580cc5b14",
   "metadata": {},
   "outputs": [],
   "source": [
    "model.compile(optimizer=Adam(learning_rate=0.0001), loss='mse', metrics=[R2])"
   ]
  },
  {
   "cell_type": "code",
   "execution_count": 40,
   "id": "62c3f792-f413-4150-8ebf-1f59c5fb986d",
   "metadata": {},
   "outputs": [],
   "source": [
    "mcp = ModelCheckpoint('models/best_model_{epoch}', save_best_only=True, save_format=\"h5\")"
   ]
  },
  {
   "cell_type": "code",
   "execution_count": 41,
   "id": "3f37ab4e-0e3a-44c6-a572-ba5c67930c61",
   "metadata": {
    "tags": []
   },
   "outputs": [
    {
     "name": "stdout",
     "output_type": "stream",
     "text": [
      "Epoch 1/100\n",
      "36/36 [==============================] - 29s 761ms/step - loss: 25.9334 - R2: -9.1346 - val_loss: 12.8213 - val_R2: -3.5333\n",
      "Epoch 2/100\n",
      "36/36 [==============================] - 25s 688ms/step - loss: 4.6899 - R2: -0.8325 - val_loss: 3.0834 - val_R2: -0.0605\n",
      "Epoch 3/100\n",
      "36/36 [==============================] - 25s 685ms/step - loss: 2.6131 - R2: 0.0208 - val_loss: 2.9019 - val_R2: 0.0095\n",
      "Epoch 4/100\n",
      "36/36 [==============================] - 25s 688ms/step - loss: 2.5590 - R2: 0.0418 - val_loss: 2.8723 - val_R2: 0.0171\n",
      "Epoch 5/100\n",
      "36/36 [==============================] - 25s 688ms/step - loss: 2.5226 - R2: 0.0540 - val_loss: 2.8396 - val_R2: 0.0233\n",
      "Epoch 6/100\n",
      "36/36 [==============================] - 25s 685ms/step - loss: 2.4937 - R2: 0.0617 - val_loss: 2.8092 - val_R2: 0.0373\n",
      "Epoch 7/100\n",
      "36/36 [==============================] - 25s 687ms/step - loss: 2.4673 - R2: 0.0749 - val_loss: 2.7798 - val_R2: 0.0528\n",
      "Epoch 8/100\n",
      "36/36 [==============================] - 25s 686ms/step - loss: 2.4367 - R2: 0.0899 - val_loss: 2.7433 - val_R2: 0.0593\n",
      "Epoch 9/100\n",
      "36/36 [==============================] - 25s 690ms/step - loss: 2.3990 - R2: 0.1001 - val_loss: 2.7083 - val_R2: 0.0779\n",
      "Epoch 10/100\n",
      "36/36 [==============================] - 25s 691ms/step - loss: 2.3759 - R2: 0.1085 - val_loss: 2.6743 - val_R2: 0.0854\n",
      "Epoch 11/100\n",
      "36/36 [==============================] - 25s 702ms/step - loss: 2.3409 - R2: 0.1184 - val_loss: 2.6330 - val_R2: 0.1011\n",
      "Epoch 12/100\n",
      "36/36 [==============================] - 25s 689ms/step - loss: 2.3077 - R2: 0.1358 - val_loss: 2.5940 - val_R2: 0.1135\n",
      "Epoch 13/100\n",
      "36/36 [==============================] - 27s 763ms/step - loss: 2.2551 - R2: 0.1573 - val_loss: 2.5622 - val_R2: 0.1341\n",
      "Epoch 14/100\n",
      "36/36 [==============================] - 30s 831ms/step - loss: 2.2197 - R2: 0.1701 - val_loss: 2.5134 - val_R2: 0.1383\n",
      "Epoch 15/100\n",
      "36/36 [==============================] - 40s 1s/step - loss: 2.1771 - R2: 0.1846 - val_loss: 2.4679 - val_R2: 0.1635\n",
      "Epoch 16/100\n",
      "36/36 [==============================] - 40s 1s/step - loss: 2.1408 - R2: 0.1936 - val_loss: 2.4355 - val_R2: 0.1789\n",
      "Epoch 17/100\n",
      "36/36 [==============================] - 27s 755ms/step - loss: 2.1106 - R2: 0.2038 - val_loss: 2.3968 - val_R2: 0.1839\n",
      "Epoch 18/100\n",
      "36/36 [==============================] - 25s 705ms/step - loss: 2.0843 - R2: 0.2182 - val_loss: 2.3883 - val_R2: 0.1891\n",
      "Epoch 19/100\n",
      "36/36 [==============================] - 25s 688ms/step - loss: 2.0644 - R2: 0.2283 - val_loss: 2.3416 - val_R2: 0.2116\n",
      "Epoch 20/100\n",
      "36/36 [==============================] - 25s 693ms/step - loss: 2.0227 - R2: 0.2469 - val_loss: 2.3168 - val_R2: 0.2187\n",
      "Epoch 21/100\n",
      "36/36 [==============================] - 25s 696ms/step - loss: 1.9991 - R2: 0.2505 - val_loss: 2.3140 - val_R2: 0.2166\n",
      "Epoch 22/100\n",
      "36/36 [==============================] - 25s 686ms/step - loss: 1.9753 - R2: 0.2604 - val_loss: 2.2712 - val_R2: 0.2230\n",
      "Epoch 23/100\n",
      "36/36 [==============================] - 25s 685ms/step - loss: 1.9427 - R2: 0.2811 - val_loss: 2.2484 - val_R2: 0.2415\n",
      "Epoch 24/100\n",
      "36/36 [==============================] - 25s 690ms/step - loss: 1.9208 - R2: 0.2811 - val_loss: 2.2284 - val_R2: 0.2407\n",
      "Epoch 25/100\n",
      "36/36 [==============================] - 25s 698ms/step - loss: 1.8861 - R2: 0.2931 - val_loss: 2.2123 - val_R2: 0.2577\n",
      "Epoch 26/100\n",
      "36/36 [==============================] - 25s 700ms/step - loss: 1.8667 - R2: 0.3061 - val_loss: 2.1868 - val_R2: 0.2607\n",
      "Epoch 27/100\n",
      "36/36 [==============================] - 25s 688ms/step - loss: 1.8334 - R2: 0.3226 - val_loss: 2.1631 - val_R2: 0.2727\n",
      "Epoch 28/100\n",
      "36/36 [==============================] - 25s 695ms/step - loss: 1.8288 - R2: 0.3177 - val_loss: 2.1396 - val_R2: 0.2685\n",
      "Epoch 29/100\n",
      "36/36 [==============================] - 25s 697ms/step - loss: 1.7982 - R2: 0.3300 - val_loss: 2.1213 - val_R2: 0.2791\n",
      "Epoch 30/100\n",
      "36/36 [==============================] - 25s 686ms/step - loss: 1.7853 - R2: 0.3333 - val_loss: 2.1194 - val_R2: 0.2900\n",
      "Epoch 31/100\n",
      "36/36 [==============================] - 25s 696ms/step - loss: 1.7659 - R2: 0.3422 - val_loss: 2.0867 - val_R2: 0.3021\n",
      "Epoch 32/100\n",
      "36/36 [==============================] - 25s 692ms/step - loss: 1.7441 - R2: 0.3489 - val_loss: 2.0695 - val_R2: 0.2941\n",
      "Epoch 33/100\n",
      "36/36 [==============================] - 25s 688ms/step - loss: 1.7095 - R2: 0.3620 - val_loss: 2.0644 - val_R2: 0.3132\n",
      "Epoch 34/100\n",
      "36/36 [==============================] - 25s 687ms/step - loss: 1.7212 - R2: 0.3552 - val_loss: 2.0394 - val_R2: 0.3028\n",
      "Epoch 35/100\n",
      "36/36 [==============================] - 25s 687ms/step - loss: 1.6971 - R2: 0.3728 - val_loss: 2.0312 - val_R2: 0.3213\n",
      "Epoch 36/100\n",
      "36/36 [==============================] - 25s 688ms/step - loss: 1.6826 - R2: 0.3669 - val_loss: 1.9952 - val_R2: 0.3333\n",
      "Epoch 37/100\n",
      "36/36 [==============================] - 25s 698ms/step - loss: 1.6408 - R2: 0.3877 - val_loss: 2.0311 - val_R2: 0.3184\n",
      "Epoch 38/100\n",
      "36/36 [==============================] - 25s 690ms/step - loss: 1.6536 - R2: 0.3871 - val_loss: 1.9632 - val_R2: 0.3370\n",
      "Epoch 39/100\n",
      "36/36 [==============================] - 25s 691ms/step - loss: 1.6166 - R2: 0.3963 - val_loss: 1.9630 - val_R2: 0.3465\n",
      "Epoch 40/100\n",
      "36/36 [==============================] - 25s 692ms/step - loss: 1.6224 - R2: 0.3981 - val_loss: 1.9328 - val_R2: 0.3439\n",
      "Epoch 41/100\n",
      "36/36 [==============================] - 25s 694ms/step - loss: 1.6028 - R2: 0.4063 - val_loss: 1.9155 - val_R2: 0.3755\n",
      "Epoch 42/100\n",
      "36/36 [==============================] - 25s 693ms/step - loss: 1.5789 - R2: 0.4068 - val_loss: 1.9107 - val_R2: 0.3447\n",
      "Epoch 43/100\n",
      "36/36 [==============================] - 25s 692ms/step - loss: 1.5753 - R2: 0.4101 - val_loss: 1.8978 - val_R2: 0.3814\n",
      "Epoch 44/100\n",
      "36/36 [==============================] - 29s 816ms/step - loss: 1.5602 - R2: 0.4210 - val_loss: 1.8814 - val_R2: 0.3717\n",
      "Epoch 45/100\n",
      "36/36 [==============================] - 27s 749ms/step - loss: 1.5717 - R2: 0.4158 - val_loss: 1.8614 - val_R2: 0.3694\n",
      "Epoch 46/100\n",
      "36/36 [==============================] - 26s 727ms/step - loss: 1.5398 - R2: 0.4261 - val_loss: 1.8498 - val_R2: 0.3782\n",
      "Epoch 47/100\n",
      "36/36 [==============================] - 26s 720ms/step - loss: 1.5225 - R2: 0.4311 - val_loss: 1.8416 - val_R2: 0.3891\n",
      "Epoch 48/100\n",
      "36/36 [==============================] - 26s 712ms/step - loss: 1.5053 - R2: 0.4418 - val_loss: 1.8417 - val_R2: 0.3711\n",
      "Epoch 49/100\n",
      "36/36 [==============================] - 26s 710ms/step - loss: 1.5018 - R2: 0.4425 - val_loss: 1.8390 - val_R2: 0.3818\n",
      "Epoch 50/100\n",
      "36/36 [==============================] - 26s 715ms/step - loss: 1.4951 - R2: 0.4439 - val_loss: 1.8080 - val_R2: 0.3939\n",
      "Epoch 51/100\n",
      "36/36 [==============================] - 26s 719ms/step - loss: 1.4899 - R2: 0.4448 - val_loss: 1.8003 - val_R2: 0.3880\n",
      "Epoch 52/100\n",
      "36/36 [==============================] - 26s 712ms/step - loss: 1.4756 - R2: 0.4508 - val_loss: 1.8703 - val_R2: 0.3615\n",
      "Epoch 53/100\n",
      "36/36 [==============================] - 26s 711ms/step - loss: 1.4692 - R2: 0.4467 - val_loss: 1.8214 - val_R2: 0.3767\n",
      "Epoch 54/100\n",
      "36/36 [==============================] - 26s 711ms/step - loss: 1.4599 - R2: 0.4634 - val_loss: 1.7719 - val_R2: 0.4035\n",
      "Epoch 55/100\n",
      "36/36 [==============================] - 26s 709ms/step - loss: 1.4449 - R2: 0.4609 - val_loss: 1.8282 - val_R2: 0.3949\n",
      "Epoch 56/100\n",
      "36/36 [==============================] - 26s 712ms/step - loss: 1.4309 - R2: 0.4674 - val_loss: 1.7371 - val_R2: 0.4130\n",
      "Epoch 57/100\n",
      "36/36 [==============================] - 25s 694ms/step - loss: 1.4209 - R2: 0.4732 - val_loss: 1.7277 - val_R2: 0.4253\n",
      "Epoch 58/100\n",
      "36/36 [==============================] - 25s 696ms/step - loss: 1.4070 - R2: 0.4801 - val_loss: 1.7293 - val_R2: 0.4133\n",
      "Epoch 59/100\n",
      "36/36 [==============================] - 25s 694ms/step - loss: 1.4186 - R2: 0.4768 - val_loss: 1.7037 - val_R2: 0.4393\n",
      "Epoch 60/100\n",
      "36/36 [==============================] - 25s 695ms/step - loss: 1.3905 - R2: 0.4786 - val_loss: 1.6923 - val_R2: 0.4308\n",
      "Epoch 61/100\n",
      "36/36 [==============================] - 25s 690ms/step - loss: 1.3821 - R2: 0.4863 - val_loss: 1.6856 - val_R2: 0.4349\n",
      "Epoch 62/100\n",
      "36/36 [==============================] - 26s 730ms/step - loss: 1.3686 - R2: 0.4891 - val_loss: 1.6772 - val_R2: 0.4275\n",
      "Epoch 63/100\n",
      "36/36 [==============================] - 28s 788ms/step - loss: 1.3781 - R2: 0.4893 - val_loss: 1.6813 - val_R2: 0.4358\n",
      "Epoch 64/100\n",
      "36/36 [==============================] - 29s 810ms/step - loss: 1.3677 - R2: 0.4918 - val_loss: 1.6618 - val_R2: 0.4434\n",
      "Epoch 65/100\n",
      "36/36 [==============================] - 28s 778ms/step - loss: 1.3453 - R2: 0.4964 - val_loss: 1.6769 - val_R2: 0.4361\n",
      "Epoch 66/100\n",
      "36/36 [==============================] - 27s 751ms/step - loss: 1.3330 - R2: 0.5056 - val_loss: 1.6613 - val_R2: 0.4268\n",
      "Epoch 67/100\n",
      "36/36 [==============================] - 27s 746ms/step - loss: 1.3390 - R2: 0.4996 - val_loss: 1.6397 - val_R2: 0.4556\n",
      "Epoch 68/100\n",
      "36/36 [==============================] - 27s 762ms/step - loss: 1.3160 - R2: 0.5107 - val_loss: 1.6395 - val_R2: 0.4345\n",
      "Epoch 69/100\n",
      "36/36 [==============================] - 26s 730ms/step - loss: 1.3225 - R2: 0.5000 - val_loss: 1.6242 - val_R2: 0.4589\n",
      "Epoch 70/100\n",
      "36/36 [==============================] - 26s 716ms/step - loss: 1.2808 - R2: 0.5255 - val_loss: 1.6257 - val_R2: 0.4469\n",
      "Epoch 71/100\n",
      "36/36 [==============================] - 26s 709ms/step - loss: 1.2796 - R2: 0.5239 - val_loss: 1.6197 - val_R2: 0.4527\n",
      "Epoch 72/100\n",
      "36/36 [==============================] - 25s 706ms/step - loss: 1.2624 - R2: 0.5320 - val_loss: 1.6110 - val_R2: 0.4423\n",
      "Epoch 73/100\n",
      "36/36 [==============================] - 26s 730ms/step - loss: 1.2648 - R2: 0.5273 - val_loss: 1.6091 - val_R2: 0.4511\n",
      "Epoch 74/100\n",
      "36/36 [==============================] - 26s 734ms/step - loss: 1.2704 - R2: 0.5335 - val_loss: 1.6272 - val_R2: 0.4460\n",
      "Epoch 75/100\n",
      "36/36 [==============================] - 27s 742ms/step - loss: 1.2393 - R2: 0.5380 - val_loss: 1.5883 - val_R2: 0.4676\n",
      "Epoch 76/100\n",
      "36/36 [==============================] - 29s 814ms/step - loss: 1.2522 - R2: 0.5346 - val_loss: 1.6216 - val_R2: 0.4663\n",
      "Epoch 77/100\n",
      "36/36 [==============================] - 27s 741ms/step - loss: 1.2547 - R2: 0.5346 - val_loss: 1.5608 - val_R2: 0.4799\n",
      "Epoch 78/100\n",
      "36/36 [==============================] - 26s 727ms/step - loss: 1.2075 - R2: 0.5483 - val_loss: 1.5735 - val_R2: 0.4590\n",
      "Epoch 79/100\n",
      "36/36 [==============================] - 26s 724ms/step - loss: 1.2185 - R2: 0.5500 - val_loss: 1.5518 - val_R2: 0.4770\n",
      "Epoch 80/100\n",
      "36/36 [==============================] - 26s 734ms/step - loss: 1.2211 - R2: 0.5462 - val_loss: 1.5389 - val_R2: 0.4785\n",
      "Epoch 81/100\n",
      "36/36 [==============================] - 26s 723ms/step - loss: 1.1854 - R2: 0.5580 - val_loss: 1.5379 - val_R2: 0.4845\n",
      "Epoch 82/100\n",
      "36/36 [==============================] - 26s 726ms/step - loss: 1.2159 - R2: 0.5494 - val_loss: 1.5253 - val_R2: 0.4822\n",
      "Epoch 83/100\n",
      "36/36 [==============================] - 26s 725ms/step - loss: 1.1833 - R2: 0.5656 - val_loss: 1.5412 - val_R2: 0.4663\n",
      "Epoch 84/100\n",
      "36/36 [==============================] - 26s 725ms/step - loss: 1.1709 - R2: 0.5715 - val_loss: 1.5512 - val_R2: 0.4741\n",
      "Epoch 85/100\n",
      "36/36 [==============================] - 26s 722ms/step - loss: 1.1950 - R2: 0.5533 - val_loss: 1.5092 - val_R2: 0.5018\n",
      "Epoch 86/100\n",
      "36/36 [==============================] - 26s 734ms/step - loss: 1.1806 - R2: 0.5549 - val_loss: 1.4929 - val_R2: 0.4955\n",
      "Epoch 87/100\n",
      "36/36 [==============================] - 27s 743ms/step - loss: 1.1457 - R2: 0.5726 - val_loss: 1.4896 - val_R2: 0.4909\n",
      "Epoch 88/100\n",
      "36/36 [==============================] - 26s 727ms/step - loss: 1.1418 - R2: 0.5773 - val_loss: 1.4926 - val_R2: 0.5031\n",
      "Epoch 89/100\n",
      "36/36 [==============================] - 26s 724ms/step - loss: 1.1286 - R2: 0.5771 - val_loss: 1.5059 - val_R2: 0.4873\n",
      "Epoch 90/100\n",
      "36/36 [==============================] - 26s 733ms/step - loss: 1.1101 - R2: 0.5857 - val_loss: 1.4932 - val_R2: 0.4952\n",
      "Epoch 91/100\n",
      "36/36 [==============================] - 26s 730ms/step - loss: 1.1028 - R2: 0.5933 - val_loss: 1.4737 - val_R2: 0.5039\n",
      "Epoch 92/100\n",
      "36/36 [==============================] - 26s 727ms/step - loss: 1.1045 - R2: 0.5888 - val_loss: 1.5017 - val_R2: 0.5004\n",
      "Epoch 93/100\n",
      "36/36 [==============================] - 27s 751ms/step - loss: 1.1112 - R2: 0.5867 - val_loss: 1.4690 - val_R2: 0.5030\n",
      "Epoch 94/100\n",
      "36/36 [==============================] - 26s 728ms/step - loss: 1.0937 - R2: 0.5923 - val_loss: 1.4587 - val_R2: 0.5098\n",
      "Epoch 95/100\n",
      "36/36 [==============================] - 25s 683ms/step - loss: 1.1047 - R2: 0.5880 - val_loss: 1.4519 - val_R2: 0.4999\n",
      "Epoch 96/100\n",
      "36/36 [==============================] - 25s 687ms/step - loss: 1.0753 - R2: 0.5990 - val_loss: 1.4911 - val_R2: 0.5091\n",
      "Epoch 97/100\n",
      "36/36 [==============================] - 25s 686ms/step - loss: 1.0807 - R2: 0.6023 - val_loss: 1.4455 - val_R2: 0.5185\n",
      "Epoch 98/100\n",
      "36/36 [==============================] - 25s 687ms/step - loss: 1.0803 - R2: 0.5962 - val_loss: 1.4389 - val_R2: 0.5197\n",
      "Epoch 99/100\n",
      "36/36 [==============================] - 25s 688ms/step - loss: 1.0667 - R2: 0.6081 - val_loss: 1.4592 - val_R2: 0.4995\n",
      "Epoch 100/100\n",
      "36/36 [==============================] - 25s 685ms/step - loss: 1.0528 - R2: 0.6095 - val_loss: 1.4438 - val_R2: 0.5108\n"
     ]
    }
   ],
   "source": [
    "# history = model.fit(dgen_train, epochs=10, validation_data=dgen_test)\n",
    "history = model.fit(dgen_train, epochs=100, validation_data=dgen_test)"
   ]
  },
  {
   "cell_type": "code",
   "execution_count": 42,
   "id": "a0242588-eede-4e85-8b83-f207ea8ab757",
   "metadata": {},
   "outputs": [],
   "source": [
    "X_test_eval = []\n",
    "y_t_eval = []\n",
    "for X_t, y_t in dgen_test:\n",
    "    X_test_eval = X_test_eval + [list(t) for t in X_t]\n",
    "    y_t_eval = y_t_eval + list(y_t)\n",
    "X_test_eval = np.array(X_test_eval)\n",
    "y_test = np.array(y_t_eval)"
   ]
  },
  {
   "cell_type": "code",
   "execution_count": 43,
   "id": "a1437cbf-fe44-4999-a44b-05cea765f22b",
   "metadata": {},
   "outputs": [
    {
     "data": {
      "text/plain": [
       "((1133, 227), (1133,))"
      ]
     },
     "execution_count": 43,
     "metadata": {},
     "output_type": "execute_result"
    }
   ],
   "source": [
    "X_test_eval.shape, y_test.shape"
   ]
  },
  {
   "cell_type": "code",
   "execution_count": 44,
   "id": "0084fbb1-e83e-4808-99bf-1458f3ea3076",
   "metadata": {},
   "outputs": [
    {
     "name": "stdout",
     "output_type": "stream",
     "text": [
      "36/36 [==============================] - 2s 49ms/step\n"
     ]
    }
   ],
   "source": [
    "y_pred = model.predict(X_test_eval)"
   ]
  },
  {
   "cell_type": "markdown",
   "id": "382979a3-f299-4762-8b6d-10a6ea4d3c70",
   "metadata": {},
   "source": [
    "# Score"
   ]
  },
  {
   "cell_type": "markdown",
   "id": "776359cd-4842-4865-97f1-af22ed07c807",
   "metadata": {},
   "source": [
    "### PONER LOS SCORES ACA\n",
    "\n"
   ]
  },
  {
   "cell_type": "code",
   "execution_count": 45,
   "id": "f9fd5d60-841f-46c3-94b6-5755b4d548cd",
   "metadata": {},
   "outputs": [],
   "source": [
    "r2 = 1 - ((y_test - y_pred.reshape(-1)) ** 2).sum() / ((y_test - y_test.mean()) ** 2).sum()"
   ]
  },
  {
   "cell_type": "code",
   "execution_count": 46,
   "id": "4d2bfabe-2e3e-40cf-a1e8-2d458ee7f328",
   "metadata": {},
   "outputs": [
    {
     "data": {
      "text/plain": [
       "0.5108227113660095"
      ]
     },
     "execution_count": 46,
     "metadata": {},
     "output_type": "execute_result"
    }
   ],
   "source": [
    "r2\n"
   ]
  },
  {
   "cell_type": "markdown",
   "id": "b58511ba-3aef-47ea-9415-e043e9f2c6f4",
   "metadata": {},
   "source": [
    "# Modelos corridos"
   ]
  },
  {
   "cell_type": "code",
   "execution_count": 47,
   "id": "85262541-e04a-4ff2-b3e6-a47643db66f6",
   "metadata": {},
   "outputs": [],
   "source": [
    "# filename = 'models/embed_128_text_cnn_aug_100x100_0.0001.h5'\n",
    "# filename = 'models/embed_128_text_cnn_aug_100x100_0.0002.h5'\n",
    "# filename = 'models/embed_128_text_cnn_aug_100x100_0.0003.h5'\n",
    "filename = 'models/embed_128_text_cnn_aug_100x100_0.0004.h5'\n",
    "model.save(filename)"
   ]
  },
  {
   "cell_type": "markdown",
   "id": "5f683e18-c876-4f7c-93ea-a33d495dcdaa",
   "metadata": {},
   "source": [
    "# Load model (solo si se grabo el modelo)"
   ]
  },
  {
   "cell_type": "code",
   "execution_count": 48,
   "id": "285c8740-f0bb-4237-8593-ff9b815de0e3",
   "metadata": {},
   "outputs": [],
   "source": [
    "from tensorflow.keras.models import load_model"
   ]
  },
  {
   "cell_type": "code",
   "execution_count": 49,
   "id": "2168984f-770c-436e-92da-c1344b1d3abc",
   "metadata": {},
   "outputs": [],
   "source": [
    "model_loaded = load_model(filename, custom_objects={'R2': R2})"
   ]
  },
  {
   "cell_type": "code",
   "execution_count": 50,
   "id": "13a9d7d8-41e0-44a0-a8b9-02157a11f8f2",
   "metadata": {},
   "outputs": [
    {
     "name": "stdout",
     "output_type": "stream",
     "text": [
      "36/36 [==============================] - 3s 66ms/step\n"
     ]
    }
   ],
   "source": [
    "y_pred = model_loaded.predict(X_test_eval)"
   ]
  },
  {
   "cell_type": "code",
   "execution_count": 51,
   "id": "26c63493-3f25-4383-9654-58ee62aa3ae5",
   "metadata": {},
   "outputs": [
    {
     "data": {
      "text/plain": [
       "0.5108227113660095"
      ]
     },
     "execution_count": 51,
     "metadata": {},
     "output_type": "execute_result"
    }
   ],
   "source": [
    "r2 = 1 - ((y_test - y_pred.reshape(-1)) ** 2).sum() / ((y_test - y_test.mean()) ** 2).sum()\n",
    "r2"
   ]
  },
  {
   "cell_type": "markdown",
   "id": "7f1a6260-e31f-4e5e-a923-ce67bf31152f",
   "metadata": {},
   "source": [
    "# Evaluación"
   ]
  },
  {
   "cell_type": "code",
   "execution_count": 52,
   "id": "7dd9d7e6-2789-459e-b9dd-593e10847fc4",
   "metadata": {},
   "outputs": [
    {
     "data": {
      "text/plain": [
       "<function matplotlib.pyplot.show(*args, **kw)>"
      ]
     },
     "execution_count": 52,
     "metadata": {},
     "output_type": "execute_result"
    },
    {
     "data": {
      "image/png": "[encoded data removed]",
      "text/plain": [
       "<Figure size 360x360 with 1 Axes>"
      ]
     },
     "metadata": {},
     "output_type": "display_data"
    }
   ],
   "source": [
    "import seaborn as sns\n",
    "import matplotlib.pyplot as plt\n",
    "\n",
    "sns.set(color_codes=True)\n",
    "sns.set_style(\"white\")\n",
    "\n",
    "ax = sns.regplot(x=y_test, y=y_pred, scatter_kws={'alpha':0.4})\n",
    "ax.set_xlabel('Experimental pIC50', fontsize='large', fontweight='bold')\n",
    "ax.set_ylabel('Predicted pIC50', fontsize='large', fontweight='bold')\n",
    "ax.set_xlim(0, 12)\n",
    "ax.set_ylim(0, 12)\n",
    "ax.figure.set_size_inches(5, 5)\n",
    "plt.show"
   ]
  },
  {
   "cell_type": "markdown",
   "id": "2d34ee0a-385f-44a2-a51c-734c5efa3704",
   "metadata": {},
   "source": [
    "### TSNE "
   ]
  },
  {
   "cell_type": "code",
   "execution_count": 53,
   "id": "3648af1e-24e7-460d-bcf3-d0292691a9e3",
   "metadata": {},
   "outputs": [],
   "source": [
    "from sklearn.manifold import TSNE\n",
    "import matplotlib.pyplot as plt"
   ]
  },
  {
   "cell_type": "code",
   "execution_count": 54,
   "id": "a6f7dc17-e33b-4993-b7f7-0d117471087a",
   "metadata": {},
   "outputs": [],
   "source": [
    "embeddings = model.layers[1].get_weights()[0][1:]"
   ]
  },
  {
   "cell_type": "code",
   "execution_count": 55,
   "id": "161357eb-bc8d-4e4d-a054-b30d0c7b23bf",
   "metadata": {},
   "outputs": [
    {
     "data": {
      "text/plain": [
       "(42, 70)"
      ]
     },
     "execution_count": 55,
     "metadata": {},
     "output_type": "execute_result"
    }
   ],
   "source": [
    "embeddings.shape"
   ]
  },
  {
   "cell_type": "code",
   "execution_count": 56,
   "id": "ce9a3de9-9690-4b5d-aeac-ad16f0647a72",
   "metadata": {},
   "outputs": [],
   "source": [
    "tsne = TSNE(2)\n",
    "x_2d = tsne.fit_transform(embeddings)"
   ]
  },
  {
   "cell_type": "code",
   "execution_count": 57,
   "id": "4c2d1509-973d-419e-b9a0-e23e99176977",
   "metadata": {},
   "outputs": [
    {
     "data": {
      "image/png": "[encoded data removed]",
      "text/plain": [
       "<Figure size 720x720 with 1 Axes>"
      ]
     },
     "metadata": {},
     "output_type": "display_data"
    }
   ],
   "source": [
    "plt.figure(figsize=(10,10))\n",
    "plt.scatter(x_2d[:, 0], x_2d[:, 1], s= 1)\n",
    "for i, t in enumerate(smiles_dict):\n",
    "    plt.text(x_2d[i, 0], x_2d[i, 1], t, fontsize=16)\n",
    "    \n",
    "plt.show()"
   ]
  },
  {
   "cell_type": "code",
   "execution_count": null,
   "id": "10331116-f446-4ca5-90b3-6b3315fdc8c8",
   "metadata": {},
   "outputs": [],
   "source": []
  }
 ],
 "metadata": {
  "kernelspec": {
   "display_name": "Python 3 (ipykernel)",
   "language": "python",
   "name": "python3"
  },
  "language_info": {
   "codemirror_mode": {
    "name": "ipython",
    "version": 3
   },
   "file_extension": ".py",
   "mimetype": "text/x-python",
   "name": "python",
   "nbconvert_exporter": "python",
   "pygments_lexer": "ipython3",
   "version": "3.8.13"
  }
 },
 "nbformat": 4,
 "nbformat_minor": 5
}
