{
 "cells": [
  {
   "cell_type": "code",
   "execution_count": 152,
   "id": "3ac13f6c-a061-4c24-a5fc-081ea6283a62",
   "metadata": {},
   "outputs": [
    {
     "name": "stdout",
     "output_type": "stream",
     "text": [
      "The autoreload extension is already loaded. To reload it, use:\n",
      "  %reload_ext autoreload\n"
     ]
    }
   ],
   "source": [
    "%load_ext autoreload\n",
    "%autoreload 2"
   ]
  },
  {
   "cell_type": "code",
   "execution_count": 153,
   "id": "21bee0a3-79a7-43b2-9ac2-15cad5630e22",
   "metadata": {},
   "outputs": [],
   "source": [
    "import pandas as pd\n",
    "import numpy as np\n",
    "# from dataaug import SmilesEnumerator, SmilesIterator\n",
    "from datagen import DataGenerator, smiles_dict, smiles_to_seq"
   ]
  },
  {
   "cell_type": "code",
   "execution_count": 154,
   "id": "628a3149-eabe-4de3-8404-d86eb6ad3baf",
   "metadata": {},
   "outputs": [
    {
     "data": {
      "text/plain": [
       "42"
      ]
     },
     "execution_count": 154,
     "metadata": {},
     "output_type": "execute_result"
    }
   ],
   "source": [
    "len(smiles_dict)"
   ]
  },
  {
   "cell_type": "code",
   "execution_count": 155,
   "id": "e29ef48f-4b67-42a4-83af-e7d0bb980c4b",
   "metadata": {},
   "outputs": [
    {
     "name": "stdout",
     "output_type": "stream",
     "text": [
      "{'#': 1, '(': 2, ')': 3, '+': 4, '-': 5, '/': 6, '1': 7, '2': 8, '3': 9, '4': 10, '5': 11, '6': 12, '7': 13, '8': 14, '=': 15, 'C': 16, 'F': 17, 'H': 18, 'I': 19, 'N': 20, 'O': 21, 'P': 22, 'S': 23, '[': 24, '\\\\': 25, ']': 26, '_': 27, 'c': 28, 'Cl': 29, 'Br': 30, 'n': 31, 'o': 32, 's': 33, '@': 34, '.': 35, 'a': 36, 'B': 37, 'e': 38, 'i': 39, '9': 40, '10': 41, '11': 42}\n"
     ]
    }
   ],
   "source": [
    "print(smiles_dict)"
   ]
  },
  {
   "cell_type": "markdown",
   "id": "dd87900d-dca2-4f0e-a5c2-58fef4266a67",
   "metadata": {},
   "source": [
    "Data augmentation:\n",
    "\n",
    "https://arxiv.org/pdf/1703.07076.pdf\n",
    "\n",
    "https://github.com/EBjerrum/molvecgen\n",
    "\n",
    "https://github.com/Ebjerrum/SMILES-enumeration"
   ]
  },
  {
   "cell_type": "code",
   "execution_count": 156,
   "id": "353a2d75-f0f4-4563-9842-c68d77118161",
   "metadata": {},
   "outputs": [],
   "source": [
    "df = pd.read_csv('data/acetylcholinesterase_02_bioactivity_data_preprocessed.csv')"
   ]
  },
  {
   "cell_type": "code",
   "execution_count": 157,
   "id": "4e7fcdcb-ad53-4ebf-bc17-a241c79269da",
   "metadata": {},
   "outputs": [],
   "source": [
    "max_len_idx = df['canonical_smiles'].apply(len).argmax()\n",
    "min_len_idx = df['canonical_smiles'].apply(len).argmin()\n",
    "max_sequence_len = len(df['canonical_smiles'].iloc[max_len_idx]) + 20"
   ]
  },
  {
   "cell_type": "code",
   "execution_count": 158,
   "id": "d1554fa5-d9ee-456c-be20-80571e319fc6",
   "metadata": {},
   "outputs": [
    {
     "data": {
      "text/html": [
       "<div>\n",
       "<style scoped>\n",
       "    .dataframe tbody tr th:only-of-type {\n",
       "        vertical-align: middle;\n",
       "    }\n",
       "\n",
       "    .dataframe tbody tr th {\n",
       "        vertical-align: top;\n",
       "    }\n",
       "\n",
       "    .dataframe thead th {\n",
       "        text-align: right;\n",
       "    }\n",
       "</style>\n",
       "<table border=\"1\" class=\"dataframe\">\n",
       "  <thead>\n",
       "    <tr style=\"text-align: right;\">\n",
       "      <th></th>\n",
       "      <th>molecule_chembl_id</th>\n",
       "      <th>canonical_smiles</th>\n",
       "      <th>standard_value</th>\n",
       "      <th>standard_value_norm</th>\n",
       "      <th>pIC50</th>\n",
       "    </tr>\n",
       "  </thead>\n",
       "  <tbody>\n",
       "    <tr>\n",
       "      <th>0</th>\n",
       "      <td>CHEMBL133897</td>\n",
       "      <td>CCOc1nn(-c2cccc(OCc3ccccc3)c2)c(=O)o1</td>\n",
       "      <td>750.0</td>\n",
       "      <td>750.0</td>\n",
       "      <td>6.124939</td>\n",
       "    </tr>\n",
       "    <tr>\n",
       "      <th>1</th>\n",
       "      <td>CHEMBL336398</td>\n",
       "      <td>O=C(N1CCCCC1)n1nc(-c2ccc(Cl)cc2)nc1SCC1CC1</td>\n",
       "      <td>100.0</td>\n",
       "      <td>100.0</td>\n",
       "      <td>7.000000</td>\n",
       "    </tr>\n",
       "    <tr>\n",
       "      <th>2</th>\n",
       "      <td>CHEMBL131588</td>\n",
       "      <td>CN(C(=O)n1nc(-c2ccc(Cl)cc2)nc1SCC(F)(F)F)c1ccccc1</td>\n",
       "      <td>50000.0</td>\n",
       "      <td>50000.0</td>\n",
       "      <td>4.301030</td>\n",
       "    </tr>\n",
       "    <tr>\n",
       "      <th>3</th>\n",
       "      <td>CHEMBL130628</td>\n",
       "      <td>O=C(N1CCCCC1)n1nc(-c2ccc(Cl)cc2)nc1SCC(F)(F)F</td>\n",
       "      <td>300.0</td>\n",
       "      <td>300.0</td>\n",
       "      <td>6.522879</td>\n",
       "    </tr>\n",
       "    <tr>\n",
       "      <th>4</th>\n",
       "      <td>CHEMBL130478</td>\n",
       "      <td>CSc1nc(-c2ccc(OC(F)(F)F)cc2)nn1C(=O)N(C)C</td>\n",
       "      <td>800.0</td>\n",
       "      <td>800.0</td>\n",
       "      <td>6.096910</td>\n",
       "    </tr>\n",
       "    <tr>\n",
       "      <th>...</th>\n",
       "      <td>...</td>\n",
       "      <td>...</td>\n",
       "      <td>...</td>\n",
       "      <td>...</td>\n",
       "      <td>...</td>\n",
       "    </tr>\n",
       "    <tr>\n",
       "      <th>5038</th>\n",
       "      <td>CHEMBL4554172</td>\n",
       "      <td>Cc1ccc(-c2nc(NC(=O)C3CCN(Cc4cccc(F)c4)CC3)sc2-...</td>\n",
       "      <td>10000.0</td>\n",
       "      <td>10000.0</td>\n",
       "      <td>5.000000</td>\n",
       "    </tr>\n",
       "    <tr>\n",
       "      <th>5039</th>\n",
       "      <td>CHEMBL4533844</td>\n",
       "      <td>Cc1ccc(-c2nc(NC(=O)C3CCN(Cc4ccccc4C(F)(F)F)CC3...</td>\n",
       "      <td>7570.0</td>\n",
       "      <td>7570.0</td>\n",
       "      <td>5.120904</td>\n",
       "    </tr>\n",
       "    <tr>\n",
       "      <th>5040</th>\n",
       "      <td>CHEMBL4570655</td>\n",
       "      <td>Cc1ccc(-c2nc(NC(=O)C3CCN(Cc4ccccc4C)CC3)sc2-c2...</td>\n",
       "      <td>10000.0</td>\n",
       "      <td>10000.0</td>\n",
       "      <td>5.000000</td>\n",
       "    </tr>\n",
       "    <tr>\n",
       "      <th>5041</th>\n",
       "      <td>CHEMBL4571704</td>\n",
       "      <td>COc1cc(O)c2c(c1)C1=C(c3c(O)c(O)cc(C)c3-c3cc(OC...</td>\n",
       "      <td>15500.0</td>\n",
       "      <td>15500.0</td>\n",
       "      <td>4.809668</td>\n",
       "    </tr>\n",
       "    <tr>\n",
       "      <th>5042</th>\n",
       "      <td>CHEMBL4556664</td>\n",
       "      <td>COc1cc(O)c(C(C)=O)c(-c2c(C)cc(O)c3oc4c(O)cc(C)...</td>\n",
       "      <td>68300.0</td>\n",
       "      <td>68300.0</td>\n",
       "      <td>4.165579</td>\n",
       "    </tr>\n",
       "  </tbody>\n",
       "</table>\n",
       "<p>5043 rows × 5 columns</p>\n",
       "</div>"
      ],
      "text/plain": [
       "     molecule_chembl_id                                   canonical_smiles  \\\n",
       "0          CHEMBL133897              CCOc1nn(-c2cccc(OCc3ccccc3)c2)c(=O)o1   \n",
       "1          CHEMBL336398         O=C(N1CCCCC1)n1nc(-c2ccc(Cl)cc2)nc1SCC1CC1   \n",
       "2          CHEMBL131588  CN(C(=O)n1nc(-c2ccc(Cl)cc2)nc1SCC(F)(F)F)c1ccccc1   \n",
       "3          CHEMBL130628      O=C(N1CCCCC1)n1nc(-c2ccc(Cl)cc2)nc1SCC(F)(F)F   \n",
       "4          CHEMBL130478          CSc1nc(-c2ccc(OC(F)(F)F)cc2)nn1C(=O)N(C)C   \n",
       "...                 ...                                                ...   \n",
       "5038      CHEMBL4554172  Cc1ccc(-c2nc(NC(=O)C3CCN(Cc4cccc(F)c4)CC3)sc2-...   \n",
       "5039      CHEMBL4533844  Cc1ccc(-c2nc(NC(=O)C3CCN(Cc4ccccc4C(F)(F)F)CC3...   \n",
       "5040      CHEMBL4570655  Cc1ccc(-c2nc(NC(=O)C3CCN(Cc4ccccc4C)CC3)sc2-c2...   \n",
       "5041      CHEMBL4571704  COc1cc(O)c2c(c1)C1=C(c3c(O)c(O)cc(C)c3-c3cc(OC...   \n",
       "5042      CHEMBL4556664  COc1cc(O)c(C(C)=O)c(-c2c(C)cc(O)c3oc4c(O)cc(C)...   \n",
       "\n",
       "      standard_value  standard_value_norm     pIC50  \n",
       "0              750.0                750.0  6.124939  \n",
       "1              100.0                100.0  7.000000  \n",
       "2            50000.0              50000.0  4.301030  \n",
       "3              300.0                300.0  6.522879  \n",
       "4              800.0                800.0  6.096910  \n",
       "...              ...                  ...       ...  \n",
       "5038         10000.0              10000.0  5.000000  \n",
       "5039          7570.0               7570.0  5.120904  \n",
       "5040         10000.0              10000.0  5.000000  \n",
       "5041         15500.0              15500.0  4.809668  \n",
       "5042         68300.0              68300.0  4.165579  \n",
       "\n",
       "[5043 rows x 5 columns]"
      ]
     },
     "execution_count": 158,
     "metadata": {},
     "output_type": "execute_result"
    }
   ],
   "source": [
    "df"
   ]
  },
  {
   "cell_type": "code",
   "execution_count": 159,
   "id": "9675f7e8-a8e6-44ff-b1c5-b229cbbeb2e9",
   "metadata": {},
   "outputs": [],
   "source": [
    "X = df['canonical_smiles'].values\n",
    "y = df['pIC50'].values"
   ]
  },
  {
   "cell_type": "code",
   "execution_count": 160,
   "id": "52aa520a-a84b-4d8b-a22e-6b4a5cc7e65a",
   "metadata": {},
   "outputs": [],
   "source": [
    "dgen = DataGenerator(X, y, max_sequence_len, batch_size=16)"
   ]
  },
  {
   "cell_type": "code",
   "execution_count": 161,
   "id": "b3212e31-dd2c-4ebc-b9a0-78ed4bb5d78d",
   "metadata": {},
   "outputs": [
    {
     "data": {
      "text/plain": [
       "5056"
      ]
     },
     "execution_count": 161,
     "metadata": {},
     "output_type": "execute_result"
    }
   ],
   "source": [
    "len(dgen) * dgen.batch_size"
   ]
  },
  {
   "cell_type": "code",
   "execution_count": 162,
   "id": "133033ed-a3b1-4572-aaaf-f4cb2a055724",
   "metadata": {},
   "outputs": [
    {
     "name": "stdout",
     "output_type": "stream",
     "text": [
      "315\r"
     ]
    }
   ],
   "source": [
    "for i, (X_b, y_b) in enumerate(dgen):\n",
    "    print(f'{i}\\r', end='')\n"
   ]
  },
  {
   "cell_type": "markdown",
   "id": "2985df76-23b9-45a8-83ed-ce8ae510219f",
   "metadata": {},
   "source": [
    "# Canonical_smiles To secuence"
   ]
  },
  {
   "cell_type": "code",
   "execution_count": 163,
   "id": "c46ac796-1d0b-439f-a515-3f1c59bb7afd",
   "metadata": {},
   "outputs": [],
   "source": [
    "# from tensorflow.keras.preprocessing.text import Tokenizer\n",
    "# from tensorflow.keras.preprocessing.sequence import pad_sequences\n",
    "# tk = Tokenizer(char_level=True, lower=False, )\n",
    "# tk.fit_on_texts(X, )\n",
    "# tk.word_index\n",
    "# X_seq = tk.texts_to_sequences(X, )\n",
    "# X_seq_pad = pad_sequences(X_seq)"
   ]
  },
  {
   "cell_type": "code",
   "execution_count": 164,
   "id": "2f656502-766c-4740-b130-f9871dd8609b",
   "metadata": {},
   "outputs": [],
   "source": [
    "# df['canonical_smiles_encoded'] = df['canonical_smiles'].apply(lambda x: smiles_to_seq(x, max_sequence_len))"
   ]
  },
  {
   "cell_type": "code",
   "execution_count": 165,
   "id": "703325ab-0193-4bf5-9b66-a880d7bc346b",
   "metadata": {},
   "outputs": [],
   "source": [
    "# X = np.array([l for l in df['canonical_smiles_encoded'].values])\n",
    "# y = df['pIC50'].values"
   ]
  },
  {
   "cell_type": "code",
   "execution_count": 166,
   "id": "397635aa-6feb-4d05-95ca-f9ecc1e310ee",
   "metadata": {},
   "outputs": [
    {
     "data": {
      "text/plain": [
       "((5043,), (5043,))"
      ]
     },
     "execution_count": 166,
     "metadata": {},
     "output_type": "execute_result"
    }
   ],
   "source": [
    "X.shape, y.shape"
   ]
  },
  {
   "cell_type": "code",
   "execution_count": 167,
   "id": "a9ecefbc-828d-488b-b456-6e746e1cbc0e",
   "metadata": {},
   "outputs": [],
   "source": [
    "# X[max_len_idx]"
   ]
  },
  {
   "cell_type": "code",
   "execution_count": 168,
   "id": "14d2a648-a9dc-482e-b3aa-4a56bd3b8437",
   "metadata": {},
   "outputs": [],
   "source": [
    "# X[min_len_idx]"
   ]
  },
  {
   "cell_type": "markdown",
   "id": "4233710d-9274-4dae-b22d-cf42b57ad862",
   "metadata": {},
   "source": [
    "# Split"
   ]
  },
  {
   "cell_type": "code",
   "execution_count": 169,
   "id": "ce7a95e6-2486-42fb-97fb-865e3fd6a561",
   "metadata": {},
   "outputs": [],
   "source": [
    "from sklearn.model_selection import train_test_split"
   ]
  },
  {
   "cell_type": "code",
   "execution_count": 170,
   "id": "fcb9840f-2f41-45be-99a5-f05f3ab73ed8",
   "metadata": {},
   "outputs": [],
   "source": [
    "X_train, X_test, y_train, y_test = train_test_split(X, y, test_size=0.2, random_state=42)"
   ]
  },
  {
   "cell_type": "code",
   "execution_count": 171,
   "id": "4ad17134-3e15-42d1-b8c9-0c793169e145",
   "metadata": {},
   "outputs": [
    {
     "data": {
      "text/plain": [
       "(4034, 4034, 1009)"
      ]
     },
     "execution_count": 171,
     "metadata": {},
     "output_type": "execute_result"
    }
   ],
   "source": [
    "len(X_train), len(y_train), len(X_test)"
   ]
  },
  {
   "cell_type": "code",
   "execution_count": 172,
   "id": "929de60c-7128-4e35-8efc-4b5f9ee9471c",
   "metadata": {},
   "outputs": [
    {
     "data": {
      "text/plain": [
       "array(['Cc1ccc2c(NCc3ccccc3)c3c(nc2c1)CCCC3',\n",
       "       'CN(C)S(=O)(=O)NC1CCc2c(O)cccc2C1',\n",
       "       'CCN(CCCCCCCNC1=CC(=O)C(NCCCCCCCN(CC)Cc2ccccc2OC)=CC1=O)Cc1ccccc1OC',\n",
       "       ..., 'O=C(Cc1cc(=O)oc2cc(O)ccc12)NNC(=S)Nc1c2c(nc3ccccc13)CCCC2',\n",
       "       'CCCCCCCNC(=O)Oc1cccc(Cn2cc(COc3ccc4ccc(=O)oc4c3)nn2)c1',\n",
       "       'CN(C)Cc1ccc(CSCCCCCCCSCc2ccc(CN(C)C)o2)o1'], dtype=object)"
      ]
     },
     "execution_count": 172,
     "metadata": {},
     "output_type": "execute_result"
    }
   ],
   "source": [
    "X_train"
   ]
  },
  {
   "cell_type": "code",
   "execution_count": 173,
   "id": "dd72855a-8310-4a5e-b5c8-7fe181ea8edd",
   "metadata": {},
   "outputs": [],
   "source": [
    "dgen_train = DataGenerator(X_train, y_train, seq_length=max_sequence_len, batch_size=128, data_augmentation=True)\n",
    "dgen_test = DataGenerator(X_test, y_test, seq_length=max_sequence_len, batch_size=128, data_augmentation=False)"
   ]
  },
  {
   "cell_type": "code",
   "execution_count": 174,
   "id": "1bf28e8f-b29e-4b60-b7a2-4f08ff5a547b",
   "metadata": {},
   "outputs": [
    {
     "name": "stdout",
     "output_type": "stream",
     "text": [
      "7\r"
     ]
    }
   ],
   "source": [
    "for i, (X_b, y_b) in enumerate(dgen_test):\n",
    "    print(f'{i}\\r', end='')"
   ]
  },
  {
   "cell_type": "code",
   "execution_count": 175,
   "id": "222c7f1c-7f3e-40b4-9fb5-5b3ea340c3b0",
   "metadata": {},
   "outputs": [
    {
     "data": {
      "text/plain": [
       "(113, 227)"
      ]
     },
     "execution_count": 175,
     "metadata": {},
     "output_type": "execute_result"
    }
   ],
   "source": [
    "X_b.shape"
   ]
  },
  {
   "cell_type": "markdown",
   "id": "547d87a7-98e3-442e-9f7b-2c4d9d6600de",
   "metadata": {},
   "source": [
    "# Data augmentation (Optional)"
   ]
  },
  {
   "cell_type": "code",
   "execution_count": 176,
   "id": "5ddd8741-95b9-4853-b5af-a7ad0d9f92c2",
   "metadata": {},
   "outputs": [],
   "source": [
    "# X_train = np.vstack([X_train, X_train[:, ::-1]])"
   ]
  },
  {
   "cell_type": "code",
   "execution_count": 177,
   "id": "40594f07-9dee-4b22-8e67-99783778485e",
   "metadata": {},
   "outputs": [],
   "source": [
    "# X_train.shape"
   ]
  },
  {
   "cell_type": "code",
   "execution_count": 178,
   "id": "fda1f529-e7f0-41d1-b3e8-9f8fc49181b1",
   "metadata": {},
   "outputs": [],
   "source": [
    "# y_train = np.hstack([y_train, y_train])"
   ]
  },
  {
   "cell_type": "code",
   "execution_count": 179,
   "id": "72d7302f-351b-45cc-974c-35288a31d556",
   "metadata": {},
   "outputs": [],
   "source": [
    "# y_train.shape\n"
   ]
  },
  {
   "cell_type": "markdown",
   "id": "85941430-2534-4d7d-ba52-d934a31c1bf6",
   "metadata": {},
   "source": [
    "# Network Model"
   ]
  },
  {
   "cell_type": "code",
   "execution_count": 180,
   "id": "6bd5d1bf-4640-4cbc-acd3-72881ddcc07e",
   "metadata": {},
   "outputs": [],
   "source": [
    "from tensorflow.keras import Sequential\n",
    "from tensorflow.keras.layers import LSTM, Dense, Embedding, Bidirectional, Dropout, Activation, BatchNormalization, Conv1D, MaxPool1D, GlobalAveragePooling1D, Flatten\n",
    "from tensorflow.keras.callbacks import ModelCheckpoint\n",
    "from tensorflow.keras.optimizers import Adam, RMSprop\n",
    "from tensorflow.keras import backend as K\n",
    "import tensorflow as tf"
   ]
  },
  {
   "cell_type": "code",
   "execution_count": 449,
   "id": "8308048c-be62-473c-965a-4a11d0b613d7",
   "metadata": {},
   "outputs": [],
   "source": [
    "from tensorflow.keras import layers as L\n",
    "\n"
   ]
  },
  {
   "cell_type": "code",
   "execution_count": 497,
   "id": "b44bed53-3528-4f67-9f5c-a4998eba0a60",
   "metadata": {},
   "outputs": [],
   "source": [
    "\n"
   ]
  },
  {
   "cell_type": "code",
   "execution_count": 595,
   "id": "4801c465-aa9a-402a-b722-b2d1887ad0a2",
   "metadata": {},
   "outputs": [],
   "source": [
    "from tensorflow.keras import layers as L\n"
   ]
  },
  {
   "cell_type": "code",
   "execution_count": 597,
   "id": "98aa4201-cd4e-4d7f-b695-9e32b5dfe1c6",
   "metadata": {},
   "outputs": [],
   "source": [
    "def text_cnn_1d(sequence_length, vocab_size, embedding_size, filter_sizes, num_filters):\n",
    "    max_pool_div = 4\n",
    "    input_x = L.Input(shape=(sequence_length,), name='input_x')\n",
    "    embedding = L.Embedding(vocab_size + 1, embedding_size, name='embedding')(input_x)\n",
    "    pooled_outputs = []\n",
    "    for filter_size in filter_sizes:\n",
    "        conv = L.Conv1D(filters=num_filters, kernel_size=filter_size, padding='same', dilation_rate=1, activation='relu')(embedding)\n",
    "        max_p = L.MaxPool1D((sequence_length - filter_size + 1)//max_pool_div)(conv)\n",
    "        pooled_outputs.append(max_p)\n",
    "        \n",
    "        conv = L.Conv1D(filters=num_filters, kernel_size=filter_size, padding='same', dilation_rate=2, activation='relu')(embedding)\n",
    "        max_p = L.MaxPool1D((sequence_length - filter_size + 1)//max_pool_div)(conv)\n",
    "        pooled_outputs.append(max_p)\n",
    "        \n",
    "        conv = L.Conv1D(filters=num_filters, kernel_size=filter_size, padding='same', dilation_rate=3, activation='relu')(embedding)\n",
    "        max_p = L.MaxPool1D((sequence_length - filter_size + 1)//max_pool_div)(conv)\n",
    "        pooled_outputs.append(max_p)\n",
    "    h_pool = L.Concatenate(axis=2)(pooled_outputs)\n",
    "    dense = L.Flatten()(h_pool)\n",
    "    dense = L.Dense(100, activation='relu')(dense)\n",
    "    dense = L.Dense(100, activation='relu')(dense)\n",
    "    dense = L.Dense(1)(dense)\n",
    "    model = tf.keras.models.Model(input_x, dense)\n",
    "    return model"
   ]
  },
  {
   "cell_type": "code",
   "execution_count": 607,
   "id": "d3db729c-1a80-40ad-b3e5-59329b172ee0",
   "metadata": {},
   "outputs": [],
   "source": [
    "FILTER_SIZES = (3, 4, 5)\n",
    "NUM_FILTERS = 128\n",
    "vocab_size = len(smiles_dict)\n",
    "embeddings_size = 128 # 2\n",
    "# model = text_cnn(max_sequence_len, vocab_size + 1, embeddings_size, FILTER_SIZES, NUM_FILTERS, None, drop_out=0, l2_reg_lambda=0, dense_hidden_size=50)\n",
    "# model.summary()"
   ]
  },
  {
   "cell_type": "code",
   "execution_count": 608,
   "id": "0e0903a5-9840-4994-9964-8e2d3e9eb326",
   "metadata": {},
   "outputs": [
    {
     "name": "stdout",
     "output_type": "stream",
     "text": [
      "Model: \"model_77\"\n",
      "__________________________________________________________________________________________________\n",
      "Layer (type)                    Output Shape         Param #     Connected to                     \n",
      "==================================================================================================\n",
      "input_x (InputLayer)            [(None, 227)]        0                                            \n",
      "__________________________________________________________________________________________________\n",
      "embedding (Embedding)           (None, 227, 128)     5504        input_x[0][0]                    \n",
      "__________________________________________________________________________________________________\n",
      "conv1d_177 (Conv1D)             (None, 227, 128)     49280       embedding[0][0]                  \n",
      "__________________________________________________________________________________________________\n",
      "conv1d_178 (Conv1D)             (None, 227, 128)     49280       embedding[0][0]                  \n",
      "__________________________________________________________________________________________________\n",
      "conv1d_179 (Conv1D)             (None, 227, 128)     49280       embedding[0][0]                  \n",
      "__________________________________________________________________________________________________\n",
      "conv1d_180 (Conv1D)             (None, 227, 128)     65664       embedding[0][0]                  \n",
      "__________________________________________________________________________________________________\n",
      "conv1d_181 (Conv1D)             (None, 227, 128)     65664       embedding[0][0]                  \n",
      "__________________________________________________________________________________________________\n",
      "conv1d_182 (Conv1D)             (None, 227, 128)     65664       embedding[0][0]                  \n",
      "__________________________________________________________________________________________________\n",
      "conv1d_183 (Conv1D)             (None, 227, 128)     82048       embedding[0][0]                  \n",
      "__________________________________________________________________________________________________\n",
      "conv1d_184 (Conv1D)             (None, 227, 128)     82048       embedding[0][0]                  \n",
      "__________________________________________________________________________________________________\n",
      "conv1d_185 (Conv1D)             (None, 227, 128)     82048       embedding[0][0]                  \n",
      "__________________________________________________________________________________________________\n",
      "max_pooling1d_171 (MaxPooling1D (None, 4, 128)       0           conv1d_177[0][0]                 \n",
      "__________________________________________________________________________________________________\n",
      "max_pooling1d_172 (MaxPooling1D (None, 4, 128)       0           conv1d_178[0][0]                 \n",
      "__________________________________________________________________________________________________\n",
      "max_pooling1d_173 (MaxPooling1D (None, 4, 128)       0           conv1d_179[0][0]                 \n",
      "__________________________________________________________________________________________________\n",
      "max_pooling1d_174 (MaxPooling1D (None, 4, 128)       0           conv1d_180[0][0]                 \n",
      "__________________________________________________________________________________________________\n",
      "max_pooling1d_175 (MaxPooling1D (None, 4, 128)       0           conv1d_181[0][0]                 \n",
      "__________________________________________________________________________________________________\n",
      "max_pooling1d_176 (MaxPooling1D (None, 4, 128)       0           conv1d_182[0][0]                 \n",
      "__________________________________________________________________________________________________\n",
      "max_pooling1d_177 (MaxPooling1D (None, 4, 128)       0           conv1d_183[0][0]                 \n",
      "__________________________________________________________________________________________________\n",
      "max_pooling1d_178 (MaxPooling1D (None, 4, 128)       0           conv1d_184[0][0]                 \n",
      "__________________________________________________________________________________________________\n",
      "max_pooling1d_179 (MaxPooling1D (None, 4, 128)       0           conv1d_185[0][0]                 \n",
      "__________________________________________________________________________________________________\n",
      "concatenate_85 (Concatenate)    (None, 4, 1152)      0           max_pooling1d_171[0][0]          \n",
      "                                                                 max_pooling1d_172[0][0]          \n",
      "                                                                 max_pooling1d_173[0][0]          \n",
      "                                                                 max_pooling1d_174[0][0]          \n",
      "                                                                 max_pooling1d_175[0][0]          \n",
      "                                                                 max_pooling1d_176[0][0]          \n",
      "                                                                 max_pooling1d_177[0][0]          \n",
      "                                                                 max_pooling1d_178[0][0]          \n",
      "                                                                 max_pooling1d_179[0][0]          \n",
      "__________________________________________________________________________________________________\n",
      "flatten_22 (Flatten)            (None, 4608)         0           concatenate_85[0][0]             \n",
      "__________________________________________________________________________________________________\n",
      "dense_70 (Dense)                (None, 100)          460900      flatten_22[0][0]                 \n",
      "__________________________________________________________________________________________________\n",
      "dense_71 (Dense)                (None, 100)          10100       dense_70[0][0]                   \n",
      "__________________________________________________________________________________________________\n",
      "dense_72 (Dense)                (None, 1)            101         dense_71[0][0]                   \n",
      "==================================================================================================\n",
      "Total params: 1,067,581\n",
      "Trainable params: 1,067,581\n",
      "Non-trainable params: 0\n",
      "__________________________________________________________________________________________________\n"
     ]
    }
   ],
   "source": [
    "model = text_cnn_1d(max_sequence_len, vocab_size, embeddings_size, FILTER_SIZES, NUM_FILTERS)\n",
    "model.summary()"
   ]
  },
  {
   "cell_type": "code",
   "execution_count": 609,
   "id": "4c4ab9a3-2878-483b-bc76-2627d64fb13e",
   "metadata": {},
   "outputs": [],
   "source": [
    "# model.summary()"
   ]
  },
  {
   "cell_type": "code",
   "execution_count": 610,
   "id": "4bf115a2-9f1b-42b8-9b62-59728f1da977",
   "metadata": {},
   "outputs": [],
   "source": [
    "def R2(y_true, y_pred):\n",
    "    SS_res =  K.sum(K.square( y_true-y_pred ))\n",
    "    SS_tot = K.sum(K.square( y_true - K.mean(y_true) ) )\n",
    "    return ( 1 - SS_res/(SS_tot + K.epsilon()) )"
   ]
  },
  {
   "cell_type": "code",
   "execution_count": 611,
   "id": "475ce476-98ae-4459-bdbf-145fdee398d0",
   "metadata": {},
   "outputs": [],
   "source": [
    "# # num_filters = 128\n",
    "# dropout_rate=0.1\n",
    "# embeddings_size = 64\n",
    "# model = Sequential()\n",
    "# model.add(Embedding(vocab_size + 1, embeddings_size, input_length=max_sequence_len))\n",
    "# model.add(Conv1D(embeddings_size * 2, 5, activation='linear', padding='valid'))\n",
    "# # model.add(BatchNormalization())\n",
    "# model.add(Activation('relu'))\n",
    "# # model.add(Dropout(dropout_rate))\n",
    "# model.add(MaxPool1D(pool_size=2, strides=2))\n",
    "# model.add(Conv1D(embeddings_size * 4, 5, activation='linear', padding='valid'))\n",
    "# # model.add(BatchNormalization())\n",
    "# model.add(Activation('relu'))\n",
    "# # model.add(Dropout(dropout_rate))\n",
    "# model.add(MaxPool1D(pool_size=2, strides=2))\n",
    "# model.add(Conv1D(num_filters * 6, 5, activation='linear', padding='valid'))\n",
    "# # model.add(BatchNormalization())\n",
    "# model.add(Activation('relu'))\n",
    "# # model.add(Dropout(dropout_rate))\n",
    "# model.add(MaxPool1D(pool_size=2, strides=2))\n",
    "# model.add(GlobalAveragePooling1D())\n",
    "# # model.add(Flatten())\n",
    "# model.add(Dense(50, activation='linear'))\n",
    "# # model.add(BatchNormalization())\n",
    "# model.add(Activation('relu'))\n",
    "# model.add(Dense(1))"
   ]
  },
  {
   "cell_type": "code",
   "execution_count": 612,
   "id": "237c1327-028f-4f70-bd29-ea94cd999686",
   "metadata": {},
   "outputs": [],
   "source": [
    "# model.summary()"
   ]
  },
  {
   "cell_type": "code",
   "execution_count": 619,
   "id": "9138b411-fc5d-41bd-8c8e-c12580cc5b14",
   "metadata": {},
   "outputs": [],
   "source": [
    "model.compile(optimizer=Adam(learning_rate=0.0001), loss='mse', metrics=[R2])"
   ]
  },
  {
   "cell_type": "code",
   "execution_count": 620,
   "id": "62c3f792-f413-4150-8ebf-1f59c5fb986d",
   "metadata": {},
   "outputs": [],
   "source": [
    "mcp = ModelCheckpoint('models/best_model_{epoch}', save_best_only=True, save_format=\"h5\")"
   ]
  },
  {
   "cell_type": "code",
   "execution_count": 689,
   "id": "3f37ab4e-0e3a-44c6-a572-ba5c67930c61",
   "metadata": {
    "tags": []
   },
   "outputs": [
    {
     "name": "stdout",
     "output_type": "stream",
     "text": [
      "Epoch 1/10\n",
      "32/32 [==============================] - 14s 437ms/step - loss: 0.1489 - R2: 0.9454 - val_loss: 0.8806 - val_R2: 0.7069\n",
      "Epoch 2/10\n",
      "32/32 [==============================] - 14s 435ms/step - loss: 0.1414 - R2: 0.9482 - val_loss: 0.9105 - val_R2: 0.7100\n",
      "Epoch 3/10\n",
      "32/32 [==============================] - 14s 433ms/step - loss: 0.1556 - R2: 0.9428 - val_loss: 0.8764 - val_R2: 0.7187\n",
      "Epoch 4/10\n",
      "32/32 [==============================] - 14s 436ms/step - loss: 0.1488 - R2: 0.9461 - val_loss: 0.8875 - val_R2: 0.7096\n",
      "Epoch 5/10\n",
      "32/32 [==============================] - 14s 442ms/step - loss: 0.1542 - R2: 0.9455 - val_loss: 0.8791 - val_R2: 0.7009\n",
      "Epoch 6/10\n",
      "32/32 [==============================] - 14s 435ms/step - loss: 0.1423 - R2: 0.9505 - val_loss: 0.8899 - val_R2: 0.7037\n",
      "Epoch 7/10\n",
      "32/32 [==============================] - 14s 442ms/step - loss: 0.1459 - R2: 0.9471 - val_loss: 0.9018 - val_R2: 0.7052\n",
      "Epoch 8/10\n",
      "32/32 [==============================] - 14s 435ms/step - loss: 0.1422 - R2: 0.9489 - val_loss: 0.8831 - val_R2: 0.7107\n",
      "Epoch 9/10\n",
      "32/32 [==============================] - 14s 435ms/step - loss: 0.1452 - R2: 0.9466 - val_loss: 0.9085 - val_R2: 0.6923\n",
      "Epoch 10/10\n",
      "32/32 [==============================] - 14s 435ms/step - loss: 0.1453 - R2: 0.9473 - val_loss: 0.9013 - val_R2: 0.7077\n"
     ]
    }
   ],
   "source": [
    "history = model.fit(dgen_train, epochs=10, validation_data=dgen_test)"
   ]
  },
  {
   "cell_type": "code",
   "execution_count": 690,
   "id": "76aa6dce-e635-40d7-b330-4c1c1b109396",
   "metadata": {},
   "outputs": [],
   "source": [
    "# model.history.history"
   ]
  },
  {
   "cell_type": "code",
   "execution_count": 691,
   "id": "a0242588-eede-4e85-8b83-f207ea8ab757",
   "metadata": {},
   "outputs": [],
   "source": [
    "X_test_eval = []\n",
    "y_t_eval = []\n",
    "for X_t, y_t in dgen_test:\n",
    "    X_test_eval = X_test_eval + [list(t) for t in X_t]\n",
    "    y_t_eval = y_t_eval + list(y_t)\n",
    "X_test_eval = np.array(X_test_eval)\n",
    "y_test = np.array(y_t_eval)"
   ]
  },
  {
   "cell_type": "code",
   "execution_count": 692,
   "id": "a1437cbf-fe44-4999-a44b-05cea765f22b",
   "metadata": {},
   "outputs": [
    {
     "data": {
      "text/plain": [
       "((1009, 227), (1009,))"
      ]
     },
     "execution_count": 692,
     "metadata": {},
     "output_type": "execute_result"
    }
   ],
   "source": [
    "X_test_eval.shape, y_test.shape"
   ]
  },
  {
   "cell_type": "code",
   "execution_count": 693,
   "id": "0084fbb1-e83e-4808-99bf-1458f3ea3076",
   "metadata": {},
   "outputs": [],
   "source": [
    "y_pred = model.predict(X_test_eval)"
   ]
  },
  {
   "cell_type": "markdown",
   "id": "382979a3-f299-4762-8b6d-10a6ea4d3c70",
   "metadata": {},
   "source": [
    "# Score"
   ]
  },
  {
   "cell_type": "code",
   "execution_count": 694,
   "id": "f9fd5d60-841f-46c3-94b6-5755b4d548cd",
   "metadata": {},
   "outputs": [],
   "source": [
    "r2 = 1 - ((y_test - y_pred.reshape(-1)) ** 2).sum() / ((y_test - y_test.mean()) ** 2).sum()"
   ]
  },
  {
   "cell_type": "code",
   "execution_count": 695,
   "id": "4d2bfabe-2e3e-40cf-a1e8-2d458ee7f328",
   "metadata": {},
   "outputs": [
    {
     "data": {
      "text/plain": [
       "0.7014036846882661"
      ]
     },
     "execution_count": 695,
     "metadata": {},
     "output_type": "execute_result"
    }
   ],
   "source": [
    "r2\n",
    "# 0.4984533246797399"
   ]
  },
  {
   "cell_type": "code",
   "execution_count": 679,
   "id": "85262541-e04a-4ff2-b3e6-a47643db66f6",
   "metadata": {},
   "outputs": [],
   "source": [
    "filename = 'models/embed_128_text_cnn_aug_100x100_0.0001.h5'\n",
    "model.save(filename)"
   ]
  },
  {
   "cell_type": "code",
   "execution_count": 680,
   "id": "67cf753c-a7f6-4b8a-abe3-3253986cc53a",
   "metadata": {},
   "outputs": [],
   "source": [
    "# model.summary()"
   ]
  },
  {
   "cell_type": "markdown",
   "id": "5f683e18-c876-4f7c-93ea-a33d495dcdaa",
   "metadata": {},
   "source": [
    "# Load model (solo si se grabo el modelo)"
   ]
  },
  {
   "cell_type": "code",
   "execution_count": 681,
   "id": "285c8740-f0bb-4237-8593-ff9b815de0e3",
   "metadata": {},
   "outputs": [],
   "source": [
    "from tensorflow.keras.models import load_model"
   ]
  },
  {
   "cell_type": "code",
   "execution_count": 682,
   "id": "2168984f-770c-436e-92da-c1344b1d3abc",
   "metadata": {},
   "outputs": [],
   "source": [
    "model_loaded = load_model(filename, custom_objects={'R2': R2})"
   ]
  },
  {
   "cell_type": "code",
   "execution_count": 683,
   "id": "a8e2770f-4dad-46d3-9a36-ae4edd1ea29e",
   "metadata": {},
   "outputs": [],
   "source": [
    "# model_loaded.summary()"
   ]
  },
  {
   "cell_type": "code",
   "execution_count": 684,
   "id": "13a9d7d8-41e0-44a0-a8b9-02157a11f8f2",
   "metadata": {},
   "outputs": [],
   "source": [
    "y_pred = model_loaded.predict(X_test_eval)"
   ]
  },
  {
   "cell_type": "code",
   "execution_count": 685,
   "id": "26c63493-3f25-4383-9654-58ee62aa3ae5",
   "metadata": {},
   "outputs": [
    {
     "data": {
      "text/plain": [
       "0.7098606662410253"
      ]
     },
     "execution_count": 685,
     "metadata": {},
     "output_type": "execute_result"
    }
   ],
   "source": [
    "r2 = 1 - ((y_test - y_pred.reshape(-1)) ** 2).sum() / ((y_test - y_test.mean()) ** 2).sum()\n",
    "r2"
   ]
  },
  {
   "cell_type": "markdown",
   "id": "7f1a6260-e31f-4e5e-a923-ce67bf31152f",
   "metadata": {},
   "source": [
    "# Evaluación"
   ]
  },
  {
   "cell_type": "code",
   "execution_count": 686,
   "id": "7dd9d7e6-2789-459e-b9dd-593e10847fc4",
   "metadata": {},
   "outputs": [
    {
     "data": {
      "text/plain": [
       "<function matplotlib.pyplot.show(close=None, block=None)>"
      ]
     },
     "execution_count": 686,
     "metadata": {},
     "output_type": "execute_result"
    },
    {
     "data": {
      "image/png": "[encoded data removed]",
      "text/plain": [
       "<Figure size 360x360 with 1 Axes>"
      ]
     },
     "metadata": {},
     "output_type": "display_data"
    }
   ],
   "source": [
    "import seaborn as sns\n",
    "import matplotlib.pyplot as plt\n",
    "\n",
    "sns.set(color_codes=True)\n",
    "sns.set_style(\"white\")\n",
    "\n",
    "ax = sns.regplot(x=y_test, y=y_pred, scatter_kws={'alpha':0.4})\n",
    "ax.set_xlabel('Experimental pIC50', fontsize='large', fontweight='bold')\n",
    "ax.set_ylabel('Predicted pIC50', fontsize='large', fontweight='bold')\n",
    "ax.set_xlim(0, 12)\n",
    "ax.set_ylim(0, 12)\n",
    "ax.figure.set_size_inches(5, 5)\n",
    "plt.show"
   ]
  },
  {
   "cell_type": "markdown",
   "id": "76f567be-4a4a-4e73-998a-575a6afbf603",
   "metadata": {},
   "source": [
    "# TSNE"
   ]
  },
  {
   "cell_type": "code",
   "execution_count": 668,
   "id": "77f4b582-a35b-42db-896d-e2986a77c521",
   "metadata": {},
   "outputs": [],
   "source": [
    "from sklearn.manifold import TSNE\n",
    "from matplotlib import pyplot as plt"
   ]
  },
  {
   "cell_type": "code",
   "execution_count": 669,
   "id": "4927e494-6cb0-4598-93ff-4efd5363b6fb",
   "metadata": {},
   "outputs": [],
   "source": [
    "embedings = model.layers[1].get_weights()[0][1:]"
   ]
  },
  {
   "cell_type": "code",
   "execution_count": 670,
   "id": "1033e69d-2e6c-4a56-9237-8f8063c0b8b8",
   "metadata": {},
   "outputs": [
    {
     "data": {
      "text/plain": [
       "(42, 128)"
      ]
     },
     "execution_count": 670,
     "metadata": {},
     "output_type": "execute_result"
    }
   ],
   "source": [
    "embedings.shape"
   ]
  },
  {
   "cell_type": "code",
   "execution_count": 671,
   "id": "321d751f-a071-40ee-995e-6b111090a782",
   "metadata": {},
   "outputs": [],
   "source": [
    "if embedings.shape[1] == 2:\n",
    "    print('TSNE not necesary. Already in R2')\n",
    "    X_2d = embedings.copy()\n",
    "else:\n",
    "    tsne = TSNE(2)\n",
    "    X_2d = tsne.fit_transform(embedings)\n",
    "    "
   ]
  },
  {
   "cell_type": "code",
   "execution_count": 672,
   "id": "922a0be0-332b-4f08-9455-77b02e1c33bf",
   "metadata": {},
   "outputs": [
    {
     "data": {
      "image/png": "[encoded data removed]",
      "text/plain": [
       "<Figure size 720x720 with 1 Axes>"
      ]
     },
     "metadata": {},
     "output_type": "display_data"
    }
   ],
   "source": [
    "plt.figure(figsize=(10,10))\n",
    "plt.scatter(X_2d[:, 0], X_2d[:, 1], s=1, alpha=0.1)\n",
    "for i, t in enumerate(smiles_dict):\n",
    "    plt.text(X_2d[i, 0], X_2d[i, 1], t, fontsize=16)"
   ]
  },
  {
   "cell_type": "code",
   "execution_count": null,
   "id": "3f9f2cc6-8687-4676-b1aa-437914379f12",
   "metadata": {},
   "outputs": [],
   "source": []
  }
 ],
 "metadata": {
  "kernelspec": {
   "display_name": "Python 3",
   "language": "python",
   "name": "python3"
  },
  "language_info": {
   "codemirror_mode": {
    "name": "ipython",
    "version": 3
   },
   "file_extension": ".py",
   "mimetype": "text/x-python",
   "name": "python",
   "nbconvert_exporter": "python",
   "pygments_lexer": "ipython3",
   "version": "3.7.3"
  }
 },
 "nbformat": 4,
 "nbformat_minor": 5
}
