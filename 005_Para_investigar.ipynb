{
 "cells": [
  {
   "cell_type": "markdown",
   "id": "afc92861-86dc-44ad-b27c-b5ffd044472a",
   "metadata": {},
   "source": [
    "# ¿Que más se podría hacer?"
   ]
  },
  {
   "cell_type": "markdown",
   "id": "704dd533-a652-4bbf-97b9-e2923e11d78d",
   "metadata": {},
   "source": [
    "- Test con data augmentation y la LSTM\n",
    "- Usar los tokenizadores usados en los transformers para ver como funcionan\n",
    "- TSNE de embeddings y analizar si hay interpretación\n",
    "- Probar con otras encimas o proteinas\n",
    "- Usar los embeddings entrenados para analizar resultados de proteinas o encimas con menos data\n",
    "- Entrenar una red neuronal con los features (fingerprints por ejemplo) y comparar los resultados con los embeddings\n"
   ]
  },
  {
   "cell_type": "markdown",
   "id": "2085f015-56fa-4364-958d-b7a0786372af",
   "metadata": {},
   "source": [
    "# Tome cualquiera de estas propuestas o alguna suya y desarrolle"
   ]
  },
  {
   "cell_type": "markdown",
   "id": "462ef6d6-517c-4823-ac1d-1e49bd57fc22",
   "metadata": {},
   "source": [
    "## PROPUESTA DE TSNE"
   ]
  },
  {
   "cell_type": "code",
   "execution_count": 1,
   "id": "3bda68d7-f66c-4457-a876-9a8808961880",
   "metadata": {},
   "outputs": [],
   "source": [
    "import numpy as np\n",
    "import pandas as pd\n",
    "import matplotlib.pyplot as plt\n",
    "import deepchem as dc\n",
    "\n",
    "%matplotlib inline\n",
    "%load_ext autoreload\n",
    "%autoreload 2"
   ]
  },
  {
   "cell_type": "markdown",
   "id": "e4e0d59d-8ea9-4367-8215-6875ff6de0ec",
   "metadata": {
    "tags": []
   },
   "source": [
    "### Fuente de los fingersprint\n",
    "\n",
    "#### RXNFP - huellas dactilares de reaccion quimica\n",
    "#### Esta biblioteca genera huellas de reaccion quimica a partir de la reaccion SMILES"
   ]
  },
  {
   "cell_type": "code",
   "execution_count": 32,
   "id": "edda62e9-6127-4e0e-a15b-805e709a78b9",
   "metadata": {},
   "outputs": [],
   "source": [
    "df = pd.read_csv('data/acetylcholinesterase_02_bioactivity_data_preprocessed.csv')"
   ]
  },
  {
   "cell_type": "code",
   "execution_count": 33,
   "id": "2285693e-af0b-42d6-9c11-f1177629a4b1",
   "metadata": {},
   "outputs": [
    {
     "data": {
      "text/html": [
       "<div>\n",
       "<style scoped>\n",
       "    .dataframe tbody tr th:only-of-type {\n",
       "        vertical-align: middle;\n",
       "    }\n",
       "\n",
       "    .dataframe tbody tr th {\n",
       "        vertical-align: top;\n",
       "    }\n",
       "\n",
       "    .dataframe thead th {\n",
       "        text-align: right;\n",
       "    }\n",
       "</style>\n",
       "<table border=\"1\" class=\"dataframe\">\n",
       "  <thead>\n",
       "    <tr style=\"text-align: right;\">\n",
       "      <th></th>\n",
       "      <th>molecule_chembl_id</th>\n",
       "      <th>canonical_smiles</th>\n",
       "      <th>standard_value</th>\n",
       "      <th>standard_value_norm</th>\n",
       "      <th>pIC50</th>\n",
       "    </tr>\n",
       "  </thead>\n",
       "  <tbody>\n",
       "    <tr>\n",
       "      <th>0</th>\n",
       "      <td>CHEMBL133897</td>\n",
       "      <td>CCOc1nn(-c2cccc(OCc3ccccc3)c2)c(=O)o1</td>\n",
       "      <td>750.0</td>\n",
       "      <td>750.0</td>\n",
       "      <td>6.124939</td>\n",
       "    </tr>\n",
       "    <tr>\n",
       "      <th>1</th>\n",
       "      <td>CHEMBL336398</td>\n",
       "      <td>O=C(N1CCCCC1)n1nc(-c2ccc(Cl)cc2)nc1SCC1CC1</td>\n",
       "      <td>100.0</td>\n",
       "      <td>100.0</td>\n",
       "      <td>7.000000</td>\n",
       "    </tr>\n",
       "    <tr>\n",
       "      <th>2</th>\n",
       "      <td>CHEMBL131588</td>\n",
       "      <td>CN(C(=O)n1nc(-c2ccc(Cl)cc2)nc1SCC(F)(F)F)c1ccccc1</td>\n",
       "      <td>50000.0</td>\n",
       "      <td>50000.0</td>\n",
       "      <td>4.301030</td>\n",
       "    </tr>\n",
       "    <tr>\n",
       "      <th>3</th>\n",
       "      <td>CHEMBL130628</td>\n",
       "      <td>O=C(N1CCCCC1)n1nc(-c2ccc(Cl)cc2)nc1SCC(F)(F)F</td>\n",
       "      <td>300.0</td>\n",
       "      <td>300.0</td>\n",
       "      <td>6.522879</td>\n",
       "    </tr>\n",
       "    <tr>\n",
       "      <th>4</th>\n",
       "      <td>CHEMBL130478</td>\n",
       "      <td>CSc1nc(-c2ccc(OC(F)(F)F)cc2)nn1C(=O)N(C)C</td>\n",
       "      <td>800.0</td>\n",
       "      <td>800.0</td>\n",
       "      <td>6.096910</td>\n",
       "    </tr>\n",
       "    <tr>\n",
       "      <th>...</th>\n",
       "      <td>...</td>\n",
       "      <td>...</td>\n",
       "      <td>...</td>\n",
       "      <td>...</td>\n",
       "      <td>...</td>\n",
       "    </tr>\n",
       "    <tr>\n",
       "      <th>5659</th>\n",
       "      <td>CHEMBL4779440</td>\n",
       "      <td>Brc1ccc([N+]2=Cc3ccccc3CC2)cc1.[Br-]</td>\n",
       "      <td>10500.0</td>\n",
       "      <td>10500.0</td>\n",
       "      <td>4.978811</td>\n",
       "    </tr>\n",
       "    <tr>\n",
       "      <th>5660</th>\n",
       "      <td>CHEMBL417799</td>\n",
       "      <td>C[n+]1cc2c3c(ccc2c2ccc4cc5c(cc4c21)OCO5)OCO3</td>\n",
       "      <td>1220.0</td>\n",
       "      <td>1220.0</td>\n",
       "      <td>5.913640</td>\n",
       "    </tr>\n",
       "    <tr>\n",
       "      <th>5661</th>\n",
       "      <td>CHEMBL13045</td>\n",
       "      <td>COc1ccc2c(c[n+](C)c3c4cc5c(cc4ccc23)OCO5)c1OC</td>\n",
       "      <td>1450.0</td>\n",
       "      <td>1450.0</td>\n",
       "      <td>5.838632</td>\n",
       "    </tr>\n",
       "    <tr>\n",
       "      <th>5662</th>\n",
       "      <td>CHEMBL3085398</td>\n",
       "      <td>C=CC(C)(C)c1cc([C@@H]2CC(=O)c3c(O)cc(O)c(CC=C(...</td>\n",
       "      <td>28980.0</td>\n",
       "      <td>28980.0</td>\n",
       "      <td>4.537902</td>\n",
       "    </tr>\n",
       "    <tr>\n",
       "      <th>5663</th>\n",
       "      <td>CHEMBL253998</td>\n",
       "      <td>CC(C)=CCc1c(O)cc(O)c2c1O[C@H](c1ccccc1)CC2=O</td>\n",
       "      <td>6.4</td>\n",
       "      <td>6.4</td>\n",
       "      <td>8.193820</td>\n",
       "    </tr>\n",
       "  </tbody>\n",
       "</table>\n",
       "<p>5664 rows × 5 columns</p>\n",
       "</div>"
      ],
      "text/plain": [
       "     molecule_chembl_id                                   canonical_smiles  \\\n",
       "0          CHEMBL133897              CCOc1nn(-c2cccc(OCc3ccccc3)c2)c(=O)o1   \n",
       "1          CHEMBL336398         O=C(N1CCCCC1)n1nc(-c2ccc(Cl)cc2)nc1SCC1CC1   \n",
       "2          CHEMBL131588  CN(C(=O)n1nc(-c2ccc(Cl)cc2)nc1SCC(F)(F)F)c1ccccc1   \n",
       "3          CHEMBL130628      O=C(N1CCCCC1)n1nc(-c2ccc(Cl)cc2)nc1SCC(F)(F)F   \n",
       "4          CHEMBL130478          CSc1nc(-c2ccc(OC(F)(F)F)cc2)nn1C(=O)N(C)C   \n",
       "...                 ...                                                ...   \n",
       "5659      CHEMBL4779440               Brc1ccc([N+]2=Cc3ccccc3CC2)cc1.[Br-]   \n",
       "5660       CHEMBL417799       C[n+]1cc2c3c(ccc2c2ccc4cc5c(cc4c21)OCO5)OCO3   \n",
       "5661        CHEMBL13045      COc1ccc2c(c[n+](C)c3c4cc5c(cc4ccc23)OCO5)c1OC   \n",
       "5662      CHEMBL3085398  C=CC(C)(C)c1cc([C@@H]2CC(=O)c3c(O)cc(O)c(CC=C(...   \n",
       "5663       CHEMBL253998       CC(C)=CCc1c(O)cc(O)c2c1O[C@H](c1ccccc1)CC2=O   \n",
       "\n",
       "      standard_value  standard_value_norm     pIC50  \n",
       "0              750.0                750.0  6.124939  \n",
       "1              100.0                100.0  7.000000  \n",
       "2            50000.0              50000.0  4.301030  \n",
       "3              300.0                300.0  6.522879  \n",
       "4              800.0                800.0  6.096910  \n",
       "...              ...                  ...       ...  \n",
       "5659         10500.0              10500.0  4.978811  \n",
       "5660          1220.0               1220.0  5.913640  \n",
       "5661          1450.0               1450.0  5.838632  \n",
       "5662         28980.0              28980.0  4.537902  \n",
       "5663             6.4                  6.4  8.193820  \n",
       "\n",
       "[5664 rows x 5 columns]"
      ]
     },
     "execution_count": 33,
     "metadata": {},
     "output_type": "execute_result"
    }
   ],
   "source": [
    "df"
   ]
  },
  {
   "cell_type": "code",
   "execution_count": 34,
   "id": "14b96b86-a357-46e4-b6e8-30e5c54b04e9",
   "metadata": {},
   "outputs": [],
   "source": [
    "## dataset en el formato que deepchem necesita\n",
    "dataset = dc.data.NumpyDataset(X=df['canonical_smiles'].values, y=df['pIC50'].values, ids=df['canonical_smiles'].values)"
   ]
  },
  {
   "cell_type": "code",
   "execution_count": 35,
   "id": "b7a08051-22a7-4749-81bb-d9948ac3cd6b",
   "metadata": {},
   "outputs": [],
   "source": [
    "# Divido en train y test\n",
    "splitter = dc.splits.RandomSplitter()"
   ]
  },
  {
   "cell_type": "code",
   "execution_count": 36,
   "id": "a7e7017d-9a7c-472d-bfe3-0d9b847bc014",
   "metadata": {},
   "outputs": [],
   "source": [
    "train, test = splitter.train_test_split(dataset)"
   ]
  },
  {
   "cell_type": "code",
   "execution_count": 37,
   "id": "dc02a027-49f3-4f17-923a-5522e382ced3",
   "metadata": {},
   "outputs": [
    {
     "data": {
      "text/plain": [
       "{'#': 1,\n",
       " '(': 2,\n",
       " ')': 3,\n",
       " '+': 4,\n",
       " '-': 5,\n",
       " '/': 6,\n",
       " '1': 7,\n",
       " '2': 8,\n",
       " '3': 9,\n",
       " '4': 10,\n",
       " '5': 11,\n",
       " '6': 12,\n",
       " '7': 13,\n",
       " '8': 14,\n",
       " '=': 15,\n",
       " 'C': 16,\n",
       " 'F': 17,\n",
       " 'H': 18,\n",
       " 'I': 19,\n",
       " 'N': 20,\n",
       " 'O': 21,\n",
       " 'P': 22,\n",
       " 'S': 23,\n",
       " '[': 24,\n",
       " '\\\\': 25,\n",
       " ']': 26,\n",
       " '_': 27,\n",
       " 'c': 28,\n",
       " 'Cl': 29,\n",
       " 'Br': 30,\n",
       " 'n': 31,\n",
       " 'o': 32,\n",
       " 's': 33,\n",
       " '@': 34,\n",
       " '.': 35,\n",
       " 'a': 36,\n",
       " 'B': 37,\n",
       " 'e': 38,\n",
       " 'i': 39}"
      ]
     },
     "execution_count": 37,
     "metadata": {},
     "output_type": "execute_result"
    }
   ],
   "source": [
    "# Genero el diccionario de smiles que necesita el modelo para contruir el embedding\n",
    "\n",
    "smiles_dict, lenght = dc.models.TextCNNModel.build_char_dict(dataset)\n",
    "smiles_dict"
   ]
  },
  {
   "cell_type": "code",
   "execution_count": 38,
   "id": "322025d5-be00-4943-b037-57ed0cc686c1",
   "metadata": {},
   "outputs": [],
   "source": [
    "# Instancio el modelo\n",
    "\n",
    "model = dc.models.TextCNNModel(\n",
    "    1, smiles_dict, lenght, mode='regression', n_embedding=64, kernel_sizes=[3, 4, 5], num_filters=[128, 128, 128], dropout=0., \n",
    "    log_frequency=5, batch_size=128, optimizer=dc.models.optimizers.Adam(learning_rate = 0.001)\n",
    ")"
   ]
  },
  {
   "cell_type": "code",
   "execution_count": 39,
   "id": "3f8f9b38-2015-45e7-9065-d4b950e3b0f4",
   "metadata": {},
   "outputs": [
    {
     "name": "stdout",
     "output_type": "stream",
     "text": [
      "Model: \"model\"\n",
      "__________________________________________________________________________________________________\n",
      " Layer (type)                   Output Shape         Param #     Connected to                     \n",
      "==================================================================================================\n",
      " input_1 (InputLayer)           [(None, 248)]        0           []                               \n",
      "                                                                                                  \n",
      " dtnn_embedding (DTNNEmbedding)  (None, 248, 64)     2560        ['input_1[0][0]']                \n",
      "                                                                                                  \n",
      " conv1d (Conv1D)                (None, 246, 128)     24704       ['dtnn_embedding[0][0]']         \n",
      "                                                                                                  \n",
      " conv1d_1 (Conv1D)              (None, 245, 128)     32896       ['dtnn_embedding[0][0]']         \n",
      "                                                                                                  \n",
      " conv1d_2 (Conv1D)              (None, 244, 128)     41088       ['dtnn_embedding[0][0]']         \n",
      "                                                                                                  \n",
      " lambda (Lambda)                (None, 128)          0           ['conv1d[0][0]']                 \n",
      "                                                                                                  \n",
      " lambda_1 (Lambda)              (None, 128)          0           ['conv1d_1[0][0]']               \n",
      "                                                                                                  \n",
      " lambda_2 (Lambda)              (None, 128)          0           ['conv1d_2[0][0]']               \n",
      "                                                                                                  \n",
      " concatenate (Concatenate)      (None, 384)          0           ['lambda[0][0]',                 \n",
      "                                                                  'lambda_1[0][0]',               \n",
      "                                                                  'lambda_2[0][0]']               \n",
      "                                                                                                  \n",
      " dropout (Dropout)              (None, 384)          0           ['concatenate[0][0]']            \n",
      "                                                                                                  \n",
      " dense (Dense)                  (None, 200)          77000       ['dropout[0][0]']                \n",
      "                                                                                                  \n",
      " highway (Highway)              (None, 200)          80400       ['dense[0][0]']                  \n",
      "                                                                                                  \n",
      " dense_1 (Dense)                (None, 1)            201         ['highway[0][0]']                \n",
      "                                                                                                  \n",
      " reshape (Reshape)              (None, 1, 1)         0           ['dense_1[0][0]']                \n",
      "                                                                                                  \n",
      "==================================================================================================\n",
      "Total params: 258,849\n",
      "Trainable params: 258,849\n",
      "Non-trainable params: 0\n",
      "__________________________________________________________________________________________________\n"
     ]
    }
   ],
   "source": [
    "model.model.summary()"
   ]
  },
  {
   "cell_type": "code",
   "execution_count": 40,
   "id": "9b2521dd-64d0-4dc5-8120-3b7116501c06",
   "metadata": {},
   "outputs": [],
   "source": [
    "# from tensorflow import keras\n",
    "# from keras.callbacks import ReduceLROnPlateau"
   ]
  },
  {
   "cell_type": "code",
   "execution_count": 41,
   "id": "f7e12ae4-df72-4455-b0c8-7d7dc31d9599",
   "metadata": {},
   "outputs": [],
   "source": [
    "# Es necesario para ver resultados mientras entrana\n",
    "vc = dc.models.ValidationCallback(test, 20, dc.metrics.r2_score)\n",
    "# reduce_lr = ReduceLROnPlateau(monitor='val_loss', factor=0.2,\n",
    "#                               patience=5, min_lr=0.001)"
   ]
  },
  {
   "cell_type": "code",
   "execution_count": 42,
   "id": "6d3c0be6-bf91-4603-9afb-212664bec6e4",
   "metadata": {},
   "outputs": [
    {
     "name": "stdout",
     "output_type": "stream",
     "text": [
      "Step 20 validation: metric-1=-0.338553\n",
      "Step 40 validation: metric-1=0.181188\n",
      "Step 60 validation: metric-1=0.227852\n",
      "Step 80 validation: metric-1=0.274388\n",
      "Step 100 validation: metric-1=0.26033\n",
      "Step 120 validation: metric-1=0.321654\n",
      "Step 140 validation: metric-1=0.342436\n",
      "Step 160 validation: metric-1=0.376926\n",
      "Step 180 validation: metric-1=0.391561\n",
      "Step 200 validation: metric-1=0.41627\n",
      "Step 220 validation: metric-1=0.453782\n",
      "Step 240 validation: metric-1=0.462522\n",
      "Step 260 validation: metric-1=0.481525\n",
      "Step 280 validation: metric-1=0.509208\n",
      "Step 300 validation: metric-1=0.48231\n",
      "Step 320 validation: metric-1=0.539548\n",
      "Step 340 validation: metric-1=0.547029\n",
      "Step 360 validation: metric-1=0.537304\n",
      "Step 380 validation: metric-1=0.583382\n",
      "Step 400 validation: metric-1=0.585573\n",
      "Step 420 validation: metric-1=0.509397\n",
      "Step 440 validation: metric-1=0.584046\n",
      "Step 460 validation: metric-1=0.615412\n",
      "Step 480 validation: metric-1=0.599575\n",
      "Step 500 validation: metric-1=0.604413\n",
      "Step 520 validation: metric-1=0.61076\n",
      "Step 540 validation: metric-1=0.621842\n",
      "Step 560 validation: metric-1=0.622392\n",
      "Step 580 validation: metric-1=0.635337\n",
      "Step 600 validation: metric-1=0.644924\n",
      "Step 620 validation: metric-1=0.64003\n",
      "Step 640 validation: metric-1=0.642041\n",
      "Step 660 validation: metric-1=0.65618\n",
      "Step 680 validation: metric-1=0.656206\n",
      "Step 700 validation: metric-1=0.655113\n",
      "Step 720 validation: metric-1=0.659657\n",
      "Step 740 validation: metric-1=0.639664\n",
      "Step 760 validation: metric-1=0.656138\n",
      "Step 780 validation: metric-1=0.55591\n",
      "Step 800 validation: metric-1=0.659253\n",
      "Step 820 validation: metric-1=0.665678\n",
      "Step 840 validation: metric-1=0.669682\n",
      "Step 860 validation: metric-1=0.673859\n",
      "Step 880 validation: metric-1=0.67776\n",
      "Step 900 validation: metric-1=0.618904\n",
      "Step 920 validation: metric-1=0.66942\n",
      "Step 940 validation: metric-1=0.566408\n",
      "Step 960 validation: metric-1=0.671676\n",
      "Step 980 validation: metric-1=0.686153\n",
      "Step 1000 validation: metric-1=0.685286\n",
      "Step 1020 validation: metric-1=0.687601\n",
      "Step 1040 validation: metric-1=0.681202\n",
      "Step 1060 validation: metric-1=0.674758\n",
      "Step 1080 validation: metric-1=0.629981\n",
      "Step 1100 validation: metric-1=0.6777\n",
      "Step 1120 validation: metric-1=0.644488\n",
      "Step 1140 validation: metric-1=0.681434\n",
      "Step 1160 validation: metric-1=0.686198\n",
      "Step 1180 validation: metric-1=0.651474\n",
      "Step 1200 validation: metric-1=0.667449\n",
      "Step 1220 validation: metric-1=0.692863\n",
      "Step 1240 validation: metric-1=0.677206\n",
      "Step 1260 validation: metric-1=0.655768\n",
      "Step 1280 validation: metric-1=0.6965\n",
      "Step 1300 validation: metric-1=0.675617\n",
      "Step 1320 validation: metric-1=0.650564\n",
      "Step 1340 validation: metric-1=0.607071\n",
      "Step 1360 validation: metric-1=0.693279\n",
      "Step 1380 validation: metric-1=0.621531\n",
      "Step 1400 validation: metric-1=0.682798\n",
      "Step 1420 validation: metric-1=0.677898\n",
      "Step 1440 validation: metric-1=0.650116\n",
      "Step 1460 validation: metric-1=0.68399\n",
      "Step 1480 validation: metric-1=0.694547\n",
      "Step 1500 validation: metric-1=0.689163\n",
      "Step 1520 validation: metric-1=0.684732\n",
      "Step 1540 validation: metric-1=0.67357\n",
      "Step 1560 validation: metric-1=0.701397\n",
      "Step 1580 validation: metric-1=0.697757\n",
      "Step 1600 validation: metric-1=0.686494\n",
      "Step 1620 validation: metric-1=0.69872\n",
      "Step 1640 validation: metric-1=0.681436\n",
      "Step 1660 validation: metric-1=0.673111\n",
      "Step 1680 validation: metric-1=0.668861\n",
      "Step 1700 validation: metric-1=0.695089\n",
      "Step 1720 validation: metric-1=0.687234\n",
      "Step 1740 validation: metric-1=0.689366\n",
      "Step 1760 validation: metric-1=0.684118\n",
      "Step 1780 validation: metric-1=0.677114\n",
      "Step 1800 validation: metric-1=0.687001\n",
      "Step 1820 validation: metric-1=0.673448\n",
      "Step 1840 validation: metric-1=0.647541\n",
      "Step 1860 validation: metric-1=0.693278\n",
      "Step 1880 validation: metric-1=0.685814\n",
      "Step 1900 validation: metric-1=0.694535\n",
      "Step 1920 validation: metric-1=0.695386\n",
      "Step 1940 validation: metric-1=0.689749\n",
      "Step 1960 validation: metric-1=0.657956\n",
      "Step 1980 validation: metric-1=0.673558\n",
      "Step 2000 validation: metric-1=0.665762\n",
      "Step 2020 validation: metric-1=0.656402\n",
      "Step 2040 validation: metric-1=0.685813\n",
      "Step 2060 validation: metric-1=0.649397\n",
      "Step 2080 validation: metric-1=0.688218\n",
      "Step 2100 validation: metric-1=0.674119\n",
      "Step 2120 validation: metric-1=0.673005\n",
      "Step 2140 validation: metric-1=0.686651\n",
      "Step 2160 validation: metric-1=0.68326\n",
      "Step 2180 validation: metric-1=0.678573\n",
      "Step 2200 validation: metric-1=0.664059\n",
      "Step 2220 validation: metric-1=0.645969\n",
      "Step 2240 validation: metric-1=0.676712\n",
      "Step 2260 validation: metric-1=0.677629\n",
      "Step 2280 validation: metric-1=0.677524\n",
      "Step 2300 validation: metric-1=0.593869\n",
      "Step 2320 validation: metric-1=0.676044\n",
      "Step 2340 validation: metric-1=0.664116\n",
      "Step 2360 validation: metric-1=0.690255\n",
      "Step 2380 validation: metric-1=0.668979\n",
      "Step 2400 validation: metric-1=0.677263\n",
      "Step 2420 validation: metric-1=0.684915\n",
      "Step 2440 validation: metric-1=0.677835\n",
      "Step 2460 validation: metric-1=0.68457\n",
      "Step 2480 validation: metric-1=0.687754\n",
      "Step 2500 validation: metric-1=0.681501\n",
      "Step 2520 validation: metric-1=0.671058\n",
      "Step 2540 validation: metric-1=0.644819\n",
      "Step 2560 validation: metric-1=0.682913\n",
      "Step 2580 validation: metric-1=0.680461\n",
      "Step 2600 validation: metric-1=0.665036\n",
      "Step 2620 validation: metric-1=0.683279\n",
      "Step 2640 validation: metric-1=0.674548\n",
      "Step 2660 validation: metric-1=0.687433\n",
      "Step 2680 validation: metric-1=0.687319\n",
      "Step 2700 validation: metric-1=0.68286\n",
      "Step 2720 validation: metric-1=0.677382\n",
      "Step 2740 validation: metric-1=0.648491\n",
      "Step 2760 validation: metric-1=0.685754\n",
      "Step 2780 validation: metric-1=0.64846\n",
      "Step 2800 validation: metric-1=0.691667\n",
      "Step 2820 validation: metric-1=0.661345\n",
      "Step 2840 validation: metric-1=0.678204\n",
      "Step 2860 validation: metric-1=0.669177\n",
      "Step 2880 validation: metric-1=0.538694\n",
      "Step 2900 validation: metric-1=0.669968\n",
      "Step 2920 validation: metric-1=0.676367\n",
      "Step 2940 validation: metric-1=0.681828\n",
      "Step 2960 validation: metric-1=0.69276\n",
      "Step 2980 validation: metric-1=0.677561\n",
      "Step 3000 validation: metric-1=0.682471\n",
      "Step 3020 validation: metric-1=0.648294\n",
      "Step 3040 validation: metric-1=0.691295\n",
      "Step 3060 validation: metric-1=0.682549\n",
      "Step 3080 validation: metric-1=0.668508\n",
      "Step 3100 validation: metric-1=0.669104\n",
      "Step 3120 validation: metric-1=0.683104\n",
      "Step 3140 validation: metric-1=0.673561\n",
      "Step 3160 validation: metric-1=0.682036\n",
      "Step 3180 validation: metric-1=0.673204\n",
      "Step 3200 validation: metric-1=0.694068\n",
      "Step 3220 validation: metric-1=0.685736\n",
      "Step 3240 validation: metric-1=0.688428\n",
      "Step 3260 validation: metric-1=0.640024\n",
      "Step 3280 validation: metric-1=0.68421\n",
      "Step 3300 validation: metric-1=0.67852\n",
      "Step 3320 validation: metric-1=0.683716\n",
      "Step 3340 validation: metric-1=0.666822\n",
      "Step 3360 validation: metric-1=0.676769\n",
      "Step 3380 validation: metric-1=0.628232\n",
      "Step 3400 validation: metric-1=0.673522\n",
      "Step 3420 validation: metric-1=0.595287\n",
      "Step 3440 validation: metric-1=0.651574\n",
      "Step 3460 validation: metric-1=0.683878\n",
      "Step 3480 validation: metric-1=0.688847\n",
      "Step 3500 validation: metric-1=0.689691\n",
      "Step 3520 validation: metric-1=0.666086\n",
      "Step 3540 validation: metric-1=0.684262\n",
      "Step 3560 validation: metric-1=0.688015\n",
      "Step 3580 validation: metric-1=0.69029\n",
      "Step 3600 validation: metric-1=0.682438\n"
     ]
    },
    {
     "data": {
      "text/plain": [
       "0.1615348219871521"
      ]
     },
     "execution_count": 42,
     "metadata": {},
     "output_type": "execute_result"
    }
   ],
   "source": [
    "model.fit(train, 100, callbacks=[vc])"
   ]
  },
  {
   "cell_type": "code",
   "execution_count": 43,
   "id": "5976daf6-a626-4325-b362-44f85344527b",
   "metadata": {},
   "outputs": [
    {
     "data": {
      "text/plain": [
       "{'metric-1': 0.9257251429333502}"
      ]
     },
     "execution_count": 43,
     "metadata": {},
     "output_type": "execute_result"
    }
   ],
   "source": [
    "# Evaluó\n",
    "model.evaluate(train, dc.metrics.r2_score)"
   ]
  },
  {
   "cell_type": "code",
   "execution_count": 44,
   "id": "c389fed2-b8ab-452c-a703-be30634479b0",
   "metadata": {},
   "outputs": [
    {
     "data": {
      "text/plain": [
       "{'metric-1': 0.6824379391862421}"
      ]
     },
     "execution_count": 44,
     "metadata": {},
     "output_type": "execute_result"
    }
   ],
   "source": [
    "model.evaluate(test, dc.metrics.r2_score)"
   ]
  },
  {
   "cell_type": "markdown",
   "id": "5fac48dc-90b6-40ec-9e13-b4872b00e221",
   "metadata": {},
   "source": [
    "### Embedding_128_dropout_train = 0.9298857325977588\n",
    "### Embedding_128_dropout_test = 0.6216029859047306\n",
    "-----------------------------------------------------\n",
    "### Embedding_50_dropout_0.3_train = 0.8946426394134877\n",
    "### Embedding_50_dropout_0.3_test = 0.6877007791554051\n",
    "-----------------------------------------------------\n",
    "### Embedding_20_dropout_0.5_train = 0.8727642490048564\n",
    "### Embedding_20_dropout_0.5_test = 0.6753481678191662\n",
    "-----------------------------------------------------\n",
    "### Embedding_30_dropout_0.5_train = 0.8730533918094836\n",
    "### Embedding_30_dropout_0.5_test = 0.6366937879196792\n",
    "-----------------------------------------------------\n",
    "### Embedding_50_dropout_0.5_train = 0.8763333518543397\n",
    "### Embedding_50_dropout_0.5_test = 0.6371364404412685\n",
    "-----------------------------------------------------\n",
    "### Embedding_50_dropout_0.5_lr_0.0005_train = 0.8148850371685529\n",
    "### Embedding_50_dropout_0.5_lr_0.0005_test = 0.60923386242113\n",
    "-----------------------------------------------------\n",
    "### Embedding_50_dropout_0_lr_0.01_train = 0.8798302487697949\n",
    "### Embedding_50_dropout_0_lr_0.01_test = 0.5186884366362529\n",
    "-----------------------------------------------------\n",
    "### Embedding_64_dropout_0_lr_0.01_train = 0.9257251429333502\n",
    "### Embedding_64_dropout_0_lr_0.01_test = 0.6824379391862421"
   ]
  },
  {
   "cell_type": "code",
   "execution_count": null,
   "id": "6198ee5a-04a7-4578-98cb-99375b9f452a",
   "metadata": {},
   "outputs": [],
   "source": []
  }
 ],
 "metadata": {
  "kernelspec": {
   "display_name": "Python 3 (ipykernel)",
   "language": "python",
   "name": "python3"
  },
  "language_info": {
   "codemirror_mode": {
    "name": "ipython",
    "version": 3
   },
   "file_extension": ".py",
   "mimetype": "text/x-python",
   "name": "python",
   "nbconvert_exporter": "python",
   "pygments_lexer": "ipython3",
   "version": "3.8.13"
  }
 },
 "nbformat": 4,
 "nbformat_minor": 5
}
