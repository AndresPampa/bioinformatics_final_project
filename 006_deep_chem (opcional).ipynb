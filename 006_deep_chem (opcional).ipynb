{
 "cells": [
  {
   "cell_type": "code",
   "execution_count": 1,
   "id": "4d51cf97-2013-4d44-a625-46c72bf85dfd",
   "metadata": {},
   "outputs": [],
   "source": [
    "import pandas as pd"
   ]
  },
  {
   "cell_type": "code",
   "execution_count": 2,
   "id": "6fbb2723-7583-4cb6-a7e5-4294d8140530",
   "metadata": {},
   "outputs": [],
   "source": [
    "import deepchem as dc"
   ]
  },
  {
   "cell_type": "code",
   "execution_count": 3,
   "id": "a71b05fb-3c7b-4d2e-b3f6-d05d71f36904",
   "metadata": {},
   "outputs": [],
   "source": [
    "# ! pip install deepchem --user"
   ]
  },
  {
   "cell_type": "markdown",
   "id": "606b84ac-193a-4a45-94ef-63038fa1091c",
   "metadata": {},
   "source": [
    "# Cargo dataset"
   ]
  },
  {
   "cell_type": "code",
   "execution_count": 4,
   "id": "f2e4e0e3-4c6a-43f6-8b46-f2aa3edb3dbc",
   "metadata": {},
   "outputs": [],
   "source": [
    "df = pd.read_csv('data/acetylcholinesterase_02_bioactivity_data_preprocessed.csv')"
   ]
  },
  {
   "cell_type": "code",
   "execution_count": 5,
   "id": "3aed68a2-b156-4f9a-95d1-6d06e70a3447",
   "metadata": {},
   "outputs": [
    {
     "data": {
      "text/html": [
       "<div>\n",
       "<style scoped>\n",
       "    .dataframe tbody tr th:only-of-type {\n",
       "        vertical-align: middle;\n",
       "    }\n",
       "\n",
       "    .dataframe tbody tr th {\n",
       "        vertical-align: top;\n",
       "    }\n",
       "\n",
       "    .dataframe thead th {\n",
       "        text-align: right;\n",
       "    }\n",
       "</style>\n",
       "<table border=\"1\" class=\"dataframe\">\n",
       "  <thead>\n",
       "    <tr style=\"text-align: right;\">\n",
       "      <th></th>\n",
       "      <th>molecule_chembl_id</th>\n",
       "      <th>canonical_smiles</th>\n",
       "      <th>standard_value</th>\n",
       "      <th>standard_value_norm</th>\n",
       "      <th>pIC50</th>\n",
       "    </tr>\n",
       "  </thead>\n",
       "  <tbody>\n",
       "    <tr>\n",
       "      <th>0</th>\n",
       "      <td>CHEMBL133897</td>\n",
       "      <td>CCOc1nn(-c2cccc(OCc3ccccc3)c2)c(=O)o1</td>\n",
       "      <td>750.0</td>\n",
       "      <td>750.0</td>\n",
       "      <td>6.124939</td>\n",
       "    </tr>\n",
       "    <tr>\n",
       "      <th>1</th>\n",
       "      <td>CHEMBL336398</td>\n",
       "      <td>O=C(N1CCCCC1)n1nc(-c2ccc(Cl)cc2)nc1SCC1CC1</td>\n",
       "      <td>100.0</td>\n",
       "      <td>100.0</td>\n",
       "      <td>7.000000</td>\n",
       "    </tr>\n",
       "    <tr>\n",
       "      <th>2</th>\n",
       "      <td>CHEMBL131588</td>\n",
       "      <td>CN(C(=O)n1nc(-c2ccc(Cl)cc2)nc1SCC(F)(F)F)c1ccccc1</td>\n",
       "      <td>50000.0</td>\n",
       "      <td>50000.0</td>\n",
       "      <td>4.301030</td>\n",
       "    </tr>\n",
       "    <tr>\n",
       "      <th>3</th>\n",
       "      <td>CHEMBL130628</td>\n",
       "      <td>O=C(N1CCCCC1)n1nc(-c2ccc(Cl)cc2)nc1SCC(F)(F)F</td>\n",
       "      <td>300.0</td>\n",
       "      <td>300.0</td>\n",
       "      <td>6.522879</td>\n",
       "    </tr>\n",
       "    <tr>\n",
       "      <th>4</th>\n",
       "      <td>CHEMBL130478</td>\n",
       "      <td>CSc1nc(-c2ccc(OC(F)(F)F)cc2)nn1C(=O)N(C)C</td>\n",
       "      <td>800.0</td>\n",
       "      <td>800.0</td>\n",
       "      <td>6.096910</td>\n",
       "    </tr>\n",
       "    <tr>\n",
       "      <th>...</th>\n",
       "      <td>...</td>\n",
       "      <td>...</td>\n",
       "      <td>...</td>\n",
       "      <td>...</td>\n",
       "      <td>...</td>\n",
       "    </tr>\n",
       "    <tr>\n",
       "      <th>5659</th>\n",
       "      <td>CHEMBL4779440</td>\n",
       "      <td>Brc1ccc([N+]2=Cc3ccccc3CC2)cc1.[Br-]</td>\n",
       "      <td>10500.0</td>\n",
       "      <td>10500.0</td>\n",
       "      <td>4.978811</td>\n",
       "    </tr>\n",
       "    <tr>\n",
       "      <th>5660</th>\n",
       "      <td>CHEMBL417799</td>\n",
       "      <td>C[n+]1cc2c3c(ccc2c2ccc4cc5c(cc4c21)OCO5)OCO3</td>\n",
       "      <td>1220.0</td>\n",
       "      <td>1220.0</td>\n",
       "      <td>5.913640</td>\n",
       "    </tr>\n",
       "    <tr>\n",
       "      <th>5661</th>\n",
       "      <td>CHEMBL13045</td>\n",
       "      <td>COc1ccc2c(c[n+](C)c3c4cc5c(cc4ccc23)OCO5)c1OC</td>\n",
       "      <td>1450.0</td>\n",
       "      <td>1450.0</td>\n",
       "      <td>5.838632</td>\n",
       "    </tr>\n",
       "    <tr>\n",
       "      <th>5662</th>\n",
       "      <td>CHEMBL3085398</td>\n",
       "      <td>C=CC(C)(C)c1cc([C@@H]2CC(=O)c3c(O)cc(O)c(CC=C(...</td>\n",
       "      <td>28980.0</td>\n",
       "      <td>28980.0</td>\n",
       "      <td>4.537902</td>\n",
       "    </tr>\n",
       "    <tr>\n",
       "      <th>5663</th>\n",
       "      <td>CHEMBL253998</td>\n",
       "      <td>CC(C)=CCc1c(O)cc(O)c2c1O[C@H](c1ccccc1)CC2=O</td>\n",
       "      <td>6.4</td>\n",
       "      <td>6.4</td>\n",
       "      <td>8.193820</td>\n",
       "    </tr>\n",
       "  </tbody>\n",
       "</table>\n",
       "<p>5664 rows × 5 columns</p>\n",
       "</div>"
      ],
      "text/plain": [
       "     molecule_chembl_id                                   canonical_smiles  \\\n",
       "0          CHEMBL133897              CCOc1nn(-c2cccc(OCc3ccccc3)c2)c(=O)o1   \n",
       "1          CHEMBL336398         O=C(N1CCCCC1)n1nc(-c2ccc(Cl)cc2)nc1SCC1CC1   \n",
       "2          CHEMBL131588  CN(C(=O)n1nc(-c2ccc(Cl)cc2)nc1SCC(F)(F)F)c1ccccc1   \n",
       "3          CHEMBL130628      O=C(N1CCCCC1)n1nc(-c2ccc(Cl)cc2)nc1SCC(F)(F)F   \n",
       "4          CHEMBL130478          CSc1nc(-c2ccc(OC(F)(F)F)cc2)nn1C(=O)N(C)C   \n",
       "...                 ...                                                ...   \n",
       "5659      CHEMBL4779440               Brc1ccc([N+]2=Cc3ccccc3CC2)cc1.[Br-]   \n",
       "5660       CHEMBL417799       C[n+]1cc2c3c(ccc2c2ccc4cc5c(cc4c21)OCO5)OCO3   \n",
       "5661        CHEMBL13045      COc1ccc2c(c[n+](C)c3c4cc5c(cc4ccc23)OCO5)c1OC   \n",
       "5662      CHEMBL3085398  C=CC(C)(C)c1cc([C@@H]2CC(=O)c3c(O)cc(O)c(CC=C(...   \n",
       "5663       CHEMBL253998       CC(C)=CCc1c(O)cc(O)c2c1O[C@H](c1ccccc1)CC2=O   \n",
       "\n",
       "      standard_value  standard_value_norm     pIC50  \n",
       "0              750.0                750.0  6.124939  \n",
       "1              100.0                100.0  7.000000  \n",
       "2            50000.0              50000.0  4.301030  \n",
       "3              300.0                300.0  6.522879  \n",
       "4              800.0                800.0  6.096910  \n",
       "...              ...                  ...       ...  \n",
       "5659         10500.0              10500.0  4.978811  \n",
       "5660          1220.0               1220.0  5.913640  \n",
       "5661          1450.0               1450.0  5.838632  \n",
       "5662         28980.0              28980.0  4.537902  \n",
       "5663             6.4                  6.4  8.193820  \n",
       "\n",
       "[5664 rows x 5 columns]"
      ]
     },
     "execution_count": 5,
     "metadata": {},
     "output_type": "execute_result"
    }
   ],
   "source": [
    "df"
   ]
  },
  {
   "cell_type": "markdown",
   "id": "f86f0c1c-2b49-4f8a-927b-f1e1d0de0511",
   "metadata": {},
   "source": [
    "# Pongo el dataset en el formato que deepchem necesita\n",
    "Quizas aca se podía bajar directo en el formato"
   ]
  },
  {
   "cell_type": "code",
   "execution_count": 6,
   "id": "aabb264c-28d1-4457-add6-59ab0063f961",
   "metadata": {},
   "outputs": [],
   "source": [
    "dataset = dc.data.NumpyDataset(X=df['canonical_smiles'].values, y=df['pIC50'].values, ids=df['canonical_smiles'].values)"
   ]
  },
  {
   "cell_type": "markdown",
   "id": "29f715d2-43cd-48a7-8a83-5f5a31e0a7e5",
   "metadata": {},
   "source": [
    "# Divido en train y test\n",
    "Faltaría validación estrictametne"
   ]
  },
  {
   "cell_type": "code",
   "execution_count": 7,
   "id": "7fb0977e-8077-4855-8877-f7cff12d00a7",
   "metadata": {},
   "outputs": [],
   "source": [
    "splitter = dc.splits.RandomSplitter()"
   ]
  },
  {
   "cell_type": "code",
   "execution_count": 8,
   "id": "c699ac34-8ec5-427d-90ad-a9fe84269914",
   "metadata": {},
   "outputs": [],
   "source": [
    "train, test = splitter.train_test_split(dataset)"
   ]
  },
  {
   "cell_type": "markdown",
   "id": "4c4f3eb9-1d7b-4135-9d48-83e5a7bc6e5a",
   "metadata": {},
   "source": [
    "# Genero el diccionario de smiles que necesita el modelo para contruir el embedding"
   ]
  },
  {
   "cell_type": "code",
   "execution_count": 9,
   "id": "5ef22116-02a5-4744-a003-dbf42dce1326",
   "metadata": {},
   "outputs": [],
   "source": [
    "smiles_dict, lenght = dc.models.TextCNNModel.build_char_dict(dataset)"
   ]
  },
  {
   "cell_type": "code",
   "execution_count": 10,
   "id": "ec8e8868-8ff1-494d-ba44-0b092d79030f",
   "metadata": {},
   "outputs": [
    {
     "data": {
      "text/plain": [
       "{'#': 1,\n",
       " '(': 2,\n",
       " ')': 3,\n",
       " '+': 4,\n",
       " '-': 5,\n",
       " '/': 6,\n",
       " '1': 7,\n",
       " '2': 8,\n",
       " '3': 9,\n",
       " '4': 10,\n",
       " '5': 11,\n",
       " '6': 12,\n",
       " '7': 13,\n",
       " '8': 14,\n",
       " '=': 15,\n",
       " 'C': 16,\n",
       " 'F': 17,\n",
       " 'H': 18,\n",
       " 'I': 19,\n",
       " 'N': 20,\n",
       " 'O': 21,\n",
       " 'P': 22,\n",
       " 'S': 23,\n",
       " '[': 24,\n",
       " '\\\\': 25,\n",
       " ']': 26,\n",
       " '_': 27,\n",
       " 'c': 28,\n",
       " 'Cl': 29,\n",
       " 'Br': 30,\n",
       " 'n': 31,\n",
       " 'o': 32,\n",
       " 's': 33,\n",
       " '@': 34,\n",
       " '.': 35,\n",
       " 'a': 36,\n",
       " 'B': 37,\n",
       " 'e': 38,\n",
       " 'i': 39}"
      ]
     },
     "execution_count": 10,
     "metadata": {},
     "output_type": "execute_result"
    }
   ],
   "source": [
    "smiles_dict"
   ]
  },
  {
   "cell_type": "markdown",
   "id": "30945da2-37eb-4781-a52a-60c6c20618d5",
   "metadata": {},
   "source": [
    "# Instancio el modelo"
   ]
  },
  {
   "cell_type": "code",
   "execution_count": 11,
   "id": "4daaf2d0-681b-41c6-85d6-9ab6ea63fb32",
   "metadata": {},
   "outputs": [],
   "source": [
    "model = dc.models.TextCNNModel(\n",
    "    1, smiles_dict, lenght, mode='regression', n_embedding=128, kernel_sizes=[3, 4, 5], num_filters=[128, 128, 128], dropout=0., \n",
    "    log_frequency=5, batch_size=128, optimizer=dc.models.optimizers.Adam()\n",
    ")"
   ]
  },
  {
   "cell_type": "code",
   "execution_count": 12,
   "id": "bba7fe09-7d35-4ff0-8581-af16998770b2",
   "metadata": {},
   "outputs": [
    {
     "name": "stdout",
     "output_type": "stream",
     "text": [
      "Model: \"model\"\n",
      "__________________________________________________________________________________________________\n",
      " Layer (type)                   Output Shape         Param #     Connected to                     \n",
      "==================================================================================================\n",
      " input_1 (InputLayer)           [(None, 248)]        0           []                               \n",
      "                                                                                                  \n",
      " dtnn_embedding (DTNNEmbedding)  (None, 248, 128)    5120        ['input_1[0][0]']                \n",
      "                                                                                                  \n",
      " conv1d (Conv1D)                (None, 246, 128)     49280       ['dtnn_embedding[0][0]']         \n",
      "                                                                                                  \n",
      " conv1d_1 (Conv1D)              (None, 245, 128)     65664       ['dtnn_embedding[0][0]']         \n",
      "                                                                                                  \n",
      " conv1d_2 (Conv1D)              (None, 244, 128)     82048       ['dtnn_embedding[0][0]']         \n",
      "                                                                                                  \n",
      " lambda (Lambda)                (None, 128)          0           ['conv1d[0][0]']                 \n",
      "                                                                                                  \n",
      " lambda_1 (Lambda)              (None, 128)          0           ['conv1d_1[0][0]']               \n",
      "                                                                                                  \n",
      " lambda_2 (Lambda)              (None, 128)          0           ['conv1d_2[0][0]']               \n",
      "                                                                                                  \n",
      " concatenate (Concatenate)      (None, 384)          0           ['lambda[0][0]',                 \n",
      "                                                                  'lambda_1[0][0]',               \n",
      "                                                                  'lambda_2[0][0]']               \n",
      "                                                                                                  \n",
      " dropout (Dropout)              (None, 384)          0           ['concatenate[0][0]']            \n",
      "                                                                                                  \n",
      " dense (Dense)                  (None, 200)          77000       ['dropout[0][0]']                \n",
      "                                                                                                  \n",
      " highway (Highway)              (None, 200)          80400       ['dense[0][0]']                  \n",
      "                                                                                                  \n",
      " dense_1 (Dense)                (None, 1)            201         ['highway[0][0]']                \n",
      "                                                                                                  \n",
      " reshape (Reshape)              (None, 1, 1)         0           ['dense_1[0][0]']                \n",
      "                                                                                                  \n",
      "==================================================================================================\n",
      "Total params: 359,713\n",
      "Trainable params: 359,713\n",
      "Non-trainable params: 0\n",
      "__________________________________________________________________________________________________\n"
     ]
    }
   ],
   "source": [
    "model.model.summary()"
   ]
  },
  {
   "cell_type": "code",
   "execution_count": 13,
   "id": "902f4e29-2b30-4bb9-9485-ef7bc24f48eb",
   "metadata": {},
   "outputs": [],
   "source": [
    "# Es necesario para ver resultados mientras entrana\n",
    "vc = dc.models.ValidationCallback(test, 20, dc.metrics.r2_score)"
   ]
  },
  {
   "cell_type": "markdown",
   "id": "c58bc3fd-6cee-4441-97eb-2c812ac55d55",
   "metadata": {},
   "source": [
    "# Entreno"
   ]
  },
  {
   "cell_type": "code",
   "execution_count": 14,
   "id": "fbebae78-32a4-4c46-a0d2-0d543c672bd4",
   "metadata": {
    "tags": []
   },
   "outputs": [
    {
     "name": "stdout",
     "output_type": "stream",
     "text": [
      "Step 20 validation: metric-1=-0.323348\n",
      "Step 40 validation: metric-1=0.184278\n",
      "Step 60 validation: metric-1=0.263897\n",
      "Step 80 validation: metric-1=0.289333\n",
      "Step 100 validation: metric-1=0.335718\n",
      "Step 120 validation: metric-1=0.361595\n",
      "Step 140 validation: metric-1=0.393589\n",
      "Step 160 validation: metric-1=0.421935\n",
      "Step 180 validation: metric-1=0.449273\n",
      "Step 200 validation: metric-1=0.483604\n",
      "Step 220 validation: metric-1=0.508941\n",
      "Step 240 validation: metric-1=0.45803\n",
      "Step 260 validation: metric-1=0.512572\n",
      "Step 280 validation: metric-1=0.572717\n",
      "Step 300 validation: metric-1=0.585479\n",
      "Step 320 validation: metric-1=0.57499\n",
      "Step 340 validation: metric-1=0.59193\n",
      "Step 360 validation: metric-1=0.627074\n",
      "Step 380 validation: metric-1=0.63761\n",
      "Step 400 validation: metric-1=0.636363\n",
      "Step 420 validation: metric-1=0.663334\n",
      "Step 440 validation: metric-1=0.605761\n",
      "Step 460 validation: metric-1=0.668174\n",
      "Step 480 validation: metric-1=0.674544\n",
      "Step 500 validation: metric-1=0.685864\n",
      "Step 520 validation: metric-1=0.662643\n",
      "Step 540 validation: metric-1=0.657122\n",
      "Step 560 validation: metric-1=0.687466\n",
      "Step 580 validation: metric-1=0.644136\n",
      "Step 600 validation: metric-1=0.63474\n",
      "Step 620 validation: metric-1=0.711081\n",
      "Step 640 validation: metric-1=0.644559\n",
      "Step 660 validation: metric-1=0.715764\n",
      "Step 680 validation: metric-1=0.719131\n",
      "Step 700 validation: metric-1=0.720427\n",
      "Step 720 validation: metric-1=0.718355\n",
      "Step 740 validation: metric-1=0.732504\n",
      "Step 760 validation: metric-1=0.723646\n",
      "Step 780 validation: metric-1=0.711991\n",
      "Step 800 validation: metric-1=0.697474\n",
      "Step 820 validation: metric-1=0.734713\n",
      "Step 840 validation: metric-1=0.72612\n",
      "Step 860 validation: metric-1=0.735846\n",
      "Step 880 validation: metric-1=0.732634\n",
      "Step 900 validation: metric-1=0.687166\n",
      "Step 920 validation: metric-1=0.734944\n",
      "Step 940 validation: metric-1=0.717691\n",
      "Step 960 validation: metric-1=0.706142\n",
      "Step 980 validation: metric-1=0.689025\n",
      "Step 1000 validation: metric-1=0.696806\n",
      "Step 1020 validation: metric-1=0.725443\n",
      "Step 1040 validation: metric-1=0.731992\n",
      "Step 1060 validation: metric-1=0.743624\n",
      "Step 1080 validation: metric-1=0.727087\n",
      "Step 1100 validation: metric-1=0.729727\n",
      "Step 1120 validation: metric-1=0.731548\n",
      "Step 1140 validation: metric-1=0.731259\n",
      "Step 1160 validation: metric-1=0.743374\n",
      "Step 1180 validation: metric-1=0.722567\n",
      "Step 1200 validation: metric-1=0.739779\n",
      "Step 1220 validation: metric-1=0.741219\n",
      "Step 1240 validation: metric-1=0.720889\n",
      "Step 1260 validation: metric-1=0.744745\n",
      "Step 1280 validation: metric-1=0.739776\n",
      "Step 1300 validation: metric-1=0.669225\n",
      "Step 1320 validation: metric-1=0.736263\n",
      "Step 1340 validation: metric-1=0.744684\n",
      "Step 1360 validation: metric-1=0.741619\n",
      "Step 1380 validation: metric-1=0.725223\n",
      "Step 1400 validation: metric-1=0.724456\n",
      "Step 1420 validation: metric-1=0.727262\n",
      "Step 1440 validation: metric-1=0.574018\n",
      "Step 1460 validation: metric-1=0.722231\n",
      "Step 1480 validation: metric-1=0.730421\n",
      "Step 1500 validation: metric-1=0.740952\n",
      "Step 1520 validation: metric-1=0.743406\n",
      "Step 1540 validation: metric-1=0.740588\n",
      "Step 1560 validation: metric-1=0.684055\n",
      "Step 1580 validation: metric-1=0.741009\n",
      "Step 1600 validation: metric-1=0.745635\n",
      "Step 1620 validation: metric-1=0.730381\n",
      "Step 1640 validation: metric-1=0.673773\n",
      "Step 1660 validation: metric-1=0.723864\n",
      "Step 1680 validation: metric-1=0.698432\n",
      "Step 1700 validation: metric-1=0.746749\n",
      "Step 1720 validation: metric-1=0.743859\n",
      "Step 1740 validation: metric-1=0.746606\n",
      "Step 1760 validation: metric-1=0.745301\n",
      "Step 1780 validation: metric-1=0.743451\n",
      "Step 1800 validation: metric-1=0.743203\n",
      "Step 1820 validation: metric-1=0.748716\n",
      "Step 1840 validation: metric-1=0.74414\n",
      "Step 1860 validation: metric-1=0.735543\n",
      "Step 1880 validation: metric-1=0.717078\n",
      "Step 1900 validation: metric-1=0.743459\n",
      "Step 1920 validation: metric-1=0.736037\n",
      "Step 1940 validation: metric-1=0.728192\n",
      "Step 1960 validation: metric-1=0.730016\n",
      "Step 1980 validation: metric-1=0.728505\n",
      "Step 2000 validation: metric-1=0.703102\n",
      "Step 2020 validation: metric-1=0.731728\n",
      "Step 2040 validation: metric-1=0.735635\n",
      "Step 2060 validation: metric-1=0.704606\n",
      "Step 2080 validation: metric-1=0.737138\n",
      "Step 2100 validation: metric-1=0.743928\n",
      "Step 2120 validation: metric-1=0.736216\n",
      "Step 2140 validation: metric-1=0.746037\n",
      "Step 2160 validation: metric-1=0.708635\n",
      "Step 2180 validation: metric-1=0.734911\n",
      "Step 2200 validation: metric-1=0.709011\n",
      "Step 2220 validation: metric-1=0.732459\n",
      "Step 2240 validation: metric-1=0.708307\n",
      "Step 2260 validation: metric-1=0.738425\n",
      "Step 2280 validation: metric-1=0.733928\n",
      "Step 2300 validation: metric-1=0.72223\n",
      "Step 2320 validation: metric-1=0.734728\n",
      "Step 2340 validation: metric-1=0.602155\n",
      "Step 2360 validation: metric-1=0.704412\n",
      "Step 2380 validation: metric-1=0.72924\n",
      "Step 2400 validation: metric-1=0.705561\n",
      "Step 2420 validation: metric-1=0.741219\n",
      "Step 2440 validation: metric-1=0.727152\n",
      "Step 2460 validation: metric-1=0.744274\n",
      "Step 2480 validation: metric-1=0.738218\n",
      "Step 2500 validation: metric-1=0.745093\n",
      "Step 2520 validation: metric-1=0.716396\n",
      "Step 2540 validation: metric-1=0.678166\n",
      "Step 2560 validation: metric-1=0.731061\n",
      "Step 2580 validation: metric-1=0.738399\n",
      "Step 2600 validation: metric-1=0.728863\n",
      "Step 2620 validation: metric-1=0.733613\n",
      "Step 2640 validation: metric-1=0.73996\n",
      "Step 2660 validation: metric-1=0.730616\n",
      "Step 2680 validation: metric-1=0.736467\n",
      "Step 2700 validation: metric-1=0.686954\n",
      "Step 2720 validation: metric-1=0.668158\n",
      "Step 2740 validation: metric-1=0.723164\n",
      "Step 2760 validation: metric-1=0.745842\n",
      "Step 2780 validation: metric-1=0.735675\n",
      "Step 2800 validation: metric-1=0.721795\n",
      "Step 2820 validation: metric-1=0.739901\n",
      "Step 2840 validation: metric-1=0.719099\n",
      "Step 2860 validation: metric-1=0.726524\n",
      "Step 2880 validation: metric-1=0.712806\n",
      "Step 2900 validation: metric-1=0.73622\n",
      "Step 2920 validation: metric-1=0.642353\n",
      "Step 2940 validation: metric-1=0.731458\n",
      "Step 2960 validation: metric-1=0.736175\n",
      "Step 2980 validation: metric-1=0.711499\n",
      "Step 3000 validation: metric-1=0.736323\n",
      "Step 3020 validation: metric-1=0.731065\n",
      "Step 3040 validation: metric-1=0.728532\n",
      "Step 3060 validation: metric-1=0.634701\n",
      "Step 3080 validation: metric-1=0.720088\n",
      "Step 3100 validation: metric-1=0.719799\n",
      "Step 3120 validation: metric-1=0.732224\n",
      "Step 3140 validation: metric-1=0.735259\n",
      "Step 3160 validation: metric-1=0.723869\n",
      "Step 3180 validation: metric-1=0.688051\n",
      "Step 3200 validation: metric-1=0.740335\n",
      "Step 3220 validation: metric-1=0.710744\n",
      "Step 3240 validation: metric-1=0.698395\n",
      "Step 3260 validation: metric-1=0.742326\n",
      "Step 3280 validation: metric-1=0.730866\n",
      "Step 3300 validation: metric-1=0.725398\n",
      "Step 3320 validation: metric-1=0.726388\n",
      "Step 3340 validation: metric-1=0.731419\n",
      "Step 3360 validation: metric-1=0.736515\n",
      "Step 3380 validation: metric-1=0.730244\n",
      "Step 3400 validation: metric-1=0.707102\n",
      "Step 3420 validation: metric-1=0.710157\n",
      "Step 3440 validation: metric-1=0.720661\n",
      "Step 3460 validation: metric-1=0.729069\n",
      "Step 3480 validation: metric-1=0.736557\n",
      "Step 3500 validation: metric-1=0.7329\n",
      "Step 3520 validation: metric-1=0.739141\n",
      "Step 3540 validation: metric-1=0.721559\n",
      "Step 3560 validation: metric-1=0.73163\n",
      "Step 3580 validation: metric-1=0.741027\n",
      "Step 3600 validation: metric-1=0.725265\n"
     ]
    },
    {
     "data": {
      "text/plain": [
       "0.24329516887664795"
      ]
     },
     "execution_count": 14,
     "metadata": {},
     "output_type": "execute_result"
    }
   ],
   "source": [
    "model.fit(train, 100, callbacks=[vc])"
   ]
  },
  {
   "cell_type": "markdown",
   "id": "f0c63f7a-12dc-4e08-8313-762c38341ff1",
   "metadata": {},
   "source": [
    "# Evaluó"
   ]
  },
  {
   "cell_type": "code",
   "execution_count": 15,
   "id": "e5396dd0-6e26-4394-8622-2f763bbb6070",
   "metadata": {},
   "outputs": [
    {
     "data": {
      "text/plain": [
       "{'metric-1': 0.9251056024692074}"
      ]
     },
     "execution_count": 15,
     "metadata": {},
     "output_type": "execute_result"
    }
   ],
   "source": [
    "model.evaluate(train, dc.metrics.r2_score)"
   ]
  },
  {
   "cell_type": "code",
   "execution_count": 16,
   "id": "d742002f-c864-478c-9e58-cd3a525273dc",
   "metadata": {},
   "outputs": [
    {
     "data": {
      "text/plain": [
       "{'metric-1': 0.7252653390538207}"
      ]
     },
     "execution_count": 16,
     "metadata": {},
     "output_type": "execute_result"
    }
   ],
   "source": [
    "model.evaluate(test, dc.metrics.r2_score)"
   ]
  },
  {
   "cell_type": "code",
   "execution_count": null,
   "id": "50bcd3a1-e412-4f74-884f-00ccbb056adb",
   "metadata": {},
   "outputs": [],
   "source": []
  }
 ],
 "metadata": {
  "kernelspec": {
   "display_name": "Python 3 (ipykernel)",
   "language": "python",
   "name": "python3"
  },
  "language_info": {
   "codemirror_mode": {
    "name": "ipython",
    "version": 3
   },
   "file_extension": ".py",
   "mimetype": "text/x-python",
   "name": "python",
   "nbconvert_exporter": "python",
   "pygments_lexer": "ipython3",
   "version": "3.8.13"
  }
 },
 "nbformat": 4,
 "nbformat_minor": 5
}
